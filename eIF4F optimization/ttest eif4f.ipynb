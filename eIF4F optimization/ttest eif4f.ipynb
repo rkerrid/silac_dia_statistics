{
 "cells": [
  {
   "cell_type": "code",
   "execution_count": 1,
   "id": "de306577-645e-423b-a8c9-0a00ab8e1455",
   "metadata": {
    "tags": []
   },
   "outputs": [],
   "source": [
    "import alphastats \n",
    "import pandas as pd\n",
    "import matplotlib.pyplot as plt\n",
    "import pandas as pd"
   ]
  },
  {
   "cell_type": "code",
   "execution_count": 2,
   "id": "3801de30-e829-458b-9415-70f0d5ae61f5",
   "metadata": {
    "tags": []
   },
   "outputs": [],
   "source": [
    "path = \"G:/My Drive/Data/data/eIF4F optimization/imputed intensities 8hr/\"\n",
    "loader_total = alphastats.GenericLoader(f\"{path}total.csv\", \n",
    "                                  intensity_column = '[Sample]',\n",
    "                                   index_column=\"Protein.Group\")"
   ]
  },
  {
   "cell_type": "code",
   "execution_count": 3,
   "id": "cf910991-3553-42fb-8c18-ffe5c227d806",
   "metadata": {
    "tags": []
   },
   "outputs": [],
   "source": [
    "loader_nsp = alphastats.GenericLoader(f\"{path}nsp.csv\", \n",
    "                                  intensity_column = '[Sample]',\n",
    "                                   index_column=\"Protein.Group\")"
   ]
  },
  {
   "cell_type": "code",
   "execution_count": 4,
   "id": "4b82a16e-6a77-4742-b0dd-44c2f418a9d5",
   "metadata": {
    "tags": []
   },
   "outputs": [],
   "source": [
    "loader_light = alphastats.GenericLoader(f\"{path}light.csv\", \n",
    "                                  intensity_column = '[Sample]',\n",
    "                                   index_column=\"Protein.Group\")"
   ]
  },
  {
   "cell_type": "code",
   "execution_count": 40,
   "id": "1cc354e7-be4b-4bc9-af8d-b7ac178af420",
   "metadata": {
    "tags": []
   },
   "outputs": [
    {
     "name": "stdout",
     "output_type": "stream",
     "text": [
      "DataSet has been created.\n",
      "Attributes of the DataSet can be accessed using: \n",
      "DataSet.rawinput:\t Raw Protein data.\n",
      "DataSet.mat:\t\tProcessed data matrix with ProteinIDs/ProteinGroups as columns and samples as rows. All computations are performed on this matrix.\n",
      "DataSet.metadata:\tMetadata for the samples in the matrix. Metadata will be matched with DataSet.mat when needed (for instance Volcano Plot).\n"
     ]
    }
   ],
   "source": [
    "df_total = alphastats.DataSet(\n",
    "    loader = loader_total,\n",
    "    metadata_path = f\"G:/My Drive/Data/data/eIF4F optimization/meta_8hour.xlsx\",\n",
    "    sample_column = 'Sample')"
   ]
  },
  {
   "cell_type": "code",
   "execution_count": 41,
   "id": "a54a5a7b-bd14-4be5-a653-7fef298241af",
   "metadata": {
    "tags": []
   },
   "outputs": [
    {
     "name": "stdout",
     "output_type": "stream",
     "text": [
      "DataSet has been created.\n",
      "Attributes of the DataSet can be accessed using: \n",
      "DataSet.rawinput:\t Raw Protein data.\n",
      "DataSet.mat:\t\tProcessed data matrix with ProteinIDs/ProteinGroups as columns and samples as rows. All computations are performed on this matrix.\n",
      "DataSet.metadata:\tMetadata for the samples in the matrix. Metadata will be matched with DataSet.mat when needed (for instance Volcano Plot).\n"
     ]
    }
   ],
   "source": [
    "df_light = alphastats.DataSet(\n",
    "    loader = loader_light,\n",
    "    metadata_path = f\"G:/My Drive/Data/data/eIF4F optimization/meta_8hour.xlsx\",\n",
    "    sample_column = 'Sample')"
   ]
  },
  {
   "cell_type": "code",
   "execution_count": 42,
   "id": "3487429f-f629-4275-8c17-97ae6524f32d",
   "metadata": {
    "tags": []
   },
   "outputs": [
    {
     "name": "stdout",
     "output_type": "stream",
     "text": [
      "DataSet has been created.\n",
      "Attributes of the DataSet can be accessed using: \n",
      "DataSet.rawinput:\t Raw Protein data.\n",
      "DataSet.mat:\t\tProcessed data matrix with ProteinIDs/ProteinGroups as columns and samples as rows. All computations are performed on this matrix.\n",
      "DataSet.metadata:\tMetadata for the samples in the matrix. Metadata will be matched with DataSet.mat when needed (for instance Volcano Plot).\n"
     ]
    }
   ],
   "source": [
    "df_nsp = alphastats.DataSet(\n",
    "    loader = loader_nsp,\n",
    "    metadata_path = f\"G:/My Drive/Data/data/eIF4F optimization/meta_8hour.xlsx\",\n",
    "    sample_column = 'Sample')"
   ]
  },
  {
   "cell_type": "code",
   "execution_count": 43,
   "id": "c7ea3e84-4764-4fa8-b1d3-af63b582b460",
   "metadata": {
    "tags": []
   },
   "outputs": [
    {
     "name": "stdout",
     "output_type": "stream",
     "text": [
      "Data has been log2-transformed.\n",
      "Data has been log2-transformed.\n",
      "Data has been log2-transformed.\n"
     ]
    }
   ],
   "source": [
    "# preprocess data, log2 transform\n",
    "df_nsp.preprocess(subset=True)\n",
    "df_total.preprocess(subset=True)\n",
    "df_light.preprocess(subset=True)"
   ]
  },
  {
   "cell_type": "code",
   "execution_count": 44,
   "id": "882c72c9-6e7c-4a29-a290-b53b785eede2",
   "metadata": {
    "tags": []
   },
   "outputs": [],
   "source": [
    "e_total = df_total.diff_expression_analysis(column='eIF4F', group1='eIF4E+', group2='eIF4E-')\n",
    "g1_total = df_total.diff_expression_analysis(column='eIF4F', group1='eIF4G1+', group2='eIF4G1-')\n",
    "g2_total = df_total.diff_expression_analysis(column='eIF4F', group1='eIF4G2+', group2='eIF4G2-')\n",
    "g3_total = df_total.diff_expression_analysis(column='eIF4F', group1='eIF4G3+', group2='eIF4G3-')"
   ]
  },
  {
   "cell_type": "code",
   "execution_count": 45,
   "id": "e68673c1-f8dc-468f-98a1-4a162376733c",
   "metadata": {
    "tags": []
   },
   "outputs": [],
   "source": [
    "e_light = df_light.diff_expression_analysis(column='eIF4F', group1='eIF4E+', group2='eIF4E-')\n",
    "g1_light = df_light.diff_expression_analysis(column='eIF4F', group1='eIF4G1+', group2='eIF4G1-')\n",
    "g2_light = df_light.diff_expression_analysis(column='eIF4F', group1='eIF4G2+', group2='eIF4G2-')\n",
    "g3_light = df_light.diff_expression_analysis(column='eIF4F', group1='eIF4G3+', group2='eIF4G3-')"
   ]
  },
  {
   "cell_type": "code",
   "execution_count": 46,
   "id": "cd9c355e-683e-4b06-ad97-c11634e8fa30",
   "metadata": {
    "tags": []
   },
   "outputs": [],
   "source": [
    "e_nsp = df_nsp.diff_expression_analysis(column='eIF4F', group1='eIF4E+', group2='eIF4E-')\n",
    "g1_nsp = df_nsp.diff_expression_analysis(column='eIF4F', group1='eIF4G1+', group2='eIF4G1-')\n",
    "g2_nsp = df_nsp.diff_expression_analysis(column='eIF4F', group1='eIF4G2+', group2='eIF4G2-')\n",
    "g3_nsp = df_nsp.diff_expression_analysis(column='eIF4F', group1='eIF4G3+', group2='eIF4G3-')"
   ]
  },
  {
   "cell_type": "code",
   "execution_count": 47,
   "id": "0aba9979-084d-4c34-91eb-b4f10393b966",
   "metadata": {
    "tags": []
   },
   "outputs": [],
   "source": [
    "e_total.to_csv(f'{path}e_total.csv', sep=',',index=False)\n",
    "g1_total.to_csv(f'{path}g1_total.csv', sep=',',index=False)\n",
    "g2_total.to_csv(f'{path}g2_total.csv', sep=',',index=False)\n",
    "g3_total.to_csv(f'{path}g3_total.csv', sep=',',index=False)\n",
    "\n",
    "e_light.to_csv(f'{path}e_light.csv', sep=',',index=False)\n",
    "g1_light.to_csv(f'{path}g1_light.csv', sep=',',index=False)\n",
    "g2_light.to_csv(f'{path}g2_light.csv', sep=',',index=False)\n",
    "g3_light.to_csv(f'{path}g3_light.csv', sep=',',index=False)\n",
    "\n",
    "e_nsp.to_csv(f'{path}e_nsp.csv', sep=',',index=False)\n",
    "g1_nsp.to_csv(f'{path}g1_nsp.csv', sep=',',index=False)\n",
    "g2_nsp.to_csv(f'{path}g2_nsp.csv', sep=',',index=False)\n",
    "g3_nsp.to_csv(f'{path}g3_nsp.csv', sep=',',index=False)\n",
    "\n"
   ]
  },
  {
   "cell_type": "code",
   "execution_count": null,
   "id": "0d610194-9dcb-4960-97df-f3d045e22cd5",
   "metadata": {},
   "outputs": [],
   "source": []
  }
 ],
 "metadata": {
  "kernelspec": {
   "display_name": "Python 3 (ipykernel)",
   "language": "python",
   "name": "python3"
  },
  "language_info": {
   "codemirror_mode": {
    "name": "ipython",
    "version": 3
   },
   "file_extension": ".py",
   "mimetype": "text/x-python",
   "name": "python",
   "nbconvert_exporter": "python",
   "pygments_lexer": "ipython3",
   "version": "3.8.18"
  }
 },
 "nbformat": 4,
 "nbformat_minor": 5
}
