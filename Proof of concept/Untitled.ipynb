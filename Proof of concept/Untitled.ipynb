{
 "cells": [
  {
   "cell_type": "code",
   "execution_count": 2,
   "id": "dec0d3c6-d668-4a8c-bbe9-75df57e687f2",
   "metadata": {
    "tags": []
   },
   "outputs": [],
   "source": [
    "\n",
    "import alphastats \n",
    "import pandas as pd\n",
    "import matplotlib.pyplot as plt"
   ]
  },
  {
   "cell_type": "code",
   "execution_count": 3,
   "id": "aee9f382-6a71-4b6f-a2bd-f0a372798a1a",
   "metadata": {
    "tags": []
   },
   "outputs": [],
   "source": [
    "\n",
    "path = \"G:/My Drive/Data/data/no spikein data/\"\n",
    "meta = f\"{path}meta.xlsx\"\n",
    "group = 'Treatment'"
   ]
  },
  {
   "cell_type": "code",
   "execution_count": 14,
   "id": "4b6b2414-113f-44d0-8b20-e43224943e76",
   "metadata": {
    "tags": []
   },
   "outputs": [],
   "source": [
    "loader_total = alphastats.GenericLoader(f\"{path}total_imputed.csv\", \n",
    "                                      intensity_column = '[Run]',\n",
    "                                       index_column=\"Protein.Group\")"
   ]
  },
  {
   "cell_type": "code",
   "execution_count": 15,
   "id": "2687018e-6f51-449d-95ca-062c74192b61",
   "metadata": {
    "tags": []
   },
   "outputs": [
    {
     "name": "stderr",
     "output_type": "stream",
     "text": [
      "WARNING:root:['FAC_3', 'FAC_2', 'FAC_1', 'both_1', 'both_3', 'both_2'] are not described in the protein data andare removed from the metadata.\n"
     ]
    },
    {
     "name": "stdout",
     "output_type": "stream",
     "text": [
      "DataSet has been created.\n",
      "Attributes of the DataSet can be accessed using: \n",
      "DataSet.rawinput:\t Raw Protein data.\n",
      "DataSet.mat:\t\tProcessed data matrix with ProteinIDs/ProteinGroups as columns and samples as rows. All computations are performed on this matrix.\n",
      "DataSet.metadata:\tMetadata for the samples in the matrix. Metadata will be matched with DataSet.mat when needed (for instance Volcano Plot).\n"
     ]
    }
   ],
   "source": [
    " df_total = alphastats.DataSet(\n",
    "        loader = loader_total,\n",
    "        metadata_path = meta,\n",
    "        sample_column = 'Sample')"
   ]
  },
  {
   "cell_type": "code",
   "execution_count": 16,
   "id": "a9313356-0aca-4296-9c5d-4b9965256c0f",
   "metadata": {
    "tags": []
   },
   "outputs": [
    {
     "data": {
      "text/html": [
       "<div>\n",
       "<style scoped>\n",
       "    .dataframe tbody tr th:only-of-type {\n",
       "        vertical-align: middle;\n",
       "    }\n",
       "\n",
       "    .dataframe tbody tr th {\n",
       "        vertical-align: top;\n",
       "    }\n",
       "\n",
       "    .dataframe thead th {\n",
       "        text-align: right;\n",
       "    }\n",
       "</style>\n",
       "<table border=\"1\" class=\"dataframe\">\n",
       "  <thead>\n",
       "    <tr style=\"text-align: right;\">\n",
       "      <th></th>\n",
       "      <th>Run</th>\n",
       "      <th>Sample</th>\n",
       "      <th>Treatment</th>\n",
       "    </tr>\n",
       "  </thead>\n",
       "  <tbody>\n",
       "    <tr>\n",
       "      <th>3</th>\n",
       "      <td>Janice_20231005_AJW_HSdia_px07_Gu3340_1</td>\n",
       "      <td>Gu3340_1</td>\n",
       "      <td>Gu3340</td>\n",
       "    </tr>\n",
       "    <tr>\n",
       "      <th>4</th>\n",
       "      <td>Janice_20231005_AJW_HSdia_px07_Gu3340_2</td>\n",
       "      <td>Gu3340_2</td>\n",
       "      <td>Gu3340</td>\n",
       "    </tr>\n",
       "    <tr>\n",
       "      <th>5</th>\n",
       "      <td>Janice_20231005_AJW_HSdia_px07_Gu3340_3</td>\n",
       "      <td>Gu3340_3</td>\n",
       "      <td>Gu3340</td>\n",
       "    </tr>\n",
       "    <tr>\n",
       "      <th>9</th>\n",
       "      <td>Janice_20231005_AJW_HSdia_px07_control_1</td>\n",
       "      <td>control_1</td>\n",
       "      <td>control</td>\n",
       "    </tr>\n",
       "    <tr>\n",
       "      <th>10</th>\n",
       "      <td>Janice_20231005_AJW_HSdia_px07_control_2</td>\n",
       "      <td>control_2</td>\n",
       "      <td>control</td>\n",
       "    </tr>\n",
       "    <tr>\n",
       "      <th>11</th>\n",
       "      <td>Janice_20231005_AJW_HSdia_px07_control_3</td>\n",
       "      <td>control_3</td>\n",
       "      <td>control</td>\n",
       "    </tr>\n",
       "  </tbody>\n",
       "</table>\n",
       "</div>"
      ],
      "text/plain": [
       "                                         Run     Sample Treatment\n",
       "3    Janice_20231005_AJW_HSdia_px07_Gu3340_1   Gu3340_1    Gu3340\n",
       "4    Janice_20231005_AJW_HSdia_px07_Gu3340_2   Gu3340_2    Gu3340\n",
       "5    Janice_20231005_AJW_HSdia_px07_Gu3340_3   Gu3340_3    Gu3340\n",
       "9   Janice_20231005_AJW_HSdia_px07_control_1  control_1   control\n",
       "10  Janice_20231005_AJW_HSdia_px07_control_2  control_2   control\n",
       "11  Janice_20231005_AJW_HSdia_px07_control_3  control_3   control"
      ]
     },
     "execution_count": 16,
     "metadata": {},
     "output_type": "execute_result"
    }
   ],
   "source": [
    "df_total.metadata\n"
   ]
  },
  {
   "cell_type": "code",
   "execution_count": 17,
   "id": "6192273f-220a-4736-95b1-7e17c4c97203",
   "metadata": {
    "tags": []
   },
   "outputs": [
    {
     "name": "stderr",
     "output_type": "stream",
     "text": [
      "WARNING:root:['FAC_3', 'FAC_2', 'FAC_1', 'both_1', 'both_3', 'both_2'] are not described in the protein data andare removed from the metadata.\n",
      "WARNING:root:['FAC_3', 'FAC_2', 'FAC_1', 'both_1', 'both_3', 'both_2'] are not described in the protein data andare removed from the metadata.\n",
      "WARNING:root:['FAC_3', 'FAC_2', 'FAC_1', 'both_1', 'both_3', 'both_2'] are not described in the protein data andare removed from the metadata.\n"
     ]
    },
    {
     "name": "stdout",
     "output_type": "stream",
     "text": [
      "DataSet has been created.\n",
      "Attributes of the DataSet can be accessed using: \n",
      "DataSet.rawinput:\t Raw Protein data.\n",
      "DataSet.mat:\t\tProcessed data matrix with ProteinIDs/ProteinGroups as columns and samples as rows. All computations are performed on this matrix.\n",
      "DataSet.metadata:\tMetadata for the samples in the matrix. Metadata will be matched with DataSet.mat when needed (for instance Volcano Plot).\n",
      "DataSet has been created.\n",
      "Attributes of the DataSet can be accessed using: \n",
      "DataSet.rawinput:\t Raw Protein data.\n",
      "DataSet.mat:\t\tProcessed data matrix with ProteinIDs/ProteinGroups as columns and samples as rows. All computations are performed on this matrix.\n",
      "DataSet.metadata:\tMetadata for the samples in the matrix. Metadata will be matched with DataSet.mat when needed (for instance Volcano Plot).\n",
      "DataSet has been created.\n",
      "Attributes of the DataSet can be accessed using: \n",
      "DataSet.rawinput:\t Raw Protein data.\n",
      "DataSet.mat:\t\tProcessed data matrix with ProteinIDs/ProteinGroups as columns and samples as rows. All computations are performed on this matrix.\n",
      "DataSet.metadata:\tMetadata for the samples in the matrix. Metadata will be matched with DataSet.mat when needed (for instance Volcano Plot).\n",
      "Data has been log2-transformed.\n",
      "Data has been log2-transformed.\n",
      "Data has been log2-transformed.\n"
     ]
    },
    {
     "name": "stderr",
     "output_type": "stream",
     "text": [
      "100%|██████████████████████████████████████████████████████████████████████████████| 2086/2086 [00:47<00:00, 44.33it/s]\n",
      "100%|████████████████████████████████████████████████████████████████████████████████| 700/700 [00:15<00:00, 44.10it/s]\n",
      "100%|██████████████████████████████████████████████████████████████████████████████| 2078/2078 [00:47<00:00, 44.13it/s]\n"
     ]
    }
   ],
   "source": [
    "\n",
    "def preform_anova(path, meta, group):\n",
    "    loader_total = alphastats.GenericLoader(f\"{path}total_imputed.csv\", \n",
    "                                      intensity_column = '[Run]',\n",
    "                                       index_column=\"Protein.Group\")\n",
    "\n",
    "    loader_light = alphastats.GenericLoader(f\"{path}light_imputed.csv\", \n",
    "                                      intensity_column = '[Run]',\n",
    "                                       index_column=\"Protein.Group\")\n",
    "\n",
    "    loader_nsp = alphastats.GenericLoader(f\"{path}nsp_imputed.csv\", \n",
    "                                      intensity_column = '[Run]',\n",
    "                                       index_column=\"Protein.Group\")\n",
    "\n",
    "\n",
    "    df_total = alphastats.DataSet(\n",
    "        loader = loader_total,\n",
    "        metadata_path = meta,\n",
    "        sample_column = 'Sample')\n",
    "\n",
    "    df_light = alphastats.DataSet(\n",
    "        loader = loader_light,\n",
    "        metadata_path = meta,\n",
    "        sample_column = 'Sample')\n",
    "\n",
    "    df_nsp = alphastats.DataSet(\n",
    "        loader = loader_nsp,\n",
    "        metadata_path = meta,\n",
    "        sample_column = 'Sample')\n",
    "\n",
    "    # preprocess data, log2 transform\n",
    "    df_nsp.preprocess(subset=True)\n",
    "    df_total.preprocess(subset=True)\n",
    "    df_light.preprocess(subset=True)\n",
    "\n",
    "    total_anova = df_total.anova(column = group)\n",
    "\n",
    "    nsp_anova = df_nsp.anova(column = group)\n",
    "\n",
    "    light_anova  = df_light.anova(column = group)\n",
    "\n",
    "    total_anova.to_csv(f'{path}total_anova.csv',sep=',')\n",
    "    light_anova.to_csv(f'{path}light_anova.csv',sep=',')\n",
    "    nsp_anova.to_csv(f'{path}nsp_anova.csv',sep=',')\n",
    "preform_anova(path, meta, group)"
   ]
  },
  {
   "cell_type": "code",
   "execution_count": null,
   "id": "b471f731-21d6-4a30-88b1-c4355466056d",
   "metadata": {},
   "outputs": [],
   "source": []
  }
 ],
 "metadata": {
  "kernelspec": {
   "display_name": "Python 3 (ipykernel)",
   "language": "python",
   "name": "python3"
  },
  "language_info": {
   "codemirror_mode": {
    "name": "ipython",
    "version": 3
   },
   "file_extension": ".py",
   "mimetype": "text/x-python",
   "name": "python",
   "nbconvert_exporter": "python",
   "pygments_lexer": "ipython3",
   "version": "3.8.18"
  }
 },
 "nbformat": 4,
 "nbformat_minor": 5
}
