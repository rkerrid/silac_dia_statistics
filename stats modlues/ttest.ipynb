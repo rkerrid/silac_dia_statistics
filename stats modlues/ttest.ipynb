{
 "cells": [
  {
   "cell_type": "markdown",
   "id": "803b2c69-5df3-4532-80da-c9a140c707ff",
   "metadata": {},
   "source": [
    "# Preform t-test on imputed dfs"
   ]
  },
  {
   "cell_type": "markdown",
   "id": "44aa9dff-fa23-484a-8fa3-0305990bb4e9",
   "metadata": {
    "tags": []
   },
   "source": [
    "This script preforms t-tests on the imputed total, light, and nsp dataframes. Requires path to imputed directory with subsetted metadata and imputed .csv files. Then to apply the t-tests, the treatments need to be compared using the labels in the treatment column of the meta.csv."
   ]
  },
  {
   "cell_type": "code",
   "execution_count": 22,
   "id": "0dade85b-d7d7-4673-89ff-c7a4df32bed8",
   "metadata": {
    "tags": []
   },
   "outputs": [],
   "source": [
    "# imports\n",
    "import ttest\n"
   ]
  },
  {
   "cell_type": "code",
   "execution_count": 23,
   "id": "6447b3fa-b4cb-437b-b425-5a418ad9e82f",
   "metadata": {
    "tags": []
   },
   "outputs": [],
   "source": [
    "# set path\n",
    "path = \"G:/My Drive/Data/data/eIF4F pilot/imputed/\""
   ]
  },
  {
   "cell_type": "code",
   "execution_count": 24,
   "id": "1ae169c3-1e96-4775-ba55-43d0563b21ef",
   "metadata": {
    "tags": []
   },
   "outputs": [
    {
     "name": "stdout",
     "output_type": "stream",
     "text": [
      "DataSet has been created.\n",
      "Attributes of the DataSet can be accessed using: \n",
      "DataSet.rawinput:\t Raw Protein data.\n",
      "DataSet.mat:\t\tProcessed data matrix with ProteinIDs/ProteinGroups as columns and samples as rows. All computations are performed on this matrix.\n",
      "DataSet.metadata:\tMetadata for the samples in the matrix. Metadata will be matched with DataSet.mat when needed (for instance Volcano Plot).\n",
      "DataSet has been created.\n",
      "Attributes of the DataSet can be accessed using: \n",
      "DataSet.rawinput:\t Raw Protein data.\n",
      "DataSet.mat:\t\tProcessed data matrix with ProteinIDs/ProteinGroups as columns and samples as rows. All computations are performed on this matrix.\n",
      "DataSet.metadata:\tMetadata for the samples in the matrix. Metadata will be matched with DataSet.mat when needed (for instance Volcano Plot).\n",
      "DataSet has been created.\n",
      "Attributes of the DataSet can be accessed using: \n",
      "DataSet.rawinput:\t Raw Protein data.\n",
      "DataSet.mat:\t\tProcessed data matrix with ProteinIDs/ProteinGroups as columns and samples as rows. All computations are performed on this matrix.\n",
      "DataSet.metadata:\tMetadata for the samples in the matrix. Metadata will be matched with DataSet.mat when needed (for instance Volcano Plot).\n",
      "Data has been log2-transformed.\n",
      "Data has been log2-transformed.\n",
      "Data has been log2-transformed.\n"
     ]
    }
   ],
   "source": [
    "nsp, light, total = ttest.generate_alphastats_objects(path)"
   ]
  },
  {
   "cell_type": "code",
   "execution_count": 25,
   "id": "556b1e27-d0fd-413d-931f-d06d72ed8fc3",
   "metadata": {
    "tags": []
   },
   "outputs": [],
   "source": [
    "# ttest for total\n",
    "e_total = total.diff_expression_analysis(column='Treatment', group1='e+8h', group2='e-8h')\n",
    "g1_total = total.diff_expression_analysis(column='Treatment', group1='g1+8h', group2='g1-8h')\n",
    "g2_total = total.diff_expression_analysis(column='Treatment', group1='g2+8h', group2='g2-8h')\n",
    "g3_total = total.diff_expression_analysis(column='Treatment', group1='g3+8h', group2='g3-8h')"
   ]
  },
  {
   "cell_type": "code",
   "execution_count": 26,
   "id": "a21abebf-efa6-42a4-81f2-7a62ccee478f",
   "metadata": {
    "tags": []
   },
   "outputs": [],
   "source": [
    "# ttest for light\n",
    "e_light = light.diff_expression_analysis(column='Treatment', group1='e+8h', group2='e-8h')\n",
    "g1_light = light.diff_expression_analysis(column='Treatment', group1='g1+8h', group2='g1-8h')\n",
    "g2_light = light.diff_expression_analysis(column='Treatment', group1='g2+8h', group2='g2-8h')\n",
    "g3_light = light.diff_expression_analysis(column='Treatment', group1='g3+8h', group2='g3-8h')"
   ]
  },
  {
   "cell_type": "code",
   "execution_count": 27,
   "id": "f56442e8-ca12-4ccf-82fe-ee8ccf8899b9",
   "metadata": {
    "tags": []
   },
   "outputs": [],
   "source": [
    "# ttest for nsp\n",
    "e_nsp = nsp.diff_expression_analysis(column='Treatment', group1='e+8h', group2='e-8h')\n",
    "g1_nsp = nsp.diff_expression_analysis(column='Treatment', group1='g1+8h', group2='g1-8h')\n",
    "g2_nsp = nsp.diff_expression_analysis(column='Treatment', group1='g2+8h', group2='g2-8h')\n",
    "g3_nsp = nsp.diff_expression_analysis(column='Treatment', group1='g3+8h', group2='g3-8h')"
   ]
  },
  {
   "cell_type": "code",
   "execution_count": 28,
   "id": "ed18a42b-36b9-47bf-a5ce-9ef5b3fe2be8",
   "metadata": {
    "tags": []
   },
   "outputs": [
    {
     "name": "stdout",
     "output_type": "stream",
     "text": [
      "Folder reports already exists at G:/My Drive/Data/data/eIF4F pilot/imputed/ttest results\n",
      "Folder reports already exists at G:/My Drive/Data/data/eIF4F pilot/imputed/ttest results\n",
      "Folder reports already exists at G:/My Drive/Data/data/eIF4F pilot/imputed/ttest results\n",
      "Folder reports already exists at G:/My Drive/Data/data/eIF4F pilot/imputed/ttest results\n",
      "Folder reports already exists at G:/My Drive/Data/data/eIF4F pilot/imputed/ttest results\n",
      "Folder reports already exists at G:/My Drive/Data/data/eIF4F pilot/imputed/ttest results\n",
      "Folder reports already exists at G:/My Drive/Data/data/eIF4F pilot/imputed/ttest results\n",
      "Folder reports already exists at G:/My Drive/Data/data/eIF4F pilot/imputed/ttest results\n",
      "Folder reports already exists at G:/My Drive/Data/data/eIF4F pilot/imputed/ttest results\n",
      "Folder reports already exists at G:/My Drive/Data/data/eIF4F pilot/imputed/ttest results\n",
      "Folder reports already exists at G:/My Drive/Data/data/eIF4F pilot/imputed/ttest results\n",
      "Folder reports already exists at G:/My Drive/Data/data/eIF4F pilot/imputed/ttest results\n"
     ]
    }
   ],
   "source": [
    "#save results\n",
    "ttest.save_results(path, e_nsp, 'e_nsp.csv')\n",
    "ttest.save_results(path, g1_nsp, 'g1_nsp.csv')\n",
    "ttest.save_results(path, g2_nsp, 'g2_nsp.csv')\n",
    "ttest.save_results(path, g3_nsp, 'g3_nsp.csv')\n",
    "\n",
    "ttest.save_results(path, e_light, 'e_light.csv')\n",
    "ttest.save_results(path, g1_light, 'g1_light.csv')\n",
    "ttest.save_results(path, g2_light, 'g2_light.csv')\n",
    "ttest.save_results(path, g3_light, 'g3_light.csv')\n",
    "\n",
    "ttest.save_results(path, e_total, 'e_total.csv')\n",
    "ttest.save_results(path, g1_total, 'g1_total.csv')\n",
    "ttest.save_results(path, g2_total, 'g2_total.csv')\n",
    "ttest.save_results(path, g3_total, 'g3_total.csv')"
   ]
  },
  {
   "cell_type": "code",
   "execution_count": null,
   "id": "530ecc27-f75d-4f97-bbfa-adc3d5bdf62f",
   "metadata": {},
   "outputs": [],
   "source": []
  }
 ],
 "metadata": {
  "kernelspec": {
   "display_name": "Python 3 (ipykernel)",
   "language": "python",
   "name": "python3"
  },
  "language_info": {
   "codemirror_mode": {
    "name": "ipython",
    "version": 3
   },
   "file_extension": ".py",
   "mimetype": "text/x-python",
   "name": "python",
   "nbconvert_exporter": "python",
   "pygments_lexer": "ipython3",
   "version": "3.8.18"
  }
 },
 "nbformat": 4,
 "nbformat_minor": 5
}
