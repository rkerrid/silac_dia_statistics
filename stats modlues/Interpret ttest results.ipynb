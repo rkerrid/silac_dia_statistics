{
 "cells": [
  {
   "cell_type": "markdown",
   "id": "d3f2b74c-1bf9-46e0-a13c-5943caddf67c",
   "metadata": {},
   "source": [
    "# This script inteprets the ttest results"
   ]
  },
  {
   "cell_type": "markdown",
   "id": "723127fb-aaba-4eed-bbf5-b0fe56d25b20",
   "metadata": {},
   "source": [
    "In this script, we will interpret the results of the ttest from the previous step. It requires the path to the folder of t-test results which will be imported and displayed depending on which plot is required."
   ]
  },
  {
   "cell_type": "code",
   "execution_count": null,
   "id": "dc651e9f-2f43-443e-9247-67fdc1d8e12a",
   "metadata": {
    "tags": []
   },
   "outputs": [],
   "source": [
    "# Imports\n",
    "import interpret_ttest_results as result_interpret\n",
    "import pandas as pd\n",
    "import openai_api_test as openai\n",
    "import ast"
   ]
  },
  {
   "cell_type": "code",
   "execution_count": null,
   "id": "ffe620aa-af46-4436-9ce2-052401063965",
   "metadata": {
    "tags": []
   },
   "outputs": [],
   "source": [
    "path = 'G:/My Drive/Data/data/eIF4F pilot/imputed/ttest results/'"
   ]
  },
  {
   "cell_type": "code",
   "execution_count": null,
   "id": "7d7c7967-e296-48b3-9842-3b90f4725310",
   "metadata": {
    "tags": []
   },
   "outputs": [],
   "source": [
    "# scan folder for results\n",
    "results_paths = result_interpret.scan_folder(path)\n",
    "# label proteins of interest (eIFs)\n",
    "pois = ['EIF1', 'EIF1A', 'EIF2', 'EIF2A', 'EIF2B', 'EIF3', 'EIF4A', 'EIF4B', 'EIF4E', 'EIF4G', 'EIF5', 'EIF5A', 'EIF6']\n",
    "# mtor\n",
    "pois = ['Q9Y4I3', 'Q00653', 'P42345', 'P27448', 'P42336', 'P42338', 'O15511', 'P23458', 'Q9NRR4', 'Q9H8S1', 'Q8WTQ7', 'Q9H3Y6', 'Q7Z434', 'Q9HD23', 'Q9HD24', 'O75676', 'P49137', 'Q9H6R7', 'Q8TB37', 'Q8N122', 'Q8NC51', 'P27348', 'Q5EBM0', 'P31749', 'P31751', 'Q9Y243', 'Q9HBH9', 'Q96B36', 'Q8WVC6', 'Q8TAI7', 'Q8TAM2', 'Q9H492', 'P38936', 'P31750', 'P42344', 'P11362', 'P0CY32', 'Q7Z434', 'Q9HD24', 'Q9Y243', 'Q9H492', 'Q9BZD4', 'Q9Y243', 'O15514', 'Q9H6R7', 'O15169', 'Q8TAM2']\n",
    "# RNA binding\n",
    "#pois = ['PABPC1', 'ELAVL1', 'IGF2BP1', 'IGF2BP2', 'IGF2BP3', 'FXR1', 'FXR2', 'AGO1', 'AGO2', 'AGO3', 'AGO4', 'AGO5', 'EIF4A1', 'EIF4A2', 'EIF4A3', 'TIAL1', 'TIA1', 'LIN28A', 'LIN28B', 'EIF5A']\n",
    "# ribosomal\n",
    "pois = ['P60866','P07738', 'P25398', 'P25815', 'P35268', 'P46777', 'P68104', 'P84098', 'P85375', 'P84077', 'P25325', 'P46776', 'P62280', 'P46063', 'P12081', 'Q07021', 'Q6FI13', 'P61353', 'P62244', 'P15498', 'P62263', 'P05387', 'P20042', 'P41250', 'P23396', 'P61160', 'Q96EL3', 'P68036', 'P62913', 'P25440', 'Q32P51', 'Q06830', 'P62906', 'P02405', 'P62854', 'P46782', 'P02406', 'P62899', 'Q9BUJ2', 'P80404', 'P17844', 'P18124', 'P62875', 'P63165', 'Q07020', 'P08708', 'P82914', 'P46781', 'P46779', 'P62917', 'P60604']\n",
    "# UPS\n",
    "#pois = ['P62195', 'P28074', 'P28072', 'Q99436', 'P38398', 'P62837', 'P61080', 'P17980', 'P61201', 'O15400', 'P28070', 'Q9UBK9', 'P22079', 'P55072', 'Q99497', 'Q9UBS0', 'P19447', 'Q13200', 'P17976', 'P17980', 'Q92793', 'O94776', 'Q13085', 'Q16512', 'O43255', 'O00231', 'O75607', 'Q01094', 'Q753B7', 'P55072', 'Q99497', 'O15146', 'P22079', 'P55040', 'P55036', 'Q9BUL5', 'P55084', 'Q9BT92', 'Q6ZVT0', 'Q76JN6']\n",
    "# FBXO f-box only family\n",
    "#pois = ['Q9NRP7', 'Q8WTP8', 'Q9UKT4', 'Q9NRP8', 'A0A024R692', 'Q9Y223', 'Q8WTW4', 'A8MV54', 'Q8IXQ1', 'Q9NUC5', 'Q9UBP6', 'Q9H1S8', 'A0A087WUG6', 'Q8TEL6', 'A0A024R191', 'P0CG79', 'Q9BQ17', 'Q6SG07', 'O00327', 'Q9H3Y6', 'Q9H269', 'Q66K91', 'A0A024R9J0', 'Q9NVP1', 'Q5MHV7', 'Q9NRP2', 'Q5JR12', 'Q56PJ5', 'Q9UBC9', 'Q6PGP7', 'Q8N662', 'Q9NYW4', 'Q9NXW9', 'O95073', 'P40937', 'Q8NCC3', 'Q9UGL1', 'P0CG86', 'Q8N5F6', 'Q9NWV8', 'Q9BV92', 'A0A024R8M5', 'Q9UNM6', 'Q8WUA2', 'Q8TEZ6', 'Q96NM4', 'Q6P1M0', 'Q9Y4W6', 'P0CG85', 'Q8NG31', 'O95466', 'P28062', 'Q9Y236', 'Q6P1J0', 'P0CG90', 'Q9UBU2', 'Q8N3I7', 'Q5MJV4', 'Q9UNK0', 'A0A024R7I4', 'Q9NRJ7', 'Q8WUJ3', 'Q9UKN8', 'P0CG87', 'Q9BTAB', 'Q8WUN1']\n"
   ]
  },
  {
   "cell_type": "code",
   "execution_count": null,
   "id": "def40864-2a72-4256-a963-01a023cdfaa9",
   "metadata": {
    "tags": []
   },
   "outputs": [],
   "source": [
    "# get pois using chatgpt request (in development)\n",
    "question = \"Give me a list of human proteins containing eIF\"\n",
    "pois = openai.get_list(question)\n",
    "#print(pois)\n",
    "#print(type(pois))\n",
    "                           "
   ]
  },
  {
   "cell_type": "code",
   "execution_count": null,
   "id": "e89172e6-a330-4cd9-83a1-951906673ae1",
   "metadata": {
    "tags": []
   },
   "outputs": [],
   "source": [
    "pois"
   ]
  },
  {
   "cell_type": "code",
   "execution_count": 37,
   "id": "c660e23f-6f19-48fc-89ca-a0939c460af2",
   "metadata": {
    "tags": []
   },
   "outputs": [],
   "source": [
    "#results_paths"
   ]
  },
  {
   "cell_type": "code",
   "execution_count": 38,
   "id": "37cf10d8-fd6c-48ed-9a9e-97deedfa3397",
   "metadata": {
    "tags": []
   },
   "outputs": [
    {
     "data": {
      "application/vnd.jupyter.widget-view+json": {
       "model_id": "e073f72ebe9a4a19ad29b3d0636a7b60",
       "version_major": 2,
       "version_minor": 0
      },
      "text/plain": [
       "VBox(children=(FloatSlider(value=0.05, continuous_update=False, description='Significance Level:', max=0.1, mi…"
      ]
     },
     "metadata": {},
     "output_type": "display_data"
    },
    {
     "data": {
      "application/vnd.jupyter.widget-view+json": {
       "model_id": "ee6bdbea3f744670bf496d020182c852",
       "version_major": 2,
       "version_minor": 0
      },
      "text/plain": [
       "Output()"
      ]
     },
     "metadata": {},
     "output_type": "display_data"
    },
    {
     "data": {
      "application/vnd.jupyter.widget-view+json": {
       "model_id": "e6fd4959b1c744ea8cb275a0ce714af5",
       "version_major": 2,
       "version_minor": 0
      },
      "text/plain": [
       "Output()"
      ]
     },
     "metadata": {},
     "output_type": "display_data"
    },
    {
     "data": {
      "application/vnd.jupyter.widget-view+json": {
       "model_id": "75641fa8b48a4c24b6d0cf2e6fd36548",
       "version_major": 2,
       "version_minor": 0
      },
      "text/plain": [
       "VBox(children=(FloatSlider(value=0.05, continuous_update=False, description='Significance Level:', max=0.1, mi…"
      ]
     },
     "metadata": {},
     "output_type": "display_data"
    },
    {
     "data": {
      "application/vnd.jupyter.widget-view+json": {
       "model_id": "995c511a58e84c2db5a3a97c3192c908",
       "version_major": 2,
       "version_minor": 0
      },
      "text/plain": [
       "Output()"
      ]
     },
     "metadata": {},
     "output_type": "display_data"
    },
    {
     "data": {
      "application/vnd.jupyter.widget-view+json": {
       "model_id": "1cf57cbcaae440f7905bc50f026cc63a",
       "version_major": 2,
       "version_minor": 0
      },
      "text/plain": [
       "Output()"
      ]
     },
     "metadata": {},
     "output_type": "display_data"
    },
    {
     "data": {
      "application/vnd.jupyter.widget-view+json": {
       "model_id": "882234d92a124e4d997f861550b8d19a",
       "version_major": 2,
       "version_minor": 0
      },
      "text/plain": [
       "VBox(children=(FloatSlider(value=0.05, continuous_update=False, description='Significance Level:', max=0.1, mi…"
      ]
     },
     "metadata": {},
     "output_type": "display_data"
    },
    {
     "data": {
      "application/vnd.jupyter.widget-view+json": {
       "model_id": "cb06d241079f46bf835144c4e30ffc61",
       "version_major": 2,
       "version_minor": 0
      },
      "text/plain": [
       "Output()"
      ]
     },
     "metadata": {},
     "output_type": "display_data"
    },
    {
     "data": {
      "application/vnd.jupyter.widget-view+json": {
       "model_id": "e14cd878660c47bda61880fb24c0506a",
       "version_major": 2,
       "version_minor": 0
      },
      "text/plain": [
       "Output()"
      ]
     },
     "metadata": {},
     "output_type": "display_data"
    },
    {
     "data": {
      "application/vnd.jupyter.widget-view+json": {
       "model_id": "26cd4f29e6924782bfd52a02a099fca7",
       "version_major": 2,
       "version_minor": 0
      },
      "text/plain": [
       "VBox(children=(FloatSlider(value=0.05, continuous_update=False, description='Significance Level:', max=0.1, mi…"
      ]
     },
     "metadata": {},
     "output_type": "display_data"
    },
    {
     "data": {
      "application/vnd.jupyter.widget-view+json": {
       "model_id": "020666df4f0f458ab18df770c9d5fb82",
       "version_major": 2,
       "version_minor": 0
      },
      "text/plain": [
       "Output()"
      ]
     },
     "metadata": {},
     "output_type": "display_data"
    },
    {
     "data": {
      "application/vnd.jupyter.widget-view+json": {
       "model_id": "c826bf3eea6849418258334bce83b100",
       "version_major": 2,
       "version_minor": 0
      },
      "text/plain": [
       "Output()"
      ]
     },
     "metadata": {},
     "output_type": "display_data"
    },
    {
     "data": {
      "application/vnd.jupyter.widget-view+json": {
       "model_id": "074eaaaf9a6e42199946fa8fb4e7fc1b",
       "version_major": 2,
       "version_minor": 0
      },
      "text/plain": [
       "VBox(children=(FloatSlider(value=0.05, continuous_update=False, description='Significance Level:', max=0.1, mi…"
      ]
     },
     "metadata": {},
     "output_type": "display_data"
    },
    {
     "data": {
      "application/vnd.jupyter.widget-view+json": {
       "model_id": "7658dbd2efd1498b9b4a31836878fdb8",
       "version_major": 2,
       "version_minor": 0
      },
      "text/plain": [
       "Output()"
      ]
     },
     "metadata": {},
     "output_type": "display_data"
    },
    {
     "data": {
      "application/vnd.jupyter.widget-view+json": {
       "model_id": "6d7e1718f8cd423ab8c9c04d8afd036d",
       "version_major": 2,
       "version_minor": 0
      },
      "text/plain": [
       "Output()"
      ]
     },
     "metadata": {},
     "output_type": "display_data"
    },
    {
     "data": {
      "application/vnd.jupyter.widget-view+json": {
       "model_id": "22aed72e58c046138fa3e4185576d6bb",
       "version_major": 2,
       "version_minor": 0
      },
      "text/plain": [
       "VBox(children=(FloatSlider(value=0.05, continuous_update=False, description='Significance Level:', max=0.1, mi…"
      ]
     },
     "metadata": {},
     "output_type": "display_data"
    },
    {
     "data": {
      "application/vnd.jupyter.widget-view+json": {
       "model_id": "91e89e9f4e9e496cb60132e5137ab5a9",
       "version_major": 2,
       "version_minor": 0
      },
      "text/plain": [
       "Output()"
      ]
     },
     "metadata": {},
     "output_type": "display_data"
    },
    {
     "data": {
      "application/vnd.jupyter.widget-view+json": {
       "model_id": "358b36f5077a4a96be6cd07c6eea8ad5",
       "version_major": 2,
       "version_minor": 0
      },
      "text/plain": [
       "Output()"
      ]
     },
     "metadata": {},
     "output_type": "display_data"
    },
    {
     "data": {
      "application/vnd.jupyter.widget-view+json": {
       "model_id": "ef27d72a64194a27aaea028a1c07f5fd",
       "version_major": 2,
       "version_minor": 0
      },
      "text/plain": [
       "VBox(children=(FloatSlider(value=0.05, continuous_update=False, description='Significance Level:', max=0.1, mi…"
      ]
     },
     "metadata": {},
     "output_type": "display_data"
    },
    {
     "data": {
      "application/vnd.jupyter.widget-view+json": {
       "model_id": "e2c06abc3e144df38cbc05b043a3c33b",
       "version_major": 2,
       "version_minor": 0
      },
      "text/plain": [
       "Output()"
      ]
     },
     "metadata": {},
     "output_type": "display_data"
    },
    {
     "data": {
      "application/vnd.jupyter.widget-view+json": {
       "model_id": "ced6f5d5a318443abad2bbe7bbbf4288",
       "version_major": 2,
       "version_minor": 0
      },
      "text/plain": [
       "Output()"
      ]
     },
     "metadata": {},
     "output_type": "display_data"
    },
    {
     "data": {
      "application/vnd.jupyter.widget-view+json": {
       "model_id": "5fd951c09ec44bfd932fb9b32612b817",
       "version_major": 2,
       "version_minor": 0
      },
      "text/plain": [
       "VBox(children=(FloatSlider(value=0.05, continuous_update=False, description='Significance Level:', max=0.1, mi…"
      ]
     },
     "metadata": {},
     "output_type": "display_data"
    },
    {
     "data": {
      "application/vnd.jupyter.widget-view+json": {
       "model_id": "78ec6e8ab2ca44088acacffba6d87026",
       "version_major": 2,
       "version_minor": 0
      },
      "text/plain": [
       "Output()"
      ]
     },
     "metadata": {},
     "output_type": "display_data"
    },
    {
     "data": {
      "application/vnd.jupyter.widget-view+json": {
       "model_id": "50258de0e65f4b059a817663adcb7211",
       "version_major": 2,
       "version_minor": 0
      },
      "text/plain": [
       "Output()"
      ]
     },
     "metadata": {},
     "output_type": "display_data"
    },
    {
     "data": {
      "application/vnd.jupyter.widget-view+json": {
       "model_id": "be1f72e200ff4666b01cd67e7fa20b76",
       "version_major": 2,
       "version_minor": 0
      },
      "text/plain": [
       "VBox(children=(FloatSlider(value=0.05, continuous_update=False, description='Significance Level:', max=0.1, mi…"
      ]
     },
     "metadata": {},
     "output_type": "display_data"
    },
    {
     "data": {
      "application/vnd.jupyter.widget-view+json": {
       "model_id": "b28a801aa4934ba687736d82c494c05b",
       "version_major": 2,
       "version_minor": 0
      },
      "text/plain": [
       "Output()"
      ]
     },
     "metadata": {},
     "output_type": "display_data"
    },
    {
     "data": {
      "application/vnd.jupyter.widget-view+json": {
       "model_id": "333e0caa52974c51b11a092d887da0df",
       "version_major": 2,
       "version_minor": 0
      },
      "text/plain": [
       "Output()"
      ]
     },
     "metadata": {},
     "output_type": "display_data"
    },
    {
     "data": {
      "application/vnd.jupyter.widget-view+json": {
       "model_id": "2e4925b0f0e64ca0bab18b099fb159ca",
       "version_major": 2,
       "version_minor": 0
      },
      "text/plain": [
       "VBox(children=(FloatSlider(value=0.05, continuous_update=False, description='Significance Level:', max=0.1, mi…"
      ]
     },
     "metadata": {},
     "output_type": "display_data"
    },
    {
     "data": {
      "application/vnd.jupyter.widget-view+json": {
       "model_id": "2af0ff1244084a8dbd599966a2a3460e",
       "version_major": 2,
       "version_minor": 0
      },
      "text/plain": [
       "Output()"
      ]
     },
     "metadata": {},
     "output_type": "display_data"
    },
    {
     "data": {
      "application/vnd.jupyter.widget-view+json": {
       "model_id": "a31b3054fb3d4ccb96455679e3d6d80b",
       "version_major": 2,
       "version_minor": 0
      },
      "text/plain": [
       "Output()"
      ]
     },
     "metadata": {},
     "output_type": "display_data"
    },
    {
     "data": {
      "application/vnd.jupyter.widget-view+json": {
       "model_id": "e5662a28aeb249d98d083ab99fa6d38f",
       "version_major": 2,
       "version_minor": 0
      },
      "text/plain": [
       "VBox(children=(FloatSlider(value=0.05, continuous_update=False, description='Significance Level:', max=0.1, mi…"
      ]
     },
     "metadata": {},
     "output_type": "display_data"
    },
    {
     "data": {
      "application/vnd.jupyter.widget-view+json": {
       "model_id": "4ba4ff0f0169406a8bed95e9bb787951",
       "version_major": 2,
       "version_minor": 0
      },
      "text/plain": [
       "Output()"
      ]
     },
     "metadata": {},
     "output_type": "display_data"
    },
    {
     "data": {
      "application/vnd.jupyter.widget-view+json": {
       "model_id": "7fed10f2a119429a9ceafcaa4cc976f1",
       "version_major": 2,
       "version_minor": 0
      },
      "text/plain": [
       "Output()"
      ]
     },
     "metadata": {},
     "output_type": "display_data"
    },
    {
     "data": {
      "application/vnd.jupyter.widget-view+json": {
       "model_id": "6b24aa4575014459b2ffc24d43cfae59",
       "version_major": 2,
       "version_minor": 0
      },
      "text/plain": [
       "VBox(children=(FloatSlider(value=0.05, continuous_update=False, description='Significance Level:', max=0.1, mi…"
      ]
     },
     "metadata": {},
     "output_type": "display_data"
    },
    {
     "data": {
      "application/vnd.jupyter.widget-view+json": {
       "model_id": "0dcafe7836144727aae6bc5f5042b7f8",
       "version_major": 2,
       "version_minor": 0
      },
      "text/plain": [
       "Output()"
      ]
     },
     "metadata": {},
     "output_type": "display_data"
    },
    {
     "data": {
      "application/vnd.jupyter.widget-view+json": {
       "model_id": "1cfca0f4768f4a03845a8ef60eebc830",
       "version_major": 2,
       "version_minor": 0
      },
      "text/plain": [
       "Output()"
      ]
     },
     "metadata": {},
     "output_type": "display_data"
    },
    {
     "ename": "ParserError",
     "evalue": "Error tokenizing data. C error: Expected 1 fields in line 5, saw 2\n",
     "output_type": "error",
     "traceback": [
      "\u001b[1;31m---------------------------------------------------------------------------\u001b[0m",
      "\u001b[1;31mParserError\u001b[0m                               Traceback (most recent call last)",
      "Cell \u001b[1;32mIn[38], line 2\u001b[0m\n\u001b[0;32m      1\u001b[0m \u001b[38;5;66;03m# generate plots \u001b[39;00m\n\u001b[1;32m----> 2\u001b[0m \u001b[43mresult_interpret\u001b[49m\u001b[38;5;241;43m.\u001b[39;49m\u001b[43mloop_and_plot_results\u001b[49m\u001b[43m(\u001b[49m\u001b[43mpath\u001b[49m\u001b[43m,\u001b[49m\u001b[43m \u001b[49m\u001b[43mresults_paths\u001b[49m\u001b[43m,\u001b[49m\u001b[43m \u001b[49m\u001b[43mpois\u001b[49m\u001b[43m,\u001b[49m\u001b[43m \u001b[49m\u001b[43muniprot\u001b[49m\u001b[38;5;241;43m=\u001b[39;49m\u001b[38;5;28;43;01mTrue\u001b[39;49;00m\u001b[43m)\u001b[49m\n",
      "File \u001b[1;32mC:\\phd projects\\silac_dia_statistics\\stats modlues\\interpret_ttest_results.py:174\u001b[0m, in \u001b[0;36mloop_and_plot_results\u001b[1;34m(path, result_list, pois, uniprot)\u001b[0m\n\u001b[0;32m    172\u001b[0m \u001b[38;5;28;01mfor\u001b[39;00m result \u001b[38;5;129;01min\u001b[39;00m result_list:\n\u001b[0;32m    173\u001b[0m     name \u001b[38;5;241m=\u001b[39m result[:\u001b[38;5;241m-\u001b[39m\u001b[38;5;241m4\u001b[39m]\n\u001b[1;32m--> 174\u001b[0m     df \u001b[38;5;241m=\u001b[39m \u001b[43mpd\u001b[49m\u001b[38;5;241;43m.\u001b[39;49m\u001b[43mread_csv\u001b[49m\u001b[43m(\u001b[49m\u001b[38;5;124;43mf\u001b[39;49m\u001b[38;5;124;43m'\u001b[39;49m\u001b[38;5;132;43;01m{\u001b[39;49;00m\u001b[43mpath\u001b[49m\u001b[38;5;132;43;01m}\u001b[39;49;00m\u001b[38;5;124;43m/\u001b[39;49m\u001b[38;5;132;43;01m{\u001b[39;49;00m\u001b[43mresult\u001b[49m\u001b[38;5;132;43;01m}\u001b[39;49;00m\u001b[38;5;124;43m'\u001b[39;49m\u001b[43m)\u001b[49m\n\u001b[0;32m    175\u001b[0m     \u001b[38;5;28;01mif\u001b[39;00m \u001b[38;5;28mlen\u001b[39m(df) \u001b[38;5;241m>\u001b[39m \u001b[38;5;241m1000\u001b[39m:\n\u001b[0;32m    176\u001b[0m         df \u001b[38;5;241m=\u001b[39m reduce_df_size(df, \u001b[38;5;241m1000\u001b[39m)\n",
      "File \u001b[1;32m~\\AppData\\Local\\miniconda3\\envs\\silac_dia_statistics\\lib\\site-packages\\pandas\\io\\parsers\\readers.py:912\u001b[0m, in \u001b[0;36mread_csv\u001b[1;34m(filepath_or_buffer, sep, delimiter, header, names, index_col, usecols, dtype, engine, converters, true_values, false_values, skipinitialspace, skiprows, skipfooter, nrows, na_values, keep_default_na, na_filter, verbose, skip_blank_lines, parse_dates, infer_datetime_format, keep_date_col, date_parser, date_format, dayfirst, cache_dates, iterator, chunksize, compression, thousands, decimal, lineterminator, quotechar, quoting, doublequote, escapechar, comment, encoding, encoding_errors, dialect, on_bad_lines, delim_whitespace, low_memory, memory_map, float_precision, storage_options, dtype_backend)\u001b[0m\n\u001b[0;32m    899\u001b[0m kwds_defaults \u001b[38;5;241m=\u001b[39m _refine_defaults_read(\n\u001b[0;32m    900\u001b[0m     dialect,\n\u001b[0;32m    901\u001b[0m     delimiter,\n\u001b[1;32m   (...)\u001b[0m\n\u001b[0;32m    908\u001b[0m     dtype_backend\u001b[38;5;241m=\u001b[39mdtype_backend,\n\u001b[0;32m    909\u001b[0m )\n\u001b[0;32m    910\u001b[0m kwds\u001b[38;5;241m.\u001b[39mupdate(kwds_defaults)\n\u001b[1;32m--> 912\u001b[0m \u001b[38;5;28;01mreturn\u001b[39;00m \u001b[43m_read\u001b[49m\u001b[43m(\u001b[49m\u001b[43mfilepath_or_buffer\u001b[49m\u001b[43m,\u001b[49m\u001b[43m \u001b[49m\u001b[43mkwds\u001b[49m\u001b[43m)\u001b[49m\n",
      "File \u001b[1;32m~\\AppData\\Local\\miniconda3\\envs\\silac_dia_statistics\\lib\\site-packages\\pandas\\io\\parsers\\readers.py:583\u001b[0m, in \u001b[0;36m_read\u001b[1;34m(filepath_or_buffer, kwds)\u001b[0m\n\u001b[0;32m    580\u001b[0m     \u001b[38;5;28;01mreturn\u001b[39;00m parser\n\u001b[0;32m    582\u001b[0m \u001b[38;5;28;01mwith\u001b[39;00m parser:\n\u001b[1;32m--> 583\u001b[0m     \u001b[38;5;28;01mreturn\u001b[39;00m \u001b[43mparser\u001b[49m\u001b[38;5;241;43m.\u001b[39;49m\u001b[43mread\u001b[49m\u001b[43m(\u001b[49m\u001b[43mnrows\u001b[49m\u001b[43m)\u001b[49m\n",
      "File \u001b[1;32m~\\AppData\\Local\\miniconda3\\envs\\silac_dia_statistics\\lib\\site-packages\\pandas\\io\\parsers\\readers.py:1704\u001b[0m, in \u001b[0;36mTextFileReader.read\u001b[1;34m(self, nrows)\u001b[0m\n\u001b[0;32m   1697\u001b[0m nrows \u001b[38;5;241m=\u001b[39m validate_integer(\u001b[38;5;124m\"\u001b[39m\u001b[38;5;124mnrows\u001b[39m\u001b[38;5;124m\"\u001b[39m, nrows)\n\u001b[0;32m   1698\u001b[0m \u001b[38;5;28;01mtry\u001b[39;00m:\n\u001b[0;32m   1699\u001b[0m     \u001b[38;5;66;03m# error: \"ParserBase\" has no attribute \"read\"\u001b[39;00m\n\u001b[0;32m   1700\u001b[0m     (\n\u001b[0;32m   1701\u001b[0m         index,\n\u001b[0;32m   1702\u001b[0m         columns,\n\u001b[0;32m   1703\u001b[0m         col_dict,\n\u001b[1;32m-> 1704\u001b[0m     ) \u001b[38;5;241m=\u001b[39m \u001b[38;5;28;43mself\u001b[39;49m\u001b[38;5;241;43m.\u001b[39;49m\u001b[43m_engine\u001b[49m\u001b[38;5;241;43m.\u001b[39;49m\u001b[43mread\u001b[49m\u001b[43m(\u001b[49m\u001b[43m  \u001b[49m\u001b[38;5;66;43;03m# type: ignore[attr-defined]\u001b[39;49;00m\n\u001b[0;32m   1705\u001b[0m \u001b[43m        \u001b[49m\u001b[43mnrows\u001b[49m\n\u001b[0;32m   1706\u001b[0m \u001b[43m    \u001b[49m\u001b[43m)\u001b[49m\n\u001b[0;32m   1707\u001b[0m \u001b[38;5;28;01mexcept\u001b[39;00m \u001b[38;5;167;01mException\u001b[39;00m:\n\u001b[0;32m   1708\u001b[0m     \u001b[38;5;28mself\u001b[39m\u001b[38;5;241m.\u001b[39mclose()\n",
      "File \u001b[1;32m~\\AppData\\Local\\miniconda3\\envs\\silac_dia_statistics\\lib\\site-packages\\pandas\\io\\parsers\\c_parser_wrapper.py:234\u001b[0m, in \u001b[0;36mCParserWrapper.read\u001b[1;34m(self, nrows)\u001b[0m\n\u001b[0;32m    232\u001b[0m \u001b[38;5;28;01mtry\u001b[39;00m:\n\u001b[0;32m    233\u001b[0m     \u001b[38;5;28;01mif\u001b[39;00m \u001b[38;5;28mself\u001b[39m\u001b[38;5;241m.\u001b[39mlow_memory:\n\u001b[1;32m--> 234\u001b[0m         chunks \u001b[38;5;241m=\u001b[39m \u001b[38;5;28;43mself\u001b[39;49m\u001b[38;5;241;43m.\u001b[39;49m\u001b[43m_reader\u001b[49m\u001b[38;5;241;43m.\u001b[39;49m\u001b[43mread_low_memory\u001b[49m\u001b[43m(\u001b[49m\u001b[43mnrows\u001b[49m\u001b[43m)\u001b[49m\n\u001b[0;32m    235\u001b[0m         \u001b[38;5;66;03m# destructive to chunks\u001b[39;00m\n\u001b[0;32m    236\u001b[0m         data \u001b[38;5;241m=\u001b[39m _concatenate_chunks(chunks)\n",
      "File \u001b[1;32m~\\AppData\\Local\\miniconda3\\envs\\silac_dia_statistics\\lib\\site-packages\\pandas\\_libs\\parsers.pyx:812\u001b[0m, in \u001b[0;36mpandas._libs.parsers.TextReader.read_low_memory\u001b[1;34m()\u001b[0m\n",
      "File \u001b[1;32m~\\AppData\\Local\\miniconda3\\envs\\silac_dia_statistics\\lib\\site-packages\\pandas\\_libs\\parsers.pyx:873\u001b[0m, in \u001b[0;36mpandas._libs.parsers.TextReader._read_rows\u001b[1;34m()\u001b[0m\n",
      "File \u001b[1;32m~\\AppData\\Local\\miniconda3\\envs\\silac_dia_statistics\\lib\\site-packages\\pandas\\_libs\\parsers.pyx:848\u001b[0m, in \u001b[0;36mpandas._libs.parsers.TextReader._tokenize_rows\u001b[1;34m()\u001b[0m\n",
      "File \u001b[1;32m~\\AppData\\Local\\miniconda3\\envs\\silac_dia_statistics\\lib\\site-packages\\pandas\\_libs\\parsers.pyx:859\u001b[0m, in \u001b[0;36mpandas._libs.parsers.TextReader._check_tokenize_status\u001b[1;34m()\u001b[0m\n",
      "File \u001b[1;32m~\\AppData\\Local\\miniconda3\\envs\\silac_dia_statistics\\lib\\site-packages\\pandas\\_libs\\parsers.pyx:2025\u001b[0m, in \u001b[0;36mpandas._libs.parsers.raise_parser_error\u001b[1;34m()\u001b[0m\n",
      "\u001b[1;31mParserError\u001b[0m: Error tokenizing data. C error: Expected 1 fields in line 5, saw 2\n"
     ]
    }
   ],
   "source": [
    "# generate plots \n",
    "result_interpret.loop_and_plot_results(path, results_paths, pois, uniprot=True) #uniprot=True"
   ]
  },
  {
   "cell_type": "code",
   "execution_count": null,
   "id": "7b919447-544e-4224-a4c2-d0d178155ae7",
   "metadata": {
    "tags": []
   },
   "outputs": [],
   "source": []
  },
  {
   "cell_type": "code",
   "execution_count": null,
   "id": "9e9d6b2d-b188-4183-8a6c-7bb2f1a98501",
   "metadata": {},
   "outputs": [],
   "source": []
  }
 ],
 "metadata": {
  "kernelspec": {
   "display_name": "Python 3 (ipykernel)",
   "language": "python",
   "name": "python3"
  },
  "language_info": {
   "codemirror_mode": {
    "name": "ipython",
    "version": 3
   },
   "file_extension": ".py",
   "mimetype": "text/x-python",
   "name": "python",
   "nbconvert_exporter": "python",
   "pygments_lexer": "ipython3",
   "version": "3.8.18"
  }
 },
 "nbformat": 4,
 "nbformat_minor": 5
}
