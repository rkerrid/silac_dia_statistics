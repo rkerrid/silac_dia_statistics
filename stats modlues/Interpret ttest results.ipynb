{
 "cells": [
  {
   "cell_type": "markdown",
   "id": "d3f2b74c-1bf9-46e0-a13c-5943caddf67c",
   "metadata": {},
   "source": [
    "# This script inteprets the ttest results"
   ]
  },
  {
   "cell_type": "markdown",
   "id": "723127fb-aaba-4eed-bbf5-b0fe56d25b20",
   "metadata": {},
   "source": [
    "In this script, we will interpret the results of the ttest from the previous step. It requires the path to the folder of t-test results which will be imported and displayed depending on which plot is required."
   ]
  },
  {
   "cell_type": "code",
   "execution_count": 1,
   "id": "dc651e9f-2f43-443e-9247-67fdc1d8e12a",
   "metadata": {
    "tags": []
   },
   "outputs": [
    {
     "name": "stdout",
     "output_type": "stream",
     "text": [
      "An error occurred: EOL while scanning string literal (<unknown>, line 1)\n"
     ]
    }
   ],
   "source": [
    "# Imports\n",
    "import interpret_ttest_results as result_interpret\n",
    "import pandas as pd\n",
    "import openai_api_test as openai\n",
    "import ast"
   ]
  },
  {
   "cell_type": "code",
   "execution_count": 2,
   "id": "ffe620aa-af46-4436-9ce2-052401063965",
   "metadata": {
    "tags": []
   },
   "outputs": [],
   "source": [
    "path = 'G:/My Drive/Data/data/eIF4F pilot/imputed/ttest results/'"
   ]
  },
  {
   "cell_type": "code",
   "execution_count": 3,
   "id": "7d7c7967-e296-48b3-9842-3b90f4725310",
   "metadata": {
    "tags": []
   },
   "outputs": [],
   "source": [
    "# scan folder for results\n",
    "results_paths = result_interpret.scan_folder(path)\n",
    "# label proteins of interest (eIFs)\n",
    "pois = ['EIF1', 'EIF1A', 'EIF2', 'EIF2A', 'EIF2B', 'EIF3', 'EIF4A', 'EIF4B', 'EIF4E', 'EIF4G', 'EIF5', 'EIF5A', 'EIF6']\n",
    "# mtor\n",
    "pois = ['Q9Y4I3', 'Q00653', 'P42345', 'P27448', 'P42336', 'P42338', 'O15511', 'P23458', 'Q9NRR4', 'Q9H8S1', 'Q8WTQ7', 'Q9H3Y6', 'Q7Z434', 'Q9HD23', 'Q9HD24', 'O75676', 'P49137', 'Q9H6R7', 'Q8TB37', 'Q8N122', 'Q8NC51', 'P27348', 'Q5EBM0', 'P31749', 'P31751', 'Q9Y243', 'Q9HBH9', 'Q96B36', 'Q8WVC6', 'Q8TAI7', 'Q8TAM2', 'Q9H492', 'P38936', 'P31750', 'P42344', 'P11362', 'P0CY32', 'Q7Z434', 'Q9HD24', 'Q9Y243', 'Q9H492', 'Q9BZD4', 'Q9Y243', 'O15514', 'Q9H6R7', 'O15169', 'Q8TAM2']\n",
    "# RNA binding\n",
    "#pois = ['PABPC1', 'ELAVL1', 'IGF2BP1', 'IGF2BP2', 'IGF2BP3', 'FXR1', 'FXR2', 'AGO1', 'AGO2', 'AGO3', 'AGO4', 'AGO5', 'EIF4A1', 'EIF4A2', 'EIF4A3', 'TIAL1', 'TIA1', 'LIN28A', 'LIN28B', 'EIF5A']\n",
    "# ribosomal\n",
    "pois = ['P60866','P07738', 'P25398', 'P25815', 'P35268', 'P46777', 'P68104', 'P84098', 'P85375', 'P84077', 'P25325', 'P46776', 'P62280', 'P46063', 'P12081', 'Q07021', 'Q6FI13', 'P61353', 'P62244', 'P15498', 'P62263', 'P05387', 'P20042', 'P41250', 'P23396', 'P61160', 'Q96EL3', 'P68036', 'P62913', 'P25440', 'Q32P51', 'Q06830', 'P62906', 'P02405', 'P62854', 'P46782', 'P02406', 'P62899', 'Q9BUJ2', 'P80404', 'P17844', 'P18124', 'P62875', 'P63165', 'Q07020', 'P08708', 'P82914', 'P46781', 'P46779', 'P62917', 'P60604']\n",
    "# UPS\n",
    "#pois = ['P62195', 'P28074', 'P28072', 'Q99436', 'P38398', 'P62837', 'P61080', 'P17980', 'P61201', 'O15400', 'P28070', 'Q9UBK9', 'P22079', 'P55072', 'Q99497', 'Q9UBS0', 'P19447', 'Q13200', 'P17976', 'P17980', 'Q92793', 'O94776', 'Q13085', 'Q16512', 'O43255', 'O00231', 'O75607', 'Q01094', 'Q753B7', 'P55072', 'Q99497', 'O15146', 'P22079', 'P55040', 'P55036', 'Q9BUL5', 'P55084', 'Q9BT92', 'Q6ZVT0', 'Q76JN6']\n",
    "# FBXO f-box only family\n",
    "#pois = ['Q9NRP7', 'Q8WTP8', 'Q9UKT4', 'Q9NRP8', 'A0A024R692', 'Q9Y223', 'Q8WTW4', 'A8MV54', 'Q8IXQ1', 'Q9NUC5', 'Q9UBP6', 'Q9H1S8', 'A0A087WUG6', 'Q8TEL6', 'A0A024R191', 'P0CG79', 'Q9BQ17', 'Q6SG07', 'O00327', 'Q9H3Y6', 'Q9H269', 'Q66K91', 'A0A024R9J0', 'Q9NVP1', 'Q5MHV7', 'Q9NRP2', 'Q5JR12', 'Q56PJ5', 'Q9UBC9', 'Q6PGP7', 'Q8N662', 'Q9NYW4', 'Q9NXW9', 'O95073', 'P40937', 'Q8NCC3', 'Q9UGL1', 'P0CG86', 'Q8N5F6', 'Q9NWV8', 'Q9BV92', 'A0A024R8M5', 'Q9UNM6', 'Q8WUA2', 'Q8TEZ6', 'Q96NM4', 'Q6P1M0', 'Q9Y4W6', 'P0CG85', 'Q8NG31', 'O95466', 'P28062', 'Q9Y236', 'Q6P1J0', 'P0CG90', 'Q9UBU2', 'Q8N3I7', 'Q5MJV4', 'Q9UNK0', 'A0A024R7I4', 'Q9NRJ7', 'Q8WUJ3', 'Q9UKN8', 'P0CG87', 'Q9BTAB', 'Q8WUN1']\n"
   ]
  },
  {
   "cell_type": "code",
   "execution_count": 4,
   "id": "def40864-2a72-4256-a963-01a023cdfaa9",
   "metadata": {
    "tags": []
   },
   "outputs": [
    {
     "name": "stdout",
     "output_type": "stream",
     "text": [
      "['EIF1', 'EIF2A', 'EIF2AK1', 'EIF2AK2', 'EIF2AK3', 'EIF2AK4', 'EIF2B1', 'EIF2B2', 'EIF2B3', 'EIF2B4', 'EIF2B5', 'EIF2C1', 'EIF2C2', 'EIF2C3', 'EIF2C4', 'EIF2S1', 'EIF2S2', 'EIF2S3', 'EIF3A', 'EIF3B', 'EIF3C', 'EIF3D', 'EIF3E', 'EIF3F', 'EIF3G', 'EIF3H', 'EIF3I', 'EIF3J', 'EIF3K', 'EIF3L', 'EIF3M', 'EIF4A1', 'EIF4A2', 'EIF4A3', 'EIF4B', 'EIF4E', 'EIF4E2', 'EIF4E3', 'EIF4EBP1', 'EIF4EBP2', 'EIF4EBP3', 'EIF4G1', 'EIF4G2', 'EIF4G3', 'EIF4H', 'EIF5', 'EIF5A', 'EIF5A2', 'EIF5B', 'EIF6']\n"
     ]
    }
   ],
   "source": [
    "# get pois using chatgpt request (in development)\n",
    "question = \"Give me a list of human proteins containing eIF\"\n",
    "pois = openai.get_response(question)\n",
    "#print(pois)\n",
    "#print(type(pois))\n",
    "                           "
   ]
  },
  {
   "cell_type": "code",
   "execution_count": 5,
   "id": "e89172e6-a330-4cd9-83a1-951906673ae1",
   "metadata": {
    "tags": []
   },
   "outputs": [
    {
     "data": {
      "text/plain": [
       "['EIF1',\n",
       " 'EIF2A',\n",
       " 'EIF2AK1',\n",
       " 'EIF2AK2',\n",
       " 'EIF2AK3',\n",
       " 'EIF2AK4',\n",
       " 'EIF2B1',\n",
       " 'EIF2B2',\n",
       " 'EIF2B3',\n",
       " 'EIF2B4',\n",
       " 'EIF2B5',\n",
       " 'EIF2C1',\n",
       " 'EIF2C2',\n",
       " 'EIF2C3',\n",
       " 'EIF2C4',\n",
       " 'EIF2S1',\n",
       " 'EIF2S2',\n",
       " 'EIF2S3',\n",
       " 'EIF3A',\n",
       " 'EIF3B',\n",
       " 'EIF3C',\n",
       " 'EIF3D',\n",
       " 'EIF3E',\n",
       " 'EIF3F',\n",
       " 'EIF3G',\n",
       " 'EIF3H',\n",
       " 'EIF3I',\n",
       " 'EIF3J',\n",
       " 'EIF3K',\n",
       " 'EIF3L',\n",
       " 'EIF3M',\n",
       " 'EIF4A1',\n",
       " 'EIF4A2',\n",
       " 'EIF4A3',\n",
       " 'EIF4B',\n",
       " 'EIF4E',\n",
       " 'EIF4E2',\n",
       " 'EIF4E3',\n",
       " 'EIF4EBP1',\n",
       " 'EIF4EBP2',\n",
       " 'EIF4EBP3',\n",
       " 'EIF4G1',\n",
       " 'EIF4G2',\n",
       " 'EIF4G3',\n",
       " 'EIF4H',\n",
       " 'EIF5',\n",
       " 'EIF5A',\n",
       " 'EIF5A2',\n",
       " 'EIF5B',\n",
       " 'EIF6']"
      ]
     },
     "execution_count": 5,
     "metadata": {},
     "output_type": "execute_result"
    }
   ],
   "source": [
    "pois"
   ]
  },
  {
   "cell_type": "code",
   "execution_count": 6,
   "id": "c660e23f-6f19-48fc-89ca-a0939c460af2",
   "metadata": {
    "tags": []
   },
   "outputs": [],
   "source": [
    "results_paths\n",
    "results_paths = ['e_nsp.csv']"
   ]
  },
  {
   "cell_type": "code",
   "execution_count": 7,
   "id": "37cf10d8-fd6c-48ed-9a9e-97deedfa3397",
   "metadata": {
    "tags": []
   },
   "outputs": [
    {
     "data": {
      "application/vnd.jupyter.widget-view+json": {
       "model_id": "69aefbd28eab4e5b8096de527f307b7b",
       "version_major": 2,
       "version_minor": 0
      },
      "text/plain": [
       "VBox(children=(FloatSlider(value=0.05, continuous_update=False, description='Significance Level:', max=0.1, mi…"
      ]
     },
     "metadata": {},
     "output_type": "display_data"
    },
    {
     "data": {
      "application/vnd.jupyter.widget-view+json": {
       "model_id": "62f122c423c94f5d92cf3d95af71d704",
       "version_major": 2,
       "version_minor": 0
      },
      "text/plain": [
       "Output()"
      ]
     },
     "metadata": {},
     "output_type": "display_data"
    },
    {
     "data": {
      "application/vnd.jupyter.widget-view+json": {
       "model_id": "38c04b13935b4f7999eab34a7f5d107a",
       "version_major": 2,
       "version_minor": 0
      },
      "text/plain": [
       "Output()"
      ]
     },
     "metadata": {},
     "output_type": "display_data"
    },
    {
     "data": {
      "application/vnd.jupyter.widget-view+json": {
       "model_id": "eefa7c53de774779bb2e3bb629047f40",
       "version_major": 2,
       "version_minor": 0
      },
      "text/plain": [
       "Output()"
      ]
     },
     "metadata": {},
     "output_type": "display_data"
    }
   ],
   "source": [
    "# generate plots \n",
    "result_interpret.loop_and_plot_results(path, results_paths, pois) #uniprot=True"
   ]
  },
  {
   "cell_type": "code",
   "execution_count": null,
   "id": "7b919447-544e-4224-a4c2-d0d178155ae7",
   "metadata": {
    "tags": []
   },
   "outputs": [],
   "source": []
  },
  {
   "cell_type": "code",
   "execution_count": null,
   "id": "9e9d6b2d-b188-4183-8a6c-7bb2f1a98501",
   "metadata": {},
   "outputs": [],
   "source": []
  }
 ],
 "metadata": {
  "kernelspec": {
   "display_name": "Python 3 (ipykernel)",
   "language": "python",
   "name": "python3"
  },
  "language_info": {
   "codemirror_mode": {
    "name": "ipython",
    "version": 3
   },
   "file_extension": ".py",
   "mimetype": "text/x-python",
   "name": "python",
   "nbconvert_exporter": "python",
   "pygments_lexer": "ipython3",
   "version": "3.8.18"
  }
 },
 "nbformat": 4,
 "nbformat_minor": 5
}
