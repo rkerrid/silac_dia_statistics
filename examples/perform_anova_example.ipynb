{
 "cells": [
  {
   "cell_type": "markdown",
   "id": "4ddd94f3-203b-4aca-8892-67e97dc699d0",
   "metadata": {},
   "source": [
    "# perform anova"
   ]
  },
  {
   "cell_type": "code",
   "execution_count": 1,
   "id": "b5d23965-836d-4da6-b9a2-287b4a646beb",
   "metadata": {
    "tags": []
   },
   "outputs": [],
   "source": [
    "from sdia_stats.statistics import anova\n",
    "from sdia_stats.utils.manage_directories import create_directory\n",
    "import pandas as pd"
   ]
  },
  {
   "cell_type": "code",
   "execution_count": 2,
   "id": "30dbaa88-4ced-4e73-88d5-f0399bf843db",
   "metadata": {
    "tags": []
   },
   "outputs": [],
   "source": [
    "path = 'G:/My Drive/Data/data/eif4g optimization/imputed/normalized/'\n",
    "#path = 'G:/My Drive/Data/data/poc4/H/normalized/imputed/'"
   ]
  },
  {
   "cell_type": "code",
   "execution_count": 3,
   "id": "30fcf48f-a77f-430d-9bcd-bc2460763274",
   "metadata": {
    "tags": []
   },
   "outputs": [],
   "source": [
    "# subset data\n",
    "light_df = pd.read_csv(f'{path}light.csv', sep=',')\n",
    "nsp_df = pd.read_csv(f'{path}nsp.csv', sep=',')\n",
    "# import meta\n",
    "meta = pd.read_csv(f'{path}meta.csv', sep =',')\n",
    "subset_cols = ['Protein.Group','26a_1','26a_2','26a_3','26c_1','26c_2','26c_3']\n",
    "#subset_cols = ['Protein.Group','DFO_I','DFO_II','DFO_III','FAC_I','FAC_II','FAC_III']\n",
    "title = '26'\n",
    "light_df = light_df[subset_cols]\n",
    "nsp_df = nsp_df[subset_cols]"
   ]
  },
  {
   "cell_type": "code",
   "execution_count": 4,
   "id": "4fb1ded6-0c28-48bb-8fc3-c6153cb0d0a3",
   "metadata": {
    "tags": []
   },
   "outputs": [
    {
     "name": "stdout",
     "output_type": "stream",
     "text": [
      "Folder reports already exists at G:/My Drive/Data/data/eif4g optimization/imputed/normalized/anova_results\n",
      "Folder reports already exists at G:/My Drive/Data/data/eif4g optimization/imputed/normalized//anova_results/26\n"
     ]
    }
   ],
   "source": [
    "# creat new directory for subsetted data to store anova results\n",
    "# create subdirectory for all anova\n",
    "create_directory(f'{path}', 'anova_results')\n",
    "path = f'{path}/anova_results/'\n",
    "\n",
    "# create subdirectory for this analysis\n",
    "create_directory(f'{path}', title)\n",
    "\n",
    "# save files to this subdirectory (including copy of metadata\n",
    "path = f'{path}/{title}/'\n",
    "light_df.to_csv(f'{path}/light.csv', index=False)\n",
    "nsp_df.to_csv(f'{path}/nsp.csv', index=False)\n",
    "meta.to_csv(f'{path}/meta.csv', index=False)"
   ]
  },
  {
   "cell_type": "code",
   "execution_count": 5,
   "id": "1745b594-eac5-4c48-9b5b-864405fc5d0f",
   "metadata": {
    "tags": []
   },
   "outputs": [],
   "source": [
    "group = 'Treatment'"
   ]
  },
  {
   "cell_type": "code",
   "execution_count": 6,
   "id": "73dc7750-6ff8-45a4-a289-6a7dcd10ea28",
   "metadata": {
    "tags": []
   },
   "outputs": [
    {
     "name": "stderr",
     "output_type": "stream",
     "text": [
      "WARNING:root:['18c_1', '28a_1', '28c_3', '08a_2', '28c_1', '28a_2', '08a_1', '18c_3', '08c_1', '18a_2', '18c_2', '28a_3', '18a_1', '18a_3', '28c_2', '08c_2', '08a_3', '08c_3'] are not described in the protein data andare removed from the metadata.\n",
      "WARNING:root:['18c_1', '28a_1', '28c_3', '08a_2', '28c_1', '28a_2', '08a_1', '18c_3', '08c_1', '18a_2', '18c_2', '28a_3', '18a_1', '18a_3', '28c_2', '08c_2', '08a_3', '08c_3'] are not described in the protein data andare removed from the metadata.\n"
     ]
    },
    {
     "name": "stdout",
     "output_type": "stream",
     "text": [
      "DataSet has been created.\n",
      "Attributes of the DataSet can be accessed using: \n",
      "DataSet.rawinput:\t Raw Protein data.\n",
      "DataSet.mat:\t\tProcessed data matrix with ProteinIDs/ProteinGroups as columns and samples as rows. All computations are performed on this matrix.\n",
      "DataSet.metadata:\tMetadata for the samples in the matrix. Metadata will be matched with DataSet.mat when needed (for instance Volcano Plot).\n",
      "DataSet has been created.\n",
      "Attributes of the DataSet can be accessed using: \n",
      "DataSet.rawinput:\t Raw Protein data.\n",
      "DataSet.mat:\t\tProcessed data matrix with ProteinIDs/ProteinGroups as columns and samples as rows. All computations are performed on this matrix.\n",
      "DataSet.metadata:\tMetadata for the samples in the matrix. Metadata will be matched with DataSet.mat when needed (for instance Volcano Plot).\n",
      "Data has been log2-transformed.\n",
      "Data has been log2-transformed.\n"
     ]
    },
    {
     "name": "stderr",
     "output_type": "stream",
     "text": [
      "100%|██████████████████████████████████████████████████████████████████████████████| 5627/5627 [03:01<00:00, 31.07it/s]\n",
      "100%|██████████████████████████████████████████████████████████████████████████████| 5568/5568 [02:46<00:00, 33.47it/s]\n"
     ]
    }
   ],
   "source": [
    "anova.preform_anova(path, group, subset_cols, title)"
   ]
  },
  {
   "cell_type": "code",
   "execution_count": null,
   "id": "9c51c8d4-b641-4c18-bfc8-a04163b60d6e",
   "metadata": {},
   "outputs": [],
   "source": []
  }
 ],
 "metadata": {
  "kernelspec": {
   "display_name": "Python 3 (ipykernel)",
   "language": "python",
   "name": "python3"
  },
  "language_info": {
   "codemirror_mode": {
    "name": "ipython",
    "version": 3
   },
   "file_extension": ".py",
   "mimetype": "text/x-python",
   "name": "python",
   "nbconvert_exporter": "python",
   "pygments_lexer": "ipython3",
   "version": "3.8.18"
  }
 },
 "nbformat": 4,
 "nbformat_minor": 5
}
