{
 "cells": [
  {
   "cell_type": "markdown",
   "id": "4ddd94f3-203b-4aca-8892-67e97dc699d0",
   "metadata": {},
   "source": [
    "# perform anova"
   ]
  },
  {
   "cell_type": "code",
   "execution_count": 6,
   "id": "b5d23965-836d-4da6-b9a2-287b4a646beb",
   "metadata": {
    "tags": []
   },
   "outputs": [],
   "source": [
    "from sdia_stats.statistics import anova\n",
    "from sdia_stats.utils.manage_directories import create_directory\n",
    "import pandas as pd"
   ]
  },
  {
   "cell_type": "code",
   "execution_count": 7,
   "id": "30dbaa88-4ced-4e73-88d5-f0399bf843db",
   "metadata": {
    "tags": []
   },
   "outputs": [],
   "source": [
    "path = 'G:/My Drive/Data/data/example poc/H/imputed/normalized/'"
   ]
  },
  {
   "cell_type": "code",
   "execution_count": 8,
   "id": "30fcf48f-a77f-430d-9bcd-bc2460763274",
   "metadata": {
    "tags": []
   },
   "outputs": [],
   "source": [
    "# subset data\n",
    "light_df = pd.read_csv(f'{path}light.csv', sep=',')\n",
    "nsp_df = pd.read_csv(f'{path}nsp.csv', sep=',')\n",
    "# import meta\n",
    "meta = pd.read_csv(f'{path}meta.csv', sep =',')\n",
    "subset_cols = ['Protein.Group','control_I','control_II','control_III','FAC_I','FAC_II','FAC_III','DFO_I','DFO_II','DFO_III']\n",
    "title = 'control_fac_dfo'\n",
    "light_df = light_df[subset_cols]\n",
    "nsp_df = nsp_df[subset_cols]"
   ]
  },
  {
   "cell_type": "code",
   "execution_count": 9,
   "id": "4fb1ded6-0c28-48bb-8fc3-c6153cb0d0a3",
   "metadata": {
    "tags": []
   },
   "outputs": [
    {
     "name": "stdout",
     "output_type": "stream",
     "text": [
      "Folder reports already exists at G:/My Drive/Data/data/example poc/H/imputed/normalized/anova_results\n",
      "Folder reports already exists at G:/My Drive/Data/data/example poc/H/imputed/normalized//anova_results/control_fac_dfo\n"
     ]
    }
   ],
   "source": [
    "# creat new directory for subsetted data to store anova results\n",
    "# create subdirectory for all anova\n",
    "create_directory(f'{path}', 'anova_results')\n",
    "path = f'{path}/anova_results/'\n",
    "\n",
    "# create subdirectory for this analysis\n",
    "create_directory(f'{path}', title)\n",
    "\n",
    "# save files to this subdirectory (including copy of metadata\n",
    "path = f'{path}/{title}/'\n",
    "light_df.to_csv(f'{path}/light.csv', index=False)\n",
    "nsp_df.to_csv(f'{path}/nsp.csv', index=False)\n",
    "meta.to_csv(f'{path}/meta.csv', index=False)"
   ]
  },
  {
   "cell_type": "code",
   "execution_count": 10,
   "id": "1745b594-eac5-4c48-9b5b-864405fc5d0f",
   "metadata": {
    "tags": []
   },
   "outputs": [],
   "source": [
    "group = 'Treatment'"
   ]
  },
  {
   "cell_type": "code",
   "execution_count": 11,
   "id": "73dc7750-6ff8-45a4-a289-6a7dcd10ea28",
   "metadata": {
    "tags": []
   },
   "outputs": [
    {
     "name": "stderr",
     "output_type": "stream",
     "text": [
      "WARNING:root:['ARV6_II', 'FAC_Gu_I', 'FAC_Gu_II', 'Gu8_II', 'ARV4_II', 'ARV4_I', 'FAC_Gu_III', 'Gu2_I', 'FAC_ARV_III', '4EG1_I', 'Len1_I', 'FAC_ARV_I', 'Gu2_II', 'Gu8_I', 'Len1_II', 'Len1_III', 'Len10_III', 'Gu2_III', '4EG1_III', 'Len10_II', '4EG1_II', 'ARV4_III', 'Len10_I', 'ARV6_III', 'Gu8_III', 'FAC_ARV_II', 'ARV6_I'] are not described in the protein data andare removed from the metadata.\n",
      "WARNING:root:['ARV6_II', 'FAC_Gu_I', 'FAC_Gu_II', 'Gu8_II', 'ARV4_II', 'ARV4_I', 'FAC_Gu_III', 'Gu2_I', 'FAC_ARV_III', '4EG1_I', 'Len1_I', 'FAC_ARV_I', 'Gu2_II', 'Gu8_I', 'Len1_II', 'Len1_III', 'Len10_III', 'Gu2_III', '4EG1_III', 'Len10_II', '4EG1_II', 'ARV4_III', 'Len10_I', 'ARV6_III', 'Gu8_III', 'FAC_ARV_II', 'ARV6_I'] are not described in the protein data andare removed from the metadata.\n"
     ]
    },
    {
     "name": "stdout",
     "output_type": "stream",
     "text": [
      "DataSet has been created.\n",
      "Attributes of the DataSet can be accessed using: \n",
      "DataSet.rawinput:\t Raw Protein data.\n",
      "DataSet.mat:\t\tProcessed data matrix with ProteinIDs/ProteinGroups as columns and samples as rows. All computations are performed on this matrix.\n",
      "DataSet.metadata:\tMetadata for the samples in the matrix. Metadata will be matched with DataSet.mat when needed (for instance Volcano Plot).\n",
      "DataSet has been created.\n",
      "Attributes of the DataSet can be accessed using: \n",
      "DataSet.rawinput:\t Raw Protein data.\n",
      "DataSet.mat:\t\tProcessed data matrix with ProteinIDs/ProteinGroups as columns and samples as rows. All computations are performed on this matrix.\n",
      "DataSet.metadata:\tMetadata for the samples in the matrix. Metadata will be matched with DataSet.mat when needed (for instance Volcano Plot).\n",
      "Data has been log2-transformed.\n",
      "Data has been log2-transformed.\n"
     ]
    },
    {
     "name": "stderr",
     "output_type": "stream",
     "text": [
      "100%|██████████████████████████████████████████████████████████████████████████████| 5124/5124 [04:35<00:00, 18.58it/s]\n",
      "100%|██████████████████████████████████████████████████████████████████████████████| 5431/5431 [04:51<00:00, 18.65it/s]\n"
     ]
    }
   ],
   "source": [
    "anova.preform_anova(path, group, subset_cols, title)"
   ]
  },
  {
   "cell_type": "code",
   "execution_count": null,
   "id": "9c51c8d4-b641-4c18-bfc8-a04163b60d6e",
   "metadata": {},
   "outputs": [],
   "source": []
  }
 ],
 "metadata": {
  "kernelspec": {
   "display_name": "Python 3 (ipykernel)",
   "language": "python",
   "name": "python3"
  },
  "language_info": {
   "codemirror_mode": {
    "name": "ipython",
    "version": 3
   },
   "file_extension": ".py",
   "mimetype": "text/x-python",
   "name": "python",
   "nbconvert_exporter": "python",
   "pygments_lexer": "ipython3",
   "version": "3.8.18"
  }
 },
 "nbformat": 4,
 "nbformat_minor": 5
}
