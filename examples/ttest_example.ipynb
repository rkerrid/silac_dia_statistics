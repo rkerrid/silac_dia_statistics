{
 "cells": [
  {
   "cell_type": "markdown",
   "id": "d3d56b2b-b32b-4059-b00a-8a1ae3fb9d7a",
   "metadata": {},
   "source": [
    "# t-test example"
   ]
  },
  {
   "cell_type": "code",
   "execution_count": 1,
   "id": "8e91a824-5fc6-46c9-bdcd-ac49ec6f4611",
   "metadata": {},
   "outputs": [],
   "source": [
    "from sdia_stats.statistics import ttest"
   ]
  },
  {
   "cell_type": "code",
   "execution_count": 3,
   "id": "f09a2a21-f147-4d87-b2ba-27cc28150772",
   "metadata": {},
   "outputs": [],
   "source": [
    "# Set path to folder containing the imputed and normalized data\n",
    "path = 'G:/My Drive/Data/data/poc4/H/imputed/'\n",
    "meta = f'{path}meta.csv'"
   ]
  },
  {
   "cell_type": "code",
   "execution_count": 4,
   "id": "5a5aa9de-ef59-4850-8ef0-e6a021f5c0fd",
   "metadata": {},
   "outputs": [],
   "source": [
    "# Set the treatments you would like to compare using the t-test\n",
    "groups = {\n",
    "    \"FAC vs control\": ('FAC','control')}"
   ]
  },
  {
   "cell_type": "code",
   "execution_count": 5,
   "id": "e565f367-c38d-4d3a-b02e-1c39ebdc33da",
   "metadata": {},
   "outputs": [
    {
     "name": "stdout",
     "output_type": "stream",
     "text": [
      "DataSet has been created.\n",
      "Attributes of the DataSet can be accessed using: \n",
      "DataSet.rawinput:\t Raw Protein data.\n",
      "DataSet.mat:\t\tProcessed data matrix with ProteinIDs/ProteinGroups as columns and samples as rows. All computations are performed on this matrix.\n",
      "DataSet.metadata:\tMetadata for the samples in the matrix. Metadata will be matched with DataSet.mat when needed (for instance Volcano Plot).\n",
      "DataSet has been created.\n",
      "Attributes of the DataSet can be accessed using: \n",
      "DataSet.rawinput:\t Raw Protein data.\n",
      "DataSet.mat:\t\tProcessed data matrix with ProteinIDs/ProteinGroups as columns and samples as rows. All computations are performed on this matrix.\n",
      "DataSet.metadata:\tMetadata for the samples in the matrix. Metadata will be matched with DataSet.mat when needed (for instance Volcano Plot).\n",
      "DataSet has been created.\n",
      "Attributes of the DataSet can be accessed using: \n",
      "DataSet.rawinput:\t Raw Protein data.\n",
      "DataSet.mat:\t\tProcessed data matrix with ProteinIDs/ProteinGroups as columns and samples as rows. All computations are performed on this matrix.\n",
      "DataSet.metadata:\tMetadata for the samples in the matrix. Metadata will be matched with DataSet.mat when needed (for instance Volcano Plot).\n",
      "Data has been log2-transformed.\n",
      "Data has been log2-transformed.\n",
      "Data has been log2-transformed.\n",
      "Folder reports created successfully at G:/My Drive/Data/data/poc4/H/imputed/ttest results\n",
      "Folder reports already exists at G:/My Drive/Data/data/poc4/H/imputed/ttest results\n",
      "Folder reports already exists at G:/My Drive/Data/data/poc4/H/imputed/ttest results\n"
     ]
    }
   ],
   "source": [
    "ttest.ttest(path, meta, groups)"
   ]
  },
  {
   "cell_type": "code",
   "execution_count": null,
   "id": "ba3c7571-e807-420b-83b3-55a285fc5546",
   "metadata": {},
   "outputs": [],
   "source": []
  }
 ],
 "metadata": {
  "kernelspec": {
   "display_name": "Python 3 (ipykernel)",
   "language": "python",
   "name": "python3"
  },
  "language_info": {
   "codemirror_mode": {
    "name": "ipython",
    "version": 3
   },
   "file_extension": ".py",
   "mimetype": "text/x-python",
   "name": "python",
   "nbconvert_exporter": "python",
   "pygments_lexer": "ipython3",
   "version": "3.8.18"
  }
 },
 "nbformat": 4,
 "nbformat_minor": 5
}
