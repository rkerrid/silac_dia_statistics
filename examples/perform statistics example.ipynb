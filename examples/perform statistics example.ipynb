{
 "cells": [
  {
   "cell_type": "markdown",
   "id": "69e8918a-0e64-4757-855a-f011e4279e42",
   "metadata": {},
   "source": [
    "# Perfom statistics example"
   ]
  },
  {
   "cell_type": "code",
   "execution_count": 1,
   "id": "c3ef793c-dd8f-412a-912c-9aef6490081d",
   "metadata": {},
   "outputs": [],
   "source": [
    "from sdia_stats.statistics.ttest import ttest"
   ]
  },
  {
   "cell_type": "code",
   "execution_count": 4,
   "id": "39d4bdd7-fd5a-486c-bdc3-f0658082bfa3",
   "metadata": {},
   "outputs": [],
   "source": [
    "path = 'G:/My Drive/Data/data/poc 3/H/imputed/'\n",
    "meta = f'{path}meta.csv'"
   ]
  },
  {
   "cell_type": "code",
   "execution_count": 5,
   "id": "03a7351a-007f-4599-a549-e2d01370b3f4",
   "metadata": {},
   "outputs": [],
   "source": [
    "groups = {'control': 'control',\n",
    "        'FAC': 'FAC'}"
   ]
  },
  {
   "cell_type": "code",
   "execution_count": 6,
   "id": "323e47e4-841a-4400-bd73-00b29d105111",
   "metadata": {},
   "outputs": [
    {
     "name": "stderr",
     "output_type": "stream",
     "text": [
      "WARNING:root:['FAC_1', 'FAC_2', 'FAC_3'] are not described in the protein data andare removed from the metadata.\n",
      "WARNING:root:['FAC_1', 'FAC_2', 'FAC_3'] are not described in the protein data andare removed from the metadata.\n",
      "WARNING:root:['FAC_1', 'FAC_2', 'FAC_3'] are not described in the protein data andare removed from the metadata.\n"
     ]
    },
    {
     "name": "stdout",
     "output_type": "stream",
     "text": [
      "DataSet has been created.\n",
      "Attributes of the DataSet can be accessed using: \n",
      "DataSet.rawinput:\t Raw Protein data.\n",
      "DataSet.mat:\t\tProcessed data matrix with ProteinIDs/ProteinGroups as columns and samples as rows. All computations are performed on this matrix.\n",
      "DataSet.metadata:\tMetadata for the samples in the matrix. Metadata will be matched with DataSet.mat when needed (for instance Volcano Plot).\n",
      "DataSet has been created.\n",
      "Attributes of the DataSet can be accessed using: \n",
      "DataSet.rawinput:\t Raw Protein data.\n",
      "DataSet.mat:\t\tProcessed data matrix with ProteinIDs/ProteinGroups as columns and samples as rows. All computations are performed on this matrix.\n",
      "DataSet.metadata:\tMetadata for the samples in the matrix. Metadata will be matched with DataSet.mat when needed (for instance Volcano Plot).\n",
      "DataSet has been created.\n",
      "Attributes of the DataSet can be accessed using: \n",
      "DataSet.rawinput:\t Raw Protein data.\n",
      "DataSet.mat:\t\tProcessed data matrix with ProteinIDs/ProteinGroups as columns and samples as rows. All computations are performed on this matrix.\n",
      "DataSet.metadata:\tMetadata for the samples in the matrix. Metadata will be matched with DataSet.mat when needed (for instance Volcano Plot).\n",
      "Data has been log2-transformed.\n",
      "Data has been log2-transformed.\n",
      "Data has been log2-transformed.\n"
     ]
    },
    {
     "ename": "ValueError",
     "evalue": "too many values to unpack (expected 2)",
     "output_type": "error",
     "traceback": [
      "\u001b[1;31m---------------------------------------------------------------------------\u001b[0m",
      "\u001b[1;31mValueError\u001b[0m                                Traceback (most recent call last)",
      "Cell \u001b[1;32mIn[6], line 1\u001b[0m\n\u001b[1;32m----> 1\u001b[0m \u001b[43mttest\u001b[49m\u001b[43m(\u001b[49m\u001b[43mpath\u001b[49m\u001b[43m,\u001b[49m\u001b[43m \u001b[49m\u001b[43mmeta\u001b[49m\u001b[43m,\u001b[49m\u001b[43m \u001b[49m\u001b[43mgroups\u001b[49m\u001b[43m)\u001b[49m\n",
      "File \u001b[1;32mc:\\phd projects\\silac_dia_statistics\\sdia_stats\\statistics\\ttest.py:58\u001b[0m, in \u001b[0;36mttest\u001b[1;34m(path, meta, groups)\u001b[0m\n\u001b[0;32m     55\u001b[0m nsp, light, total \u001b[38;5;241m=\u001b[39m generate_alphastats_objects(path, meta)\n\u001b[0;32m     57\u001b[0m \u001b[38;5;66;03m# Iterate over the dictionary of groups\u001b[39;00m\n\u001b[1;32m---> 58\u001b[0m \u001b[38;5;28;01mfor\u001b[39;00m comparison_name, (group1, group2) \u001b[38;5;129;01min\u001b[39;00m groups\u001b[38;5;241m.\u001b[39mitems():\n\u001b[0;32m     59\u001b[0m     \u001b[38;5;66;03m# ttest for total\u001b[39;00m\n\u001b[0;32m     60\u001b[0m     result_total \u001b[38;5;241m=\u001b[39m total\u001b[38;5;241m.\u001b[39mdiff_expression_analysis(column\u001b[38;5;241m=\u001b[39m\u001b[38;5;124m'\u001b[39m\u001b[38;5;124mTreatment\u001b[39m\u001b[38;5;124m'\u001b[39m, group1\u001b[38;5;241m=\u001b[39mgroup1, group2\u001b[38;5;241m=\u001b[39mgroup2)\n\u001b[0;32m     61\u001b[0m     save_results(path, result_total, \u001b[38;5;124mf\u001b[39m\u001b[38;5;124m'\u001b[39m\u001b[38;5;132;01m{\u001b[39;00mcomparison_name\u001b[38;5;132;01m}\u001b[39;00m\u001b[38;5;124m_total.csv\u001b[39m\u001b[38;5;124m'\u001b[39m)\n",
      "\u001b[1;31mValueError\u001b[0m: too many values to unpack (expected 2)"
     ]
    }
   ],
   "source": [
    "ttest(path, meta, groups)"
   ]
  },
  {
   "cell_type": "code",
   "execution_count": null,
   "id": "f22c50b2-07fa-4ff0-8df7-d83977640215",
   "metadata": {},
   "outputs": [],
   "source": []
  }
 ],
 "metadata": {
  "kernelspec": {
   "display_name": "Python 3 (ipykernel)",
   "language": "python",
   "name": "python3"
  },
  "language_info": {
   "codemirror_mode": {
    "name": "ipython",
    "version": 3
   },
   "file_extension": ".py",
   "mimetype": "text/x-python",
   "name": "python",
   "nbconvert_exporter": "python",
   "pygments_lexer": "ipython3",
   "version": "3.8.18"
  }
 },
 "nbformat": 4,
 "nbformat_minor": 5
}
