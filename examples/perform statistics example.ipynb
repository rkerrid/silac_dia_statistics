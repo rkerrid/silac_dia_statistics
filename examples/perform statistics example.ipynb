{
 "cells": [
  {
   "cell_type": "markdown",
   "id": "69e8918a-0e64-4757-855a-f011e4279e42",
   "metadata": {},
   "source": [
    "# Perfom statistics example"
   ]
  },
  {
   "cell_type": "code",
   "execution_count": 1,
   "id": "c3ef793c-dd8f-412a-912c-9aef6490081d",
   "metadata": {},
   "outputs": [],
   "source": [
    "from sdia_stats.statistics.ttest import ttest"
   ]
  },
  {
   "cell_type": "code",
   "execution_count": 2,
   "id": "39d4bdd7-fd5a-486c-bdc3-f0658082bfa3",
   "metadata": {},
   "outputs": [],
   "source": [
    "path = 'G:/My Drive/Data/data/eif4g optimization/imputed/normalized/'\n",
    "meta = f'{path}meta.csv'"
   ]
  },
  {
   "cell_type": "code",
   "execution_count": 3,
   "id": "03a7351a-007f-4599-a549-e2d01370b3f4",
   "metadata": {},
   "outputs": [],
   "source": [
    "groups = {'08': ('08a','08c'),\n",
    "        '18': ('18a','18c'),\n",
    "         '28':('28a','28c'),\n",
    "         '26':('26a','26c')}"
   ]
  },
  {
   "cell_type": "code",
   "execution_count": 4,
   "id": "e5cf0db2-05ad-487b-86c6-aefe623380ad",
   "metadata": {},
   "outputs": [],
   "source": [
    "path = 'G:/My Drive/Data/data/poc4/H/imputed/normalized/'\n",
    "meta = f'{path}meta.csv'\n",
    "groups = {'FAC':('FAC','control'),\n",
    "         'ARV4':('ARV4','control'),\n",
    "         '4EG1':('4EG1','control'),\n",
    "         'ARV6':('ARV6','control'),\n",
    "         'DFO':('DFO','control'),\n",
    "         'FAC_ARV':('FAC_ARV','control'),\n",
    "         'FAC_Gu':('FAC_Gu','control'),\n",
    "         \n",
    "         'Len1':('Len1','control'),\n",
    "         'Len10':('Len10','control')\n",
    "         }"
   ]
  },
  {
   "cell_type": "code",
   "execution_count": 4,
   "id": "323e47e4-841a-4400-bd73-00b29d105111",
   "metadata": {},
   "outputs": [
    {
     "name": "stdout",
     "output_type": "stream",
     "text": [
      "DataSet has been created.\n",
      "Attributes of the DataSet can be accessed using: \n",
      "DataSet.rawinput:\t Raw Protein data.\n",
      "DataSet.mat:\t\tProcessed data matrix with ProteinIDs/ProteinGroups as columns and samples as rows. All computations are performed on this matrix.\n",
      "DataSet.metadata:\tMetadata for the samples in the matrix. Metadata will be matched with DataSet.mat when needed (for instance Volcano Plot).\n",
      "DataSet has been created.\n",
      "Attributes of the DataSet can be accessed using: \n",
      "DataSet.rawinput:\t Raw Protein data.\n",
      "DataSet.mat:\t\tProcessed data matrix with ProteinIDs/ProteinGroups as columns and samples as rows. All computations are performed on this matrix.\n",
      "DataSet.metadata:\tMetadata for the samples in the matrix. Metadata will be matched with DataSet.mat when needed (for instance Volcano Plot).\n",
      "DataSet has been created.\n",
      "Attributes of the DataSet can be accessed using: \n",
      "DataSet.rawinput:\t Raw Protein data.\n",
      "DataSet.mat:\t\tProcessed data matrix with ProteinIDs/ProteinGroups as columns and samples as rows. All computations are performed on this matrix.\n",
      "DataSet.metadata:\tMetadata for the samples in the matrix. Metadata will be matched with DataSet.mat when needed (for instance Volcano Plot).\n",
      "Data has been log2-transformed.\n",
      "Data has been log2-transformed.\n",
      "Data has been log2-transformed.\n",
      "Folder reports created successfully at G:/My Drive/Data/data/eif4g optimization/imputed/normalized/ttest results\n",
      "Folder reports already exists at G:/My Drive/Data/data/eif4g optimization/imputed/normalized/ttest results\n",
      "Folder reports already exists at G:/My Drive/Data/data/eif4g optimization/imputed/normalized/ttest results\n",
      "Folder reports already exists at G:/My Drive/Data/data/eif4g optimization/imputed/normalized/ttest results\n",
      "Folder reports already exists at G:/My Drive/Data/data/eif4g optimization/imputed/normalized/ttest results\n",
      "Folder reports already exists at G:/My Drive/Data/data/eif4g optimization/imputed/normalized/ttest results\n",
      "Folder reports already exists at G:/My Drive/Data/data/eif4g optimization/imputed/normalized/ttest results\n",
      "Folder reports already exists at G:/My Drive/Data/data/eif4g optimization/imputed/normalized/ttest results\n",
      "Folder reports already exists at G:/My Drive/Data/data/eif4g optimization/imputed/normalized/ttest results\n",
      "Folder reports already exists at G:/My Drive/Data/data/eif4g optimization/imputed/normalized/ttest results\n",
      "Folder reports already exists at G:/My Drive/Data/data/eif4g optimization/imputed/normalized/ttest results\n",
      "Folder reports already exists at G:/My Drive/Data/data/eif4g optimization/imputed/normalized/ttest results\n"
     ]
    }
   ],
   "source": [
    "ttest(path, meta, groups)"
   ]
  },
  {
   "cell_type": "code",
   "execution_count": null,
   "id": "f22c50b2-07fa-4ff0-8df7-d83977640215",
   "metadata": {},
   "outputs": [],
   "source": []
  }
 ],
 "metadata": {
  "kernelspec": {
   "display_name": "Python 3 (ipykernel)",
   "language": "python",
   "name": "python3"
  },
  "language_info": {
   "codemirror_mode": {
    "name": "ipython",
    "version": 3
   },
   "file_extension": ".py",
   "mimetype": "text/x-python",
   "name": "python",
   "nbconvert_exporter": "python",
   "pygments_lexer": "ipython3",
   "version": "3.8.18"
  }
 },
 "nbformat": 4,
 "nbformat_minor": 5
}
