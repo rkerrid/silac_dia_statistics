{
 "cells": [
  {
   "cell_type": "code",
   "execution_count": 1,
   "id": "8e91a824-5fc6-46c9-bdcd-ac49ec6f4611",
   "metadata": {},
   "outputs": [],
   "source": [
    "from sdia_stats.statistics import ttest"
   ]
  },
  {
   "cell_type": "code",
   "execution_count": 2,
   "id": "f09a2a21-f147-4d87-b2ba-27cc28150772",
   "metadata": {},
   "outputs": [],
   "source": [
    "path = 'G:/My Drive/Data/data/poc1 statstest/H/imputed/'\n",
    "meta = f'{path}/meta.csv'"
   ]
  },
  {
   "cell_type": "code",
   "execution_count": 3,
   "id": "5a5aa9de-ef59-4850-8ef0-e6a021f5c0fd",
   "metadata": {},
   "outputs": [],
   "source": [
    "groups = {\n",
    "    \"FAC vs control\": ([\"Janice_20231005_AJW_HSdia_px07_Hspike_FAC_1\",\n",
    "                        \"Janice_20231005_AJW_HSdia_px07_Hspike_FAC_2\",\n",
    "                        \"Janice_20231005_AJW_HSdia_px07_Hspike_FAC_3\"], \n",
    "                       [\"Janice_20231005_AJW_HSdia_px07_Hspike_control_1\",\n",
    "                        \"Janice_20231005_AJW_HSdia_px07_Hspike_control_2\",\n",
    "                        \"Janice_20231005_AJW_HSdia_px07_Hspike_control_3\"]),\n",
    "    \n",
    "}\n",
    "#\"Gu vs control\": ([\"gu_1\",\"gu_2\",\"gu_3\"], [\"control_1\", \"control_2\",\"control_3\"]),\n",
    " #   \"Both vs control\": ([\"both_1\",\"both_2\",\"both_3\"], [\"control_1\", \"control_2\",\"control_3\"])"
   ]
  },
  {
   "cell_type": "code",
   "execution_count": 4,
   "id": "e565f367-c38d-4d3a-b02e-1c39ebdc33da",
   "metadata": {},
   "outputs": [
    {
     "name": "stderr",
     "output_type": "stream",
     "text": [
      "WARNING:root:['Janice_20231005_AJW_HSdia_px07_Hspike_FAC_3', 'Janice_20231005_AJW_HSdia_px07_Hspike_control_2', 'Janice_20231005_AJW_HSdia_px07_Hspike_both_2', 'Janice_20231005_AJW_HSdia_px07_Hspike_control_1', 'Janice_20231005_AJW_HSdia_px07_Hspike_FAC_1', 'Janice_20231005_AJW_HSdia_px07_Hspike_FAC_2', 'Janice_20231005_AJW_HSdia_px07_Hspike_both_3', 'Janice_20231005_AJW_HSdia_px07_Hspike_control_3', 'Janice_20231005_AJW_HSdia_px07_Hspike_both_1', 'Janice_20231005_AJW_HSdia_px07_Hspike_Gu3340_1', 'Janice_20231005_AJW_HSdia_px07_Hspike_Gu3340_3', 'Janice_20231005_AJW_HSdia_px07_Hspike_Gu3340_2'] are not described in the protein data andare removed from the metadata.\n",
      "WARNING:root:['Janice_20231005_AJW_HSdia_px07_Hspike_FAC_3', 'Janice_20231005_AJW_HSdia_px07_Hspike_control_2', 'Janice_20231005_AJW_HSdia_px07_Hspike_both_2', 'Janice_20231005_AJW_HSdia_px07_Hspike_control_1', 'Janice_20231005_AJW_HSdia_px07_Hspike_FAC_1', 'Janice_20231005_AJW_HSdia_px07_Hspike_FAC_2', 'Janice_20231005_AJW_HSdia_px07_Hspike_both_3', 'Janice_20231005_AJW_HSdia_px07_Hspike_control_3', 'Janice_20231005_AJW_HSdia_px07_Hspike_both_1', 'Janice_20231005_AJW_HSdia_px07_Hspike_Gu3340_1', 'Janice_20231005_AJW_HSdia_px07_Hspike_Gu3340_3', 'Janice_20231005_AJW_HSdia_px07_Hspike_Gu3340_2'] are not described in the protein data andare removed from the metadata.\n",
      "WARNING:root:['Janice_20231005_AJW_HSdia_px07_Hspike_FAC_3', 'Janice_20231005_AJW_HSdia_px07_Hspike_control_2', 'Janice_20231005_AJW_HSdia_px07_Hspike_both_2', 'Janice_20231005_AJW_HSdia_px07_Hspike_control_1', 'Janice_20231005_AJW_HSdia_px07_Hspike_FAC_1', 'Janice_20231005_AJW_HSdia_px07_Hspike_FAC_2', 'Janice_20231005_AJW_HSdia_px07_Hspike_both_3', 'Janice_20231005_AJW_HSdia_px07_Hspike_control_3', 'Janice_20231005_AJW_HSdia_px07_Hspike_both_1', 'Janice_20231005_AJW_HSdia_px07_Hspike_Gu3340_1', 'Janice_20231005_AJW_HSdia_px07_Hspike_Gu3340_3', 'Janice_20231005_AJW_HSdia_px07_Hspike_Gu3340_2'] are not described in the protein data andare removed from the metadata.\n"
     ]
    },
    {
     "name": "stdout",
     "output_type": "stream",
     "text": [
      "DataSet has been created.\n",
      "Attributes of the DataSet can be accessed using: \n",
      "DataSet.rawinput:\t Raw Protein data.\n",
      "DataSet.mat:\t\tProcessed data matrix with ProteinIDs/ProteinGroups as columns and samples as rows. All computations are performed on this matrix.\n",
      "DataSet.metadata:\tMetadata for the samples in the matrix. Metadata will be matched with DataSet.mat when needed (for instance Volcano Plot).\n",
      "DataSet has been created.\n",
      "Attributes of the DataSet can be accessed using: \n",
      "DataSet.rawinput:\t Raw Protein data.\n",
      "DataSet.mat:\t\tProcessed data matrix with ProteinIDs/ProteinGroups as columns and samples as rows. All computations are performed on this matrix.\n",
      "DataSet.metadata:\tMetadata for the samples in the matrix. Metadata will be matched with DataSet.mat when needed (for instance Volcano Plot).\n",
      "DataSet has been created.\n",
      "Attributes of the DataSet can be accessed using: \n",
      "DataSet.rawinput:\t Raw Protein data.\n",
      "DataSet.mat:\t\tProcessed data matrix with ProteinIDs/ProteinGroups as columns and samples as rows. All computations are performed on this matrix.\n",
      "DataSet.metadata:\tMetadata for the samples in the matrix. Metadata will be matched with DataSet.mat when needed (for instance Volcano Plot).\n",
      "Data has been log2-transformed.\n",
      "Data has been log2-transformed.\n",
      "Data has been log2-transformed.\n"
     ]
    },
    {
     "ename": "ValueError",
     "evalue": "Sample names: ['Janice_20231005_AJW_HSdia_px07_Hspike_FAC_3', 'Janice_20231005_AJW_HSdia_px07_Hspike_FAC_2', 'Janice_20231005_AJW_HSdia_px07_Hspike_control_2', 'Janice_20231005_AJW_HSdia_px07_Hspike_control_3', 'Janice_20231005_AJW_HSdia_px07_Hspike_FAC_1', 'Janice_20231005_AJW_HSdia_px07_Hspike_control_1'] are not described in Metadata.",
     "output_type": "error",
     "traceback": [
      "\u001b[1;31m---------------------------------------------------------------------------\u001b[0m",
      "\u001b[1;31mValueError\u001b[0m                                Traceback (most recent call last)",
      "Cell \u001b[1;32mIn[4], line 1\u001b[0m\n\u001b[1;32m----> 1\u001b[0m \u001b[43mttest\u001b[49m\u001b[38;5;241;43m.\u001b[39;49m\u001b[43mttest\u001b[49m\u001b[43m(\u001b[49m\u001b[43mpath\u001b[49m\u001b[43m,\u001b[49m\u001b[43m \u001b[49m\u001b[43mmeta\u001b[49m\u001b[43m,\u001b[49m\u001b[43m \u001b[49m\u001b[43mgroups\u001b[49m\u001b[43m)\u001b[49m\n",
      "File \u001b[1;32mc:\\phd projects\\silac_dia_statistics\\sdia_stats\\statistics\\ttest.py:117\u001b[0m, in \u001b[0;36mttest\u001b[1;34m(path, meta, groups)\u001b[0m\n\u001b[0;32m    114\u001b[0m \u001b[38;5;66;03m# Iterate over the dictionary of groups\u001b[39;00m\n\u001b[0;32m    115\u001b[0m \u001b[38;5;28;01mfor\u001b[39;00m comparison_name, (group1, group2) \u001b[38;5;129;01min\u001b[39;00m groups\u001b[38;5;241m.\u001b[39mitems():\n\u001b[0;32m    116\u001b[0m     \u001b[38;5;66;03m# ttest for total\u001b[39;00m\n\u001b[1;32m--> 117\u001b[0m     result_total \u001b[38;5;241m=\u001b[39m \u001b[43mtotal\u001b[49m\u001b[38;5;241;43m.\u001b[39;49m\u001b[43mdiff_expression_analysis\u001b[49m\u001b[43m(\u001b[49m\u001b[43mcolumn\u001b[49m\u001b[38;5;241;43m=\u001b[39;49m\u001b[38;5;124;43m'\u001b[39;49m\u001b[38;5;124;43mRun\u001b[39;49m\u001b[38;5;124;43m'\u001b[39;49m\u001b[43m,\u001b[49m\u001b[43m \u001b[49m\u001b[43mgroup1\u001b[49m\u001b[38;5;241;43m=\u001b[39;49m\u001b[43mgroup1\u001b[49m\u001b[43m,\u001b[49m\u001b[43m \u001b[49m\u001b[43mgroup2\u001b[49m\u001b[38;5;241;43m=\u001b[39;49m\u001b[43mgroup2\u001b[49m\u001b[43m)\u001b[49m\n\u001b[0;32m    118\u001b[0m     save_results(path, result_total, \u001b[38;5;124mf\u001b[39m\u001b[38;5;124m'\u001b[39m\u001b[38;5;132;01m{\u001b[39;00mcomparison_name\u001b[38;5;132;01m}\u001b[39;00m\u001b[38;5;124m_total.csv\u001b[39m\u001b[38;5;124m'\u001b[39m)\n\u001b[0;32m    120\u001b[0m     \u001b[38;5;66;03m# ttest for light\u001b[39;00m\n",
      "File \u001b[1;32m~\\AppData\\Local\\miniconda3\\envs\\silac_dia_statistics0.1.0\\lib\\site-packages\\alphastats\\utils.py:25\u001b[0m, in \u001b[0;36mignore_warning.<locals>.inner.<locals>.wrapper\u001b[1;34m(*args, **kwargs)\u001b[0m\n\u001b[0;32m     23\u001b[0m \u001b[38;5;28;01mwith\u001b[39;00m warnings\u001b[38;5;241m.\u001b[39mcatch_warnings():\n\u001b[0;32m     24\u001b[0m     warnings\u001b[38;5;241m.\u001b[39mfilterwarnings(\u001b[38;5;124m\"\u001b[39m\u001b[38;5;124mignore\u001b[39m\u001b[38;5;124m\"\u001b[39m, category\u001b[38;5;241m=\u001b[39mwarning)\n\u001b[1;32m---> 25\u001b[0m     \u001b[38;5;28;01mreturn\u001b[39;00m \u001b[43mfunc\u001b[49m\u001b[43m(\u001b[49m\u001b[38;5;241;43m*\u001b[39;49m\u001b[43margs\u001b[49m\u001b[43m,\u001b[49m\u001b[43m \u001b[49m\u001b[38;5;241;43m*\u001b[39;49m\u001b[38;5;241;43m*\u001b[39;49m\u001b[43mkwargs\u001b[49m\u001b[43m)\u001b[49m\n",
      "File \u001b[1;32m~\\AppData\\Local\\miniconda3\\envs\\silac_dia_statistics0.1.0\\lib\\site-packages\\alphastats\\DataSet_Statistics.py:91\u001b[0m, in \u001b[0;36mStatistics.diff_expression_analysis\u001b[1;34m(self, group1, group2, column, method, perm, fdr)\u001b[0m\n\u001b[0;32m     59\u001b[0m \u001b[38;5;129m@ignore_warning\u001b[39m(\u001b[38;5;167;01mRuntimeWarning\u001b[39;00m)\n\u001b[0;32m     60\u001b[0m \u001b[38;5;28;01mdef\u001b[39;00m \u001b[38;5;21mdiff_expression_analysis\u001b[39m(\n\u001b[0;32m     61\u001b[0m         \u001b[38;5;28mself\u001b[39m,\n\u001b[1;32m   (...)\u001b[0m\n\u001b[0;32m     67\u001b[0m         fdr: \u001b[38;5;28mfloat\u001b[39m \u001b[38;5;241m=\u001b[39m \u001b[38;5;241m0.05\u001b[39m,\n\u001b[0;32m     68\u001b[0m     ) \u001b[38;5;241m-\u001b[39m\u001b[38;5;241m>\u001b[39m pd\u001b[38;5;241m.\u001b[39mDataFrame:\n\u001b[0;32m     69\u001b[0m \u001b[38;5;250m    \u001b[39m\u001b[38;5;124;03m\"\"\"Perform differential expression analysis doing a a t-test or Wald test. A wald test will fit a generalized linear model.\u001b[39;00m\n\u001b[0;32m     70\u001b[0m \n\u001b[0;32m     71\u001b[0m \u001b[38;5;124;03m    Args:\u001b[39;00m\n\u001b[1;32m   (...)\u001b[0m\n\u001b[0;32m     89\u001b[0m \u001b[38;5;124;03m        * ``'ll'``: the log-likelihood of the estimation\u001b[39;00m\n\u001b[0;32m     90\u001b[0m \u001b[38;5;124;03m    \"\"\"\u001b[39;00m\n\u001b[1;32m---> 91\u001b[0m     df \u001b[38;5;241m=\u001b[39m \u001b[43mDifferentialExpressionAnalysis\u001b[49m\u001b[43m(\u001b[49m\n\u001b[0;32m     92\u001b[0m \u001b[43m        \u001b[49m\u001b[43mdataset\u001b[49m\u001b[38;5;241;43m=\u001b[39;49m\u001b[38;5;28;43mself\u001b[39;49m\u001b[43m,\u001b[49m\u001b[43m \u001b[49m\n\u001b[0;32m     93\u001b[0m \u001b[43m        \u001b[49m\u001b[43mgroup1\u001b[49m\u001b[38;5;241;43m=\u001b[39;49m\u001b[43mgroup1\u001b[49m\u001b[43m,\u001b[49m\u001b[43m \u001b[49m\n\u001b[0;32m     94\u001b[0m \u001b[43m        \u001b[49m\u001b[43mgroup2\u001b[49m\u001b[38;5;241;43m=\u001b[39;49m\u001b[43mgroup2\u001b[49m\u001b[43m,\u001b[49m\u001b[43m \u001b[49m\n\u001b[0;32m     95\u001b[0m \u001b[43m        \u001b[49m\u001b[43mcolumn\u001b[49m\u001b[38;5;241;43m=\u001b[39;49m\u001b[43mcolumn\u001b[49m\u001b[43m,\u001b[49m\u001b[43m \u001b[49m\u001b[43mmethod\u001b[49m\u001b[38;5;241;43m=\u001b[39;49m\u001b[43mmethod\u001b[49m\u001b[43m,\u001b[49m\n\u001b[0;32m     96\u001b[0m \u001b[43m        \u001b[49m\u001b[43mperm\u001b[49m\u001b[38;5;241;43m=\u001b[39;49m\u001b[43mperm\u001b[49m\u001b[43m,\u001b[49m\u001b[43m \u001b[49m\n\u001b[0;32m     97\u001b[0m \u001b[43m        \u001b[49m\u001b[43mfdr\u001b[49m\u001b[38;5;241;43m=\u001b[39;49m\u001b[43mfdr\u001b[49m\n\u001b[0;32m     98\u001b[0m \u001b[43m    \u001b[49m\u001b[43m)\u001b[49m\u001b[38;5;241;43m.\u001b[39;49m\u001b[43mperform\u001b[49m\u001b[43m(\u001b[49m\u001b[43m)\u001b[49m\n\u001b[0;32m     99\u001b[0m     \u001b[38;5;28;01mreturn\u001b[39;00m df\n",
      "File \u001b[1;32m~\\AppData\\Local\\miniconda3\\envs\\silac_dia_statistics0.1.0\\lib\\site-packages\\alphastats\\statistics\\DifferentialExpressionAnalysis.py:212\u001b[0m, in \u001b[0;36mDifferentialExpressionAnalysis.perform\u001b[1;34m(self)\u001b[0m\n\u001b[0;32m    211\u001b[0m \u001b[38;5;28;01mdef\u001b[39;00m \u001b[38;5;21mperform\u001b[39m(\u001b[38;5;28mself\u001b[39m) \u001b[38;5;241m-\u001b[39m\u001b[38;5;241m>\u001b[39m pd\u001b[38;5;241m.\u001b[39mDataFrame:\n\u001b[1;32m--> 212\u001b[0m     \u001b[38;5;28;43mself\u001b[39;49m\u001b[38;5;241;43m.\u001b[39;49m\u001b[43m_check_groups\u001b[49m\u001b[43m(\u001b[49m\u001b[43m)\u001b[49m\n\u001b[0;32m    214\u001b[0m     \u001b[38;5;28;01mif\u001b[39;00m \u001b[38;5;28mself\u001b[39m\u001b[38;5;241m.\u001b[39mmethod \u001b[38;5;241m==\u001b[39m \u001b[38;5;124m\"\u001b[39m\u001b[38;5;124mwald\u001b[39m\u001b[38;5;124m\"\u001b[39m:\n\u001b[0;32m    215\u001b[0m         df \u001b[38;5;241m=\u001b[39m \u001b[38;5;28mself\u001b[39m\u001b[38;5;241m.\u001b[39mwald()\n",
      "File \u001b[1;32m~\\AppData\\Local\\miniconda3\\envs\\silac_dia_statistics0.1.0\\lib\\site-packages\\alphastats\\statistics\\DifferentialExpressionAnalysis.py:29\u001b[0m, in \u001b[0;36mDifferentialExpressionAnalysis._check_groups\u001b[1;34m(self)\u001b[0m\n\u001b[0;32m     27\u001b[0m \u001b[38;5;28;01mdef\u001b[39;00m \u001b[38;5;21m_check_groups\u001b[39m(\u001b[38;5;28mself\u001b[39m):\n\u001b[0;32m     28\u001b[0m     \u001b[38;5;28;01mif\u001b[39;00m \u001b[38;5;28misinstance\u001b[39m(\u001b[38;5;28mself\u001b[39m\u001b[38;5;241m.\u001b[39mgroup1, \u001b[38;5;28mlist\u001b[39m) \u001b[38;5;129;01mand\u001b[39;00m \u001b[38;5;28misinstance\u001b[39m(\u001b[38;5;28mself\u001b[39m\u001b[38;5;241m.\u001b[39mgroup2, \u001b[38;5;28mlist\u001b[39m):\n\u001b[1;32m---> 29\u001b[0m         \u001b[38;5;28mself\u001b[39m\u001b[38;5;241m.\u001b[39mcolumn, \u001b[38;5;28mself\u001b[39m\u001b[38;5;241m.\u001b[39mgroup1, \u001b[38;5;28mself\u001b[39m\u001b[38;5;241m.\u001b[39mgroup2 \u001b[38;5;241m=\u001b[39m \u001b[38;5;28;43mself\u001b[39;49m\u001b[38;5;241;43m.\u001b[39;49m\u001b[43m_add_metadata_column\u001b[49m\u001b[43m(\u001b[49m\u001b[38;5;28;43mself\u001b[39;49m\u001b[38;5;241;43m.\u001b[39;49m\u001b[43mgroup1\u001b[49m\u001b[43m,\u001b[49m\u001b[43m \u001b[49m\u001b[38;5;28;43mself\u001b[39;49m\u001b[38;5;241;43m.\u001b[39;49m\u001b[43mgroup2\u001b[49m\u001b[43m)\u001b[49m\n\u001b[0;32m     31\u001b[0m     \u001b[38;5;28;01melif\u001b[39;00m \u001b[38;5;28mself\u001b[39m\u001b[38;5;241m.\u001b[39mcolumn \u001b[38;5;129;01mis\u001b[39;00m \u001b[38;5;28;01mNone\u001b[39;00m:\n\u001b[0;32m     32\u001b[0m         \u001b[38;5;28;01mraise\u001b[39;00m \u001b[38;5;167;01mValueError\u001b[39;00m(\n\u001b[0;32m     33\u001b[0m             \u001b[38;5;124m\"\u001b[39m\u001b[38;5;124mColumn containing group1 and group2 needs to be specified\u001b[39m\u001b[38;5;124m\"\u001b[39m\n\u001b[0;32m     34\u001b[0m         )\n",
      "File \u001b[1;32m~\\AppData\\Local\\miniconda3\\envs\\silac_dia_statistics0.1.0\\lib\\site-packages\\alphastats\\statistics\\DifferentialExpressionAnalysis.py:74\u001b[0m, in \u001b[0;36mDifferentialExpressionAnalysis._add_metadata_column\u001b[1;34m(self, group1_list, group2_list)\u001b[0m\n\u001b[0;32m     72\u001b[0m misc_samples \u001b[38;5;241m=\u001b[39m \u001b[38;5;28mlist\u001b[39m(\u001b[38;5;28mset\u001b[39m(group1_list \u001b[38;5;241m+\u001b[39m group2_list) \u001b[38;5;241m-\u001b[39m \u001b[38;5;28mset\u001b[39m(sample_names))\n\u001b[0;32m     73\u001b[0m \u001b[38;5;28;01mif\u001b[39;00m \u001b[38;5;28mlen\u001b[39m(misc_samples) \u001b[38;5;241m>\u001b[39m \u001b[38;5;241m0\u001b[39m:\n\u001b[1;32m---> 74\u001b[0m     \u001b[38;5;28;01mraise\u001b[39;00m \u001b[38;5;167;01mValueError\u001b[39;00m(\n\u001b[0;32m     75\u001b[0m         \u001b[38;5;124mf\u001b[39m\u001b[38;5;124m\"\u001b[39m\u001b[38;5;124mSample names: \u001b[39m\u001b[38;5;132;01m{\u001b[39;00mmisc_samples\u001b[38;5;132;01m}\u001b[39;00m\u001b[38;5;124m are not described in Metadata.\u001b[39m\u001b[38;5;124m\"\u001b[39m\n\u001b[0;32m     76\u001b[0m     )\n\u001b[0;32m     78\u001b[0m column \u001b[38;5;241m=\u001b[39m \u001b[38;5;124m\"\u001b[39m\u001b[38;5;124m_comparison_column\u001b[39m\u001b[38;5;124m\"\u001b[39m\n\u001b[0;32m     79\u001b[0m conditons \u001b[38;5;241m=\u001b[39m [\n\u001b[0;32m     80\u001b[0m     metadata[\u001b[38;5;28mself\u001b[39m\u001b[38;5;241m.\u001b[39mdataset\u001b[38;5;241m.\u001b[39msample]\u001b[38;5;241m.\u001b[39misin(group1_list),\n\u001b[0;32m     81\u001b[0m     metadata[\u001b[38;5;28mself\u001b[39m\u001b[38;5;241m.\u001b[39mdataset\u001b[38;5;241m.\u001b[39msample]\u001b[38;5;241m.\u001b[39misin(group2_list),\n\u001b[0;32m     82\u001b[0m ]\n",
      "\u001b[1;31mValueError\u001b[0m: Sample names: ['Janice_20231005_AJW_HSdia_px07_Hspike_FAC_3', 'Janice_20231005_AJW_HSdia_px07_Hspike_FAC_2', 'Janice_20231005_AJW_HSdia_px07_Hspike_control_2', 'Janice_20231005_AJW_HSdia_px07_Hspike_control_3', 'Janice_20231005_AJW_HSdia_px07_Hspike_FAC_1', 'Janice_20231005_AJW_HSdia_px07_Hspike_control_1'] are not described in Metadata."
     ]
    }
   ],
   "source": [
    "ttest.ttest(path, meta, groups)"
   ]
  },
  {
   "cell_type": "code",
   "execution_count": null,
   "id": "ba3c7571-e807-420b-83b3-55a285fc5546",
   "metadata": {},
   "outputs": [],
   "source": []
  }
 ],
 "metadata": {
  "kernelspec": {
   "display_name": "Python 3 (ipykernel)",
   "language": "python",
   "name": "python3"
  },
  "language_info": {
   "codemirror_mode": {
    "name": "ipython",
    "version": 3
   },
   "file_extension": ".py",
   "mimetype": "text/x-python",
   "name": "python",
   "nbconvert_exporter": "python",
   "pygments_lexer": "ipython3",
   "version": "3.8.18"
  }
 },
 "nbformat": 4,
 "nbformat_minor": 5
}
