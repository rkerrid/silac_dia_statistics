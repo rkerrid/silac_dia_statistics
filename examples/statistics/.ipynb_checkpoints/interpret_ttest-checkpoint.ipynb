{
 "cells": [
  {
   "cell_type": "markdown",
   "id": "e90d0264-6aca-413c-bcc6-02c308e7cf0d",
   "metadata": {},
   "source": [
    "# Interpret ttest"
   ]
  },
  {
   "cell_type": "code",
   "execution_count": null,
   "id": "b6d4f6dd-ee2c-43e3-9a93-690e83cc5043",
   "metadata": {},
   "outputs": [],
   "source": []
  }
 ],
 "metadata": {
  "kernelspec": {
   "display_name": "Python 3 (ipykernel)",
   "language": "python",
   "name": "python3"
  },
  "language_info": {
   "codemirror_mode": {
    "name": "ipython",
    "version": 3
   },
   "file_extension": ".py",
   "mimetype": "text/x-python",
   "name": "python",
   "nbconvert_exporter": "python",
   "pygments_lexer": "ipython3",
   "version": "3.8.18"
  }
 },
 "nbformat": 4,
 "nbformat_minor": 5
}
