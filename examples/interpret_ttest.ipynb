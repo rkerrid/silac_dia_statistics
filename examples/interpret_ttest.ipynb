{
 "cells": [
  {
   "cell_type": "markdown",
   "id": "e90d0264-6aca-413c-bcc6-02c308e7cf0d",
   "metadata": {},
   "source": [
    "# Interpret t-test"
   ]
  },
  {
   "cell_type": "code",
   "execution_count": 1,
   "id": "b6d4f6dd-ee2c-43e3-9a93-690e83cc5043",
   "metadata": {},
   "outputs": [],
   "source": [
    "from sdia_stats.visualization.interpret_ttest_results import loop_and_plot_results"
   ]
  },
  {
   "cell_type": "code",
   "execution_count": 9,
   "id": "f34cb82f-588f-419a-9921-fc5a7abb03a9",
   "metadata": {},
   "outputs": [],
   "source": [
    "path = 'G:/My Drive/Data/data/240112 poc4 test/new pipeline new stats/H/protein_groups/normalized/imputed/ttest results/'\n",
    "path = 'G:/My Drive/Data/data/eIF4F optimization/protein_groups/normalized/imputed/ttest results/'"
   ]
  },
  {
   "cell_type": "code",
   "execution_count": 5,
   "id": "6bff1744-3cb4-46f0-9c43-5aaaf46c2a31",
   "metadata": {},
   "outputs": [],
   "source": [
    "# set pois list to the gene name of the proteins you would like to annotate the plots with\n",
    "pois = ['FTH1', 'FTL', 'TFRC', 'BRD4', 'BRD3', 'BRD2', 'CDK6', 'CDK4','EIF4G1', 'EIF4E']\n",
    "pois = ['FTH1', 'FTL', 'TFRC', 'ACO1', 'IREB2','SLC11A2','SLC40A1', 'ACO2','FBXL5','STEAP3','HEPH'] # aco1 is ireb1, HFE binds to TFR and reduces afinity to iron loaded transferin, SLC11A2 Essential for maintenance of iron homeostasis by modulating intestinal absorption of dietary Fe2+ and TF-associated endosomal Fe2+ transport in erythroid precursors and other cells (By similarity).\n",
    "#Enables Fe2+ and Mn2+ ion entry into mitochondria, and is thus expected to promote mitochondrial heme synthesis, iron-sulfur cluster biogenesis and antioxidant defense (also known as dmt1), CYBRD1 Plasma membrane reductase that uses cytoplasmic ascorbate as an electron donor to reduce extracellular Fe3+ into Fe2+ (PubMed:30272000)."
   ]
  },
  {
   "cell_type": "code",
   "execution_count": 10,
   "id": "0f3d77e5-6902-4cfc-8513-03f15adae9de",
   "metadata": {},
   "outputs": [],
   "source": [
    "# do not run this cell as it overwrites the pois\n",
    "# curated list of 5'TOP proteins from Cockman et al. 2020 https://www.ncbi.nlm.nih.gov/pmc/articles/PMC7407576/\n",
    "'''mRNAs encoding proteins require for translation are distinguished by a 5’ Terminal OligoPyrimidine (5’ TOP) motif. \n",
    "The 5’ TOP motif begins with a m7G capped C nucleotide followed by a run of approximately 4-15 pyrimidines [9] often followed by a \n",
    "G-rich region [10,11] (Table A1). The 5’ TOP motif is highly conserved and is found in all 79 human ribosomal proteins as well as \n",
    "non-ribosomal proteins involved in translation including multiple subunits of eIF3, eIF4A, eEF2, and poly(A) binding protein (PABP) [12]. \n",
    "This shared TOP motif allows cells to quickly modulate the expression of proteins involved in ribosome production and protein \n",
    "synthesis in response to changes in cellular homeostasis.'''\n",
    "pois = [\n",
    "    'RPSA', 'RPS2', 'RPS3', 'RPS3A', 'RPS4X', 'RPS4Y', 'RPS5', 'RPS6', 'RPS7', \n",
    "    'RPS8', 'RPS9', 'RPS10', 'RPS11', 'RPS12', 'RPS13', 'RPS14', 'RPS15', 'RPS15A', \n",
    "    'RPS16', 'RPS17', 'RPS18', 'RPS19', 'RPS20', 'RPS21', 'RPS23', 'RPS24', 'RPS25', \n",
    "    'RPS26', 'RPS27', 'RPS27A', 'RPS28', 'RPS29', 'RPS30', 'RPP0', 'RPP1', 'RPP2', \n",
    "    'RPL3', 'RPL4', 'RPL5', 'RPL6', 'RPL7', 'RPL7A', 'RPL8', 'RPL9', 'RPL10', 'RPL11', \n",
    "    'RPL10A', 'RPL12', 'RPL13', 'RPL13A', 'RPL14', 'RPL15', 'RPL17', 'RPL18', 'RPL18A', \n",
    "    'RPL19', 'RPL21', 'RPL22', 'RPL23', 'RPL23A', 'RPL24', 'RPL26', 'RPL27', 'RPL27A', \n",
    "    'RPL30', 'RPL31', 'RPL32', 'RPL34', 'RPL35', 'RPL36', 'RPL36A', 'RPL37', 'RPL39', \n",
    "    'RPL40', 'RPL41', 'EIF3A', 'EIF3E', 'EIF3F', 'EIF3H', 'EIF4B', 'EEF1A', 'EEF1B2', \n",
    "    'EEF1D', 'EEF1G', 'EEF2', 'RACK1', 'PABP', 'HNRNPA1', 'NUCLEOPHOSMIN', 'NAP1L1', \n",
    "    'TCTP', 'VIMENTIN'\n",
    "]\n",
    "# ribosomal\n",
    "pois = ['RPSA', 'RPS2', 'RPS3', 'RPS3A', 'RPS4X', 'RPS4Y', 'RPS5', 'RPS6', 'RPS7', \n",
    "    'RPS8', 'RPS9', 'RPS10', 'RPS11', 'RPS12', 'RPS13', 'RPS14', 'RPS15', 'RPS15A', \n",
    "    'RPS16', 'RPS17', 'RPS18', 'RPS19', 'RPS20', 'RPS21', 'RPS23', 'RPS24', 'RPS25', \n",
    "    'RPS26', 'RPS27', 'RPS27A', 'RPS28', 'RPS29', 'RPS30', 'RPP0', 'RPP1', 'RPP2', \n",
    "    'RPL3', 'RPL4', 'RPL5', 'RPL6', 'RPL7', 'RPL7A', 'RPL8', 'RPL9', 'RPL10', 'RPL11', \n",
    "    'RPL10A', 'RPL12', 'RPL13', 'RPL13A', 'RPL14', 'RPL15', 'RPL17', 'RPL18', 'RPL18A', \n",
    "    'RPL19', 'RPL21', 'RPL22', 'RPL23', 'RPL23A', 'RPL24', 'RPL26', 'RPL27', 'RPL27A', \n",
    "    'RPL30', 'RPL31', 'RPL32', 'RPL34', 'RPL35', 'RPL36', 'RPL36A', 'RPL37', 'RPL39', \n",
    "    'RPL40', 'RPL41']\n",
    "# non ribosomal\n",
    "#pois = ['EIF3A', 'EIF3E', 'EIF3F', 'EIF3H', 'EIF4B', 'EEF1A', 'EEF1B2','EEF1D', 'EEF1G', 'EEF2', 'RACK1', 'PABPC1', 'HNRNPA1', 'NPM1', 'NAP1L1','TCTP', 'VIM']\n",
    "\n",
    "# other proteins of interest\n",
    "# eIF containing proteins\n",
    "#pois = ['EIF1', 'EIF2A', 'EIF2AK1', 'EIF2AK2', 'EIF2AK3', 'EIF2AK4', 'EIF2B1', 'EIF2B2', 'EIF2B3', 'EIF2B4', 'EIF2B5', 'EIF2C1', 'EIF2C2', 'EIF2C3', 'EIF2C4', 'EIF2S1', 'EIF2S2', 'EIF2S3', 'EIF3A', 'EIF3B', 'EIF3C', 'EIF3D', 'EIF3E', 'EIF3F', 'EIF3G', 'EIF3H', 'EIF3I', 'EIF3J', 'EIF3K', 'EIF3L', 'EIF3M', 'EIF4A1', 'EIF4A2', 'EIF4A3', 'EIF4B', 'EIF4E2', 'EIF4E3', 'EIF4EBP1', 'EIF4EBP2', 'EIF4EBP3', 'EIF4H', 'EIF5', 'EIF5A', 'EIF5A2', 'EIF5B', 'EIF6']\n",
    "# knock downs\n",
    "pois = ['EIF4E','EIF4G1','EIF4G2','EIF4G3','EIF4EBP1','UBE2E1']\n",
    "#pois = ['CDK4', 'CDK6']\n",
    "#pois = ['FTH1', 'FTL', 'TFRC', 'BRD4', 'CDK4', 'CDK6','EIF4E','EIF4G1','SALL4', 'ZNF827','ZNF692','ZFP91','DTWD1', 'RNF166', 'FAM83F']\n",
    "#pois = ['SALL4', 'ZNF827','ZNF692','ZFP91','DTWD1', 'RNF166', 'FAM83F']\n",
    "#pois = ['P02794', 'P02792', 'P02786', 'O60885', 'P11802', 'Q00534']\n",
    "#pois = ['EIF4E','EIF4G1','EIF4G2','EIF4G3']"
   ]
  },
  {
   "cell_type": "code",
   "execution_count": 11,
   "id": "4b5a82c6-92f6-4cff-9b83-f5e8a0992874",
   "metadata": {},
   "outputs": [
    {
     "name": "stdout",
     "output_type": "stream",
     "text": [
      "['e+ vs control_light.csv', 'e+ vs control_nsp.csv', 'g1+ vs control_light.csv', 'g1+ vs control_nsp.csv', 'g2+ vs control_light.csv', 'g2+ vs control_nsp.csv', 'g3+ vs control_light.csv', 'g3+ vs control_nsp.csv']\n"
     ]
    },
    {
     "data": {
      "application/vnd.jupyter.widget-view+json": {
       "model_id": "195994c9999447009d6736423ca70d4b",
       "version_major": 2,
       "version_minor": 0
      },
      "text/plain": [
       "VBox(children=(FloatSlider(value=0.05, continuous_update=False, description='Significance Level:', max=0.1, mi…"
      ]
     },
     "metadata": {},
     "output_type": "display_data"
    },
    {
     "data": {
      "application/vnd.jupyter.widget-view+json": {
       "model_id": "40f276ea025c44bd9dd97b65eeae32ea",
       "version_major": 2,
       "version_minor": 0
      },
      "text/plain": [
       "Output()"
      ]
     },
     "metadata": {},
     "output_type": "display_data"
    },
    {
     "data": {
      "application/vnd.jupyter.widget-view+json": {
       "model_id": "8031134cb0af47c789d1b00062e76d30",
       "version_major": 2,
       "version_minor": 0
      },
      "text/plain": [
       "Output()"
      ]
     },
     "metadata": {},
     "output_type": "display_data"
    },
    {
     "data": {
      "application/vnd.jupyter.widget-view+json": {
       "model_id": "7a69dd2697544ae89bc17b654edc7355",
       "version_major": 2,
       "version_minor": 0
      },
      "text/plain": [
       "Output()"
      ]
     },
     "metadata": {},
     "output_type": "display_data"
    },
    {
     "data": {
      "application/vnd.jupyter.widget-view+json": {
       "model_id": "4299f1a9e1584375b0dd7c49d3272e48",
       "version_major": 2,
       "version_minor": 0
      },
      "text/plain": [
       "VBox(children=(FloatSlider(value=0.05, continuous_update=False, description='Significance Level:', max=0.1, mi…"
      ]
     },
     "metadata": {},
     "output_type": "display_data"
    },
    {
     "data": {
      "application/vnd.jupyter.widget-view+json": {
       "model_id": "1e4828164bd04a868e33c388703686f1",
       "version_major": 2,
       "version_minor": 0
      },
      "text/plain": [
       "Output()"
      ]
     },
     "metadata": {},
     "output_type": "display_data"
    },
    {
     "data": {
      "application/vnd.jupyter.widget-view+json": {
       "model_id": "1af9a301e0d7444c93c93129879125e7",
       "version_major": 2,
       "version_minor": 0
      },
      "text/plain": [
       "Output()"
      ]
     },
     "metadata": {},
     "output_type": "display_data"
    },
    {
     "data": {
      "application/vnd.jupyter.widget-view+json": {
       "model_id": "825fbcb80dea4dc686ac938446a0e4cf",
       "version_major": 2,
       "version_minor": 0
      },
      "text/plain": [
       "Output()"
      ]
     },
     "metadata": {},
     "output_type": "display_data"
    },
    {
     "data": {
      "application/vnd.jupyter.widget-view+json": {
       "model_id": "335999d9acd44487b7d8cfb9bc625a63",
       "version_major": 2,
       "version_minor": 0
      },
      "text/plain": [
       "VBox(children=(FloatSlider(value=0.05, continuous_update=False, description='Significance Level:', max=0.1, mi…"
      ]
     },
     "metadata": {},
     "output_type": "display_data"
    },
    {
     "data": {
      "application/vnd.jupyter.widget-view+json": {
       "model_id": "3bbeed5d7ec245e18f0f33471d13f98d",
       "version_major": 2,
       "version_minor": 0
      },
      "text/plain": [
       "Output()"
      ]
     },
     "metadata": {},
     "output_type": "display_data"
    },
    {
     "data": {
      "application/vnd.jupyter.widget-view+json": {
       "model_id": "2aefe12a3ea240c98ed115550ab1e549",
       "version_major": 2,
       "version_minor": 0
      },
      "text/plain": [
       "Output()"
      ]
     },
     "metadata": {},
     "output_type": "display_data"
    },
    {
     "data": {
      "application/vnd.jupyter.widget-view+json": {
       "model_id": "6710b333cabc455e9d84b7e78c298ccb",
       "version_major": 2,
       "version_minor": 0
      },
      "text/plain": [
       "Output()"
      ]
     },
     "metadata": {},
     "output_type": "display_data"
    },
    {
     "data": {
      "application/vnd.jupyter.widget-view+json": {
       "model_id": "d05cb6e0ea104c1bbd63cb40673dae1e",
       "version_major": 2,
       "version_minor": 0
      },
      "text/plain": [
       "VBox(children=(FloatSlider(value=0.05, continuous_update=False, description='Significance Level:', max=0.1, mi…"
      ]
     },
     "metadata": {},
     "output_type": "display_data"
    },
    {
     "data": {
      "application/vnd.jupyter.widget-view+json": {
       "model_id": "2ff624fd63bb48418a00dd177884a09e",
       "version_major": 2,
       "version_minor": 0
      },
      "text/plain": [
       "Output()"
      ]
     },
     "metadata": {},
     "output_type": "display_data"
    },
    {
     "data": {
      "application/vnd.jupyter.widget-view+json": {
       "model_id": "7e8c6b7b00cc455382227cd685e9b422",
       "version_major": 2,
       "version_minor": 0
      },
      "text/plain": [
       "Output()"
      ]
     },
     "metadata": {},
     "output_type": "display_data"
    },
    {
     "data": {
      "application/vnd.jupyter.widget-view+json": {
       "model_id": "76d6d425aeda4ad98af9f4945a8283b5",
       "version_major": 2,
       "version_minor": 0
      },
      "text/plain": [
       "Output()"
      ]
     },
     "metadata": {},
     "output_type": "display_data"
    },
    {
     "data": {
      "application/vnd.jupyter.widget-view+json": {
       "model_id": "5fd7aede654f4f75acaa5fb46aecf42c",
       "version_major": 2,
       "version_minor": 0
      },
      "text/plain": [
       "VBox(children=(FloatSlider(value=0.05, continuous_update=False, description='Significance Level:', max=0.1, mi…"
      ]
     },
     "metadata": {},
     "output_type": "display_data"
    },
    {
     "data": {
      "application/vnd.jupyter.widget-view+json": {
       "model_id": "3cb9dd9be32a4eda94067b0198e4fb0c",
       "version_major": 2,
       "version_minor": 0
      },
      "text/plain": [
       "Output()"
      ]
     },
     "metadata": {},
     "output_type": "display_data"
    },
    {
     "data": {
      "application/vnd.jupyter.widget-view+json": {
       "model_id": "bfa0c183c0994afca93e79f54494ab7f",
       "version_major": 2,
       "version_minor": 0
      },
      "text/plain": [
       "Output()"
      ]
     },
     "metadata": {},
     "output_type": "display_data"
    },
    {
     "data": {
      "application/vnd.jupyter.widget-view+json": {
       "model_id": "cabbc41acaa6428e8b90b893e042ea55",
       "version_major": 2,
       "version_minor": 0
      },
      "text/plain": [
       "Output()"
      ]
     },
     "metadata": {},
     "output_type": "display_data"
    },
    {
     "data": {
      "application/vnd.jupyter.widget-view+json": {
       "model_id": "3d0352fb08794392b67231a00da917fc",
       "version_major": 2,
       "version_minor": 0
      },
      "text/plain": [
       "VBox(children=(FloatSlider(value=0.05, continuous_update=False, description='Significance Level:', max=0.1, mi…"
      ]
     },
     "metadata": {},
     "output_type": "display_data"
    },
    {
     "data": {
      "application/vnd.jupyter.widget-view+json": {
       "model_id": "f6c3e977729144b9afc19cd1bcbe3c70",
       "version_major": 2,
       "version_minor": 0
      },
      "text/plain": [
       "Output()"
      ]
     },
     "metadata": {},
     "output_type": "display_data"
    },
    {
     "data": {
      "application/vnd.jupyter.widget-view+json": {
       "model_id": "a0785d0609174d9c9c8bccaeee3e6106",
       "version_major": 2,
       "version_minor": 0
      },
      "text/plain": [
       "Output()"
      ]
     },
     "metadata": {},
     "output_type": "display_data"
    },
    {
     "data": {
      "application/vnd.jupyter.widget-view+json": {
       "model_id": "816969be30034d2abb0342ee287d0ffc",
       "version_major": 2,
       "version_minor": 0
      },
      "text/plain": [
       "Output()"
      ]
     },
     "metadata": {},
     "output_type": "display_data"
    },
    {
     "data": {
      "application/vnd.jupyter.widget-view+json": {
       "model_id": "8cbc083b435e4651bfdf3531b6f235c3",
       "version_major": 2,
       "version_minor": 0
      },
      "text/plain": [
       "VBox(children=(FloatSlider(value=0.05, continuous_update=False, description='Significance Level:', max=0.1, mi…"
      ]
     },
     "metadata": {},
     "output_type": "display_data"
    },
    {
     "data": {
      "application/vnd.jupyter.widget-view+json": {
       "model_id": "58e7ea08c13547afb597906052bd5256",
       "version_major": 2,
       "version_minor": 0
      },
      "text/plain": [
       "Output()"
      ]
     },
     "metadata": {},
     "output_type": "display_data"
    },
    {
     "data": {
      "application/vnd.jupyter.widget-view+json": {
       "model_id": "1c872f144ce34eeb841f77dbc6cd8efb",
       "version_major": 2,
       "version_minor": 0
      },
      "text/plain": [
       "Output()"
      ]
     },
     "metadata": {},
     "output_type": "display_data"
    },
    {
     "data": {
      "application/vnd.jupyter.widget-view+json": {
       "model_id": "ea1fe9853d7f471cb64b1c71540679e6",
       "version_major": 2,
       "version_minor": 0
      },
      "text/plain": [
       "Output()"
      ]
     },
     "metadata": {},
     "output_type": "display_data"
    },
    {
     "data": {
      "application/vnd.jupyter.widget-view+json": {
       "model_id": "3d023afab43440bdbc37f38f6f2d291a",
       "version_major": 2,
       "version_minor": 0
      },
      "text/plain": [
       "VBox(children=(FloatSlider(value=0.05, continuous_update=False, description='Significance Level:', max=0.1, mi…"
      ]
     },
     "metadata": {},
     "output_type": "display_data"
    },
    {
     "data": {
      "application/vnd.jupyter.widget-view+json": {
       "model_id": "586944b796af47c1a2a65cac7c1898d3",
       "version_major": 2,
       "version_minor": 0
      },
      "text/plain": [
       "Output()"
      ]
     },
     "metadata": {},
     "output_type": "display_data"
    },
    {
     "data": {
      "application/vnd.jupyter.widget-view+json": {
       "model_id": "7364db73acb5446d902f6b9e45302c9e",
       "version_major": 2,
       "version_minor": 0
      },
      "text/plain": [
       "Output()"
      ]
     },
     "metadata": {},
     "output_type": "display_data"
    },
    {
     "data": {
      "application/vnd.jupyter.widget-view+json": {
       "model_id": "41b01692f05f4cb1a541626e55981ad0",
       "version_major": 2,
       "version_minor": 0
      },
      "text/plain": [
       "Output()"
      ]
     },
     "metadata": {},
     "output_type": "display_data"
    }
   ],
   "source": [
    "loop_and_plot_results(path, pois, interactive=True, uniprot=False)"
   ]
  },
  {
   "cell_type": "code",
   "execution_count": null,
   "id": "ee4c24c5-9718-4339-9082-c03bf5f5f395",
   "metadata": {},
   "outputs": [],
   "source": []
  },
  {
   "cell_type": "code",
   "execution_count": null,
   "id": "c19489a2-44eb-442c-aad2-55ca702cc623",
   "metadata": {},
   "outputs": [],
   "source": []
  }
 ],
 "metadata": {
  "kernelspec": {
   "display_name": "Python 3 (ipykernel)",
   "language": "python",
   "name": "python3"
  },
  "language_info": {
   "codemirror_mode": {
    "name": "ipython",
    "version": 3
   },
   "file_extension": ".py",
   "mimetype": "text/x-python",
   "name": "python",
   "nbconvert_exporter": "python",
   "pygments_lexer": "ipython3",
   "version": "3.8.18"
  }
 },
 "nbformat": 4,
 "nbformat_minor": 5
}
