{
 "cells": [
  {
   "cell_type": "code",
   "execution_count": 1,
   "id": "3e81793f-8bb4-4d65-a50e-4216462fcfc6",
   "metadata": {},
   "outputs": [],
   "source": [
    "#preprocessing"
   ]
  },
  {
   "cell_type": "code",
   "execution_count": 2,
   "id": "42cfe75a-9cf6-46ed-a0cd-535e4888e958",
   "metadata": {},
   "outputs": [],
   "source": [
    "from sdia_stats.preprocessing import imputation\n"
   ]
  },
  {
   "cell_type": "code",
   "execution_count": 1,
   "id": "fd9661dd-faff-4b06-b30d-161317212b5c",
   "metadata": {},
   "outputs": [],
   "source": [
    "path = 'G:/My Drive/Data/data/poc1 statstest/H/'"
   ]
  },
  {
   "cell_type": "code",
   "execution_count": null,
   "id": "3c603ad1-08fc-47ca-a745-f8ec6298d5d4",
   "metadata": {},
   "outputs": [],
   "source": []
  }
 ],
 "metadata": {
  "kernelspec": {
   "display_name": "Python 3 (ipykernel)",
   "language": "python",
   "name": "python3"
  },
  "language_info": {
   "codemirror_mode": {
    "name": "ipython",
    "version": 3
   },
   "file_extension": ".py",
   "mimetype": "text/x-python",
   "name": "python",
   "nbconvert_exporter": "python",
   "pygments_lexer": "ipython3",
   "version": "3.8.18"
  }
 },
 "nbformat": 4,
 "nbformat_minor": 5
}
