{
 "cells": [
  {
   "cell_type": "markdown",
   "id": "1bdabf36-bfef-4fa2-913a-77aaf638d386",
   "metadata": {},
   "source": [
    "# Entire Pipeline"
   ]
  },
  {
   "cell_type": "code",
   "execution_count": 1,
   "id": "1e00902a-ca15-49e0-90ed-b29f7b0721e1",
   "metadata": {},
   "outputs": [
    {
     "name": "stderr",
     "output_type": "stream",
     "text": [
      "C:\\Users\\robbi\\AppData\\Local\\miniconda3\\envs\\full_pipeline\\lib\\site-packages\\alphastats\\loader\\BaseLoader.py:6: DeprecationWarning: pkg_resources is deprecated as an API. See https://setuptools.pypa.io/en/latest/pkg_resources.html\n",
      "  import pkg_resources\n",
      "C:\\Users\\robbi\\AppData\\Local\\miniconda3\\envs\\full_pipeline\\lib\\site-packages\\pkg_resources\\__init__.py:2871: DeprecationWarning: Deprecated call to `pkg_resources.declare_namespace('mpl_toolkits')`.\n",
      "Implementing implicit namespace packages (as specified in PEP 420) is preferred to `pkg_resources.declare_namespace`. See https://setuptools.pypa.io/en/latest/references/keywords.html#keyword-namespace-packages\n",
      "  declare_namespace(pkg)\n",
      "C:\\Users\\robbi\\AppData\\Local\\miniconda3\\envs\\full_pipeline\\lib\\site-packages\\pkg_resources\\__init__.py:2871: DeprecationWarning: Deprecated call to `pkg_resources.declare_namespace('google')`.\n",
      "Implementing implicit namespace packages (as specified in PEP 420) is preferred to `pkg_resources.declare_namespace`. See https://setuptools.pypa.io/en/latest/references/keywords.html#keyword-namespace-packages\n",
      "  declare_namespace(pkg)\n",
      "C:\\Users\\robbi\\AppData\\Local\\miniconda3\\envs\\full_pipeline\\lib\\site-packages\\pkg_resources\\__init__.py:2871: DeprecationWarning: Deprecated call to `pkg_resources.declare_namespace('pyteomics')`.\n",
      "Implementing implicit namespace packages (as specified in PEP 420) is preferred to `pkg_resources.declare_namespace`. See https://setuptools.pypa.io/en/latest/references/keywords.html#keyword-namespace-packages\n",
      "  declare_namespace(pkg)\n",
      "C:\\Users\\robbi\\AppData\\Local\\miniconda3\\envs\\full_pipeline\\lib\\site-packages\\pkg_resources\\__init__.py:2871: DeprecationWarning: Deprecated call to `pkg_resources.declare_namespace('sphinxcontrib')`.\n",
      "Implementing implicit namespace packages (as specified in PEP 420) is preferred to `pkg_resources.declare_namespace`. See https://setuptools.pypa.io/en/latest/references/keywords.html#keyword-namespace-packages\n",
      "  declare_namespace(pkg)\n",
      "C:\\Users\\robbi\\AppData\\Local\\miniconda3\\envs\\full_pipeline\\lib\\site-packages\\outdated\\utils.py:14: OutdatedPackageWarning: The package pingouin is out of date. Your version is 0.5.3, the latest is 0.5.4.\n",
      "Set the environment variable OUTDATED_IGNORE=1 to disable these warnings.\n",
      "  return warn(\n"
     ]
    }
   ],
   "source": [
    "from silac_dia_tools.pipeline_refactored.pipeline import Pipeline as pileline\n",
    "from sdia_stats.preprocessing import adapted_imputation \n",
    "from sdia_stats.preprocessing import normalize_samples\n",
    "from sdia_stats.preprocessing import filter_contams_and_non_valid_rows\n",
    "from sdia_stats.statistics import ttest\n",
    "from sdia_stats.visualization.interpret_ttest_results import loop_and_plot_results\n",
    "import pandas as pd"
   ]
  },
  {
   "cell_type": "markdown",
   "id": "a3dfc077-472c-43e3-9b67-39bc8c73e9ce",
   "metadata": {},
   "source": [
    "## Process report.tsv"
   ]
  },
  {
   "cell_type": "code",
   "execution_count": 2,
   "id": "241fc7f6-2f95-4fce-82c0-dde907eeaf87",
   "metadata": {},
   "outputs": [],
   "source": [
    "meta =  'G:/My Drive/Data/data/20240216 eIF3D timsTOF/meta.csv'\n",
    "path = 'G:/My Drive/Data/data/20240216 eIF3D timsTOF/'\n",
    "\n"
   ]
  },
  {
   "cell_type": "code",
   "execution_count": null,
   "id": "b318a162-963c-437b-9ff8-6b3dbc87fa92",
   "metadata": {},
   "outputs": [
    {
     "name": "stdout",
     "output_type": "stream",
     "text": [
      "Metadata added, looking for the following file: meta.csv\n",
      "CSV file 'meta.csv' found in G:/My Drive/Data/data/20240216 eIF3D timsTOF/\n",
      "Beginning import report.tsv\n"
     ]
    },
    {
     "name": "stderr",
     "output_type": "stream",
     "text": [
      "Estimated loading of report.tsv based on file size: 17it [01:01,  3.64s/it]                                            \n"
     ]
    },
    {
     "name": "stdout",
     "output_type": "stream",
     "text": [
      "Finished import\n",
      "Time taken for import: 62.1302924156189 seconds\n",
      "Calculating SILAC ratios based on Ms1.Translated and Precursor.Translated\n",
      "Rolling up to protein level\n"
     ]
    },
    {
     "name": "stderr",
     "output_type": "stream",
     "text": [
      "Computing protein level ratios for each run: 100%|█████████████████████████████████████| 11/11 [00:23<00:00,  2.14s/it]\n"
     ]
    },
    {
     "name": "stdout",
     "output_type": "stream",
     "text": [
      "Folder created successfully at G:/My Drive/Data/data/20240216 eIF3D timsTOF/dlfq\n",
      "Starting directLFQ analysis.\n",
      "reformatting input file, for large files this might take a while.\n"
     ]
    },
    {
     "name": "stderr",
     "output_type": "stream",
     "text": [
      "2024-04-21 12:34:44,111 - directlfq.utils - INFO - using input type diann_precursors\n"
     ]
    },
    {
     "name": "stdout",
     "output_type": "stream",
     "text": [
      "Performing sample normalization.\n"
     ]
    },
    {
     "name": "stderr",
     "output_type": "stream",
     "text": [
      "2024-04-21 12:34:51,015 - directlfq.protein_intensity_estimation - INFO - 6945 lfq-groups total\n"
     ]
    },
    {
     "name": "stdout",
     "output_type": "stream",
     "text": [
      "Estimating lfq intensities.\n"
     ]
    }
   ],
   "source": [
    "pipeline = pileline( f'{path}', 'test_params.json', contains_reference = True, method = 'dynamic_silac', pulse_channel=\"H\", meta='meta.csv')\n",
    "pipeline.execute_pipeline()\n"
   ]
  },
  {
   "cell_type": "code",
   "execution_count": null,
   "id": "b04530a6-aea1-4fea-97e5-9a2723f7e51b",
   "metadata": {},
   "outputs": [],
   "source": [
    "filter_contams_and_non_valid_rows.filter_protein_intensities(path, meta)"
   ]
  },
  {
   "cell_type": "code",
   "execution_count": null,
   "id": "bbf1ad25-4b01-4a76-9434-60c195a9a5b0",
   "metadata": {},
   "outputs": [],
   "source": [
    "normalize_samples.main(path, group, meta)\n"
   ]
  },
  {
   "cell_type": "code",
   "execution_count": null,
   "id": "92ceb1df-c042-4252-bc79-7765c6e0512c",
   "metadata": {},
   "outputs": [],
   "source": [
    "control_samples = list(group.keys())\n",
    "light, nsp, light_annotated, nsp_annotated, light_annotated_copy, nsp_annotated_copy = adapted_imputation.process_intensities(path,control_samples, meta, plot_imputation=True)"
   ]
  }
 ],
 "metadata": {
  "kernelspec": {
   "display_name": "Python 3 (ipykernel)",
   "language": "python",
   "name": "python3"
  },
  "language_info": {
   "codemirror_mode": {
    "name": "ipython",
    "version": 3
   },
   "file_extension": ".py",
   "mimetype": "text/x-python",
   "name": "python",
   "nbconvert_exporter": "python",
   "pygments_lexer": "ipython3",
   "version": "3.8.19"
  }
 },
 "nbformat": 4,
 "nbformat_minor": 5
}
