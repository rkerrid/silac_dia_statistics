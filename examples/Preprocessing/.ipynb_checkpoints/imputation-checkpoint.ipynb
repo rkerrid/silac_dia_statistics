{
 "cells": [
  {
   "cell_type": "code",
   "execution_count": 1,
   "id": "fc4b65cf-3701-42b9-ab51-effeb19fc0ce",
   "metadata": {},
   "outputs": [],
   "source": [
    "# Preprocessing (imputation)"
   ]
  },
  {
   "cell_type": "code",
   "execution_count": null,
   "id": "a303be45-b80a-4a46-a643-41eb9b1662c7",
   "metadata": {},
   "outputs": [],
   "source": [
    "from sdia_stats.preprocessing import adapted_imputation \n",
    "from sdia_stats.preprocessing import normalize_samples\n",
    "from sdia_stats.preprocessing import filter_contams_and_non_valid_rows"
   ]
  },
  {
   "cell_type": "code",
   "execution_count": null,
   "id": "89a0b46f-50bc-4ff7-bbb8-685585e7f54f",
   "metadata": {},
   "outputs": [],
   "source": [
    "meta = 'G:/My Drive/Data/data/20240410 SRP AID/meta.csv'\n",
    "path = 'G:/My Drive/Data/data/20240410 SRP AID/'"
   ]
  },
  {
   "cell_type": "code",
   "execution_count": null,
   "id": "c8a95ffe-9a1d-416e-b995-ae613391aba1",
   "metadata": {},
   "outputs": [],
   "source": [
    "group = {'54-': ['54+'], \n",
    "          '68-':['68+'],\n",
    "          '72-':['72+']\n",
    "              }\n",
    "control_samples = list(group.keys())\n",
    "light, nsp, light_annotated, nsp_annotated, light_annotated_copy, nsp_annotated_copy = adapted_imputation.process_intensities(path,control_samples,meta, plot_imputation=True)"
   ]
  },
  {
   "cell_type": "code",
   "execution_count": null,
   "id": "6d3f37b1-84e0-4ad3-a537-18db138b6569",
   "metadata": {},
   "outputs": [],
   "source": []
  }
 ],
 "metadata": {
  "kernelspec": {
   "display_name": "Python 3 (ipykernel)",
   "language": "python",
   "name": "python3"
  },
  "language_info": {
   "codemirror_mode": {
    "name": "ipython",
    "version": 3
   },
   "file_extension": ".py",
   "mimetype": "text/x-python",
   "name": "python",
   "nbconvert_exporter": "python",
   "pygments_lexer": "ipython3",
   "version": "3.8.19"
  }
 },
 "nbformat": 4,
 "nbformat_minor": 5
}
