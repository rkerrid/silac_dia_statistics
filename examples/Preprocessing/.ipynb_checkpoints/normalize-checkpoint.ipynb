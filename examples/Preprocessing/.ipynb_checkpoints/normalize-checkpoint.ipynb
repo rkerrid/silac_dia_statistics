{
 "cells": [
  {
   "cell_type": "markdown",
   "id": "76d21d3a-18f1-443e-a13b-595830745de1",
   "metadata": {},
   "source": [
    "# Preprocessing (normalize)"
   ]
  },
  {
   "cell_type": "code",
   "execution_count": null,
   "id": "9ef07128-de1b-4300-9383-387e0558e3ff",
   "metadata": {},
   "outputs": [],
   "source": [
    "from sdia_stats.preprocessing import adapted_imputation \n",
    "from sdia_stats.preprocessing import normalize_samples\n",
    "from sdia_stats.preprocessing import filter_contams_and_non_valid_rows"
   ]
  },
  {
   "cell_type": "code",
   "execution_count": null,
   "id": "b62e720d-0848-4664-b97b-194bf88ee83a",
   "metadata": {},
   "outputs": [],
   "source": [
    "meta = 'G:/My Drive/Data/data/20240410 SRP AID/meta.csv'\n",
    "path = 'G:/My Drive/Data/data/20240410 SRP AID/protein_groups_statistics/'\n"
   ]
  },
  {
   "cell_type": "code",
   "execution_count": 1,
   "id": "39846438-3d94-4a2d-b0ae-daa09deea637",
   "metadata": {},
   "outputs": [
    {
     "ename": "NameError",
     "evalue": "name 'normalize_samples' is not defined",
     "output_type": "error",
     "traceback": [
      "\u001b[1;31m---------------------------------------------------------------------------\u001b[0m",
      "\u001b[1;31mNameError\u001b[0m                                 Traceback (most recent call last)",
      "Cell \u001b[1;32mIn[1], line 10\u001b[0m\n\u001b[0;32m      1\u001b[0m group \u001b[38;5;241m=\u001b[39m {\u001b[38;5;124m'\u001b[39m\u001b[38;5;124m3D_08-\u001b[39m\u001b[38;5;124m'\u001b[39m: [\u001b[38;5;124m'\u001b[39m\u001b[38;5;124m3D_08+\u001b[39m\u001b[38;5;124m'\u001b[39m], \n\u001b[0;32m      2\u001b[0m           \u001b[38;5;124m'\u001b[39m\u001b[38;5;124m3D_28-\u001b[39m\u001b[38;5;124m'\u001b[39m:[\u001b[38;5;124m'\u001b[39m\u001b[38;5;124m3D_28+\u001b[39m\u001b[38;5;124m'\u001b[39m],\n\u001b[0;32m      3\u001b[0m           \u001b[38;5;124m'\u001b[39m\u001b[38;5;124mG3_08-\u001b[39m\u001b[38;5;124m'\u001b[39m:[\u001b[38;5;124m'\u001b[39m\u001b[38;5;124mG3_08+\u001b[39m\u001b[38;5;124m'\u001b[39m],\n\u001b[1;32m   (...)\u001b[0m\n\u001b[0;32m      6\u001b[0m           \u001b[38;5;124m'\u001b[39m\u001b[38;5;124mG2_28-\u001b[39m\u001b[38;5;124m'\u001b[39m:[\u001b[38;5;124m'\u001b[39m\u001b[38;5;124mG2_28+\u001b[39m\u001b[38;5;124m'\u001b[39m]\n\u001b[0;32m      7\u001b[0m               }\n\u001b[0;32m      8\u001b[0m path \u001b[38;5;241m=\u001b[39m \u001b[38;5;124m'\u001b[39m\u001b[38;5;124mG:/My Drive/Data/data/20240306 eIF 5 lines/3D test/\u001b[39m\u001b[38;5;124m'\u001b[39m\n\u001b[1;32m---> 10\u001b[0m \u001b[43mnormalize_samples\u001b[49m\u001b[38;5;241m.\u001b[39mmain(path, group, meta)\n",
      "\u001b[1;31mNameError\u001b[0m: name 'normalize_samples' is not defined"
     ]
    }
   ],
   "source": [
    "\n",
    "group = {'3D_08-': ['3D_08+'], \n",
    "          '3D_28-':['3D_28+'],\n",
    "          'G3_08-':['G3_08+'],\n",
    "          'G3_28-':['G3_28+'],\n",
    "          'G2_08-':['G2_08+'],\n",
    "          'G2_28-':['G2_28+']\n",
    "              }\n",
    "path = 'G:/My Drive/Data/data/20240306 eIF 5 lines/3D test/'\n",
    "\n",
    "normalize_samples.main(path, group, meta)"
   ]
  },
  {
   "cell_type": "code",
   "execution_count": null,
   "id": "929cd49a-49cd-47e4-a1f8-719a14cc65b5",
   "metadata": {},
   "outputs": [],
   "source": []
  }
 ],
 "metadata": {
  "kernelspec": {
   "display_name": "Python 3 (ipykernel)",
   "language": "python",
   "name": "python3"
  },
  "language_info": {
   "codemirror_mode": {
    "name": "ipython",
    "version": 3
   },
   "file_extension": ".py",
   "mimetype": "text/x-python",
   "name": "python",
   "nbconvert_exporter": "python",
   "pygments_lexer": "ipython3",
   "version": "3.8.19"
  }
 },
 "nbformat": 4,
 "nbformat_minor": 5
}
