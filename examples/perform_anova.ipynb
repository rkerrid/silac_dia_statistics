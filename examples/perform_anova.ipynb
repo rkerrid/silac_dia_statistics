{
 "cells": [
  {
   "cell_type": "code",
   "execution_count": 1,
   "id": "16d79de2-d1d4-40a4-80bb-4909a716cb31",
   "metadata": {},
   "outputs": [],
   "source": [
    "# perform anova"
   ]
  },
  {
   "cell_type": "code",
   "execution_count": 9,
   "id": "b5d23965-836d-4da6-b9a2-287b4a646beb",
   "metadata": {},
   "outputs": [],
   "source": [
    "from sdia_stats.statistics import anova\n",
    "import pandas as pd"
   ]
  },
  {
   "cell_type": "code",
   "execution_count": 10,
   "id": "30dbaa88-4ced-4e73-88d5-f0399bf843db",
   "metadata": {},
   "outputs": [],
   "source": [
    "path = 'G:/My Drive/Data/data/poc4/H/imputed/normalized/'\n",
    "path = 'G:/My Drive/Data/data/eif4g optimization/imputed/normalized/'\n",
    "group = 'Treatment'"
   ]
  },
  {
   "cell_type": "code",
   "execution_count": 11,
   "id": "30fcf48f-a77f-430d-9bcd-bc2460763274",
   "metadata": {},
   "outputs": [],
   "source": [
    "# subset data\n",
    "light_df = pd.read_csv(f'{path}light.csv', sep=',')\n",
    "nsp_df = pd.read_csv(f'{path}nsp.csv', sep=',')\n",
    "subset_cols = ['Protein.Group','08a_1','08a_2','08a_3','18a_1','18a_2','18a_3','28a_1','28a_2','28a_3']\n",
    "light_df = light_df[subset_cols]\n",
    "nsp_df = nsp_df[subset_cols]"
   ]
  },
  {
   "cell_type": "code",
   "execution_count": 12,
   "id": "4fb1ded6-0c28-48bb-8fc3-c6153cb0d0a3",
   "metadata": {},
   "outputs": [],
   "source": [
    "light_df.to_csv(f'{path}/for_anova/light.csv', index=False)\n",
    "nsp_df.to_csv(f'{path}/for_anova/nsp.csv', index=False)"
   ]
  },
  {
   "cell_type": "code",
   "execution_count": 13,
   "id": "1745b594-eac5-4c48-9b5b-864405fc5d0f",
   "metadata": {},
   "outputs": [],
   "source": [
    "path = 'G:/My Drive/Data/data/eif4g optimization/imputed/normalized/for_anova/'\n",
    "group = 'Treatment'"
   ]
  },
  {
   "cell_type": "code",
   "execution_count": 14,
   "id": "73dc7750-6ff8-45a4-a289-6a7dcd10ea28",
   "metadata": {},
   "outputs": [
    {
     "name": "stderr",
     "output_type": "stream",
     "text": [
      "WARNING:root:['08c_1', '08c_2', '18c_1', '26c_2', '28c_3', '26a_1', '28c_1', '28c_2', '26a_2', '26c_3', '18c_3', '26c_1', '18c_2', '08c_3', '26a_3'] are not described in the protein data andare removed from the metadata.\n",
      "WARNING:root:['08c_1', '08c_2', '18c_1', '26c_2', '28c_3', '26a_1', '28c_1', '28c_2', '26a_2', '26c_3', '18c_3', '26c_1', '18c_2', '08c_3', '26a_3'] are not described in the protein data andare removed from the metadata.\n"
     ]
    },
    {
     "name": "stdout",
     "output_type": "stream",
     "text": [
      "DataSet has been created.\n",
      "Attributes of the DataSet can be accessed using: \n",
      "DataSet.rawinput:\t Raw Protein data.\n",
      "DataSet.mat:\t\tProcessed data matrix with ProteinIDs/ProteinGroups as columns and samples as rows. All computations are performed on this matrix.\n",
      "DataSet.metadata:\tMetadata for the samples in the matrix. Metadata will be matched with DataSet.mat when needed (for instance Volcano Plot).\n",
      "DataSet has been created.\n",
      "Attributes of the DataSet can be accessed using: \n",
      "DataSet.rawinput:\t Raw Protein data.\n",
      "DataSet.mat:\t\tProcessed data matrix with ProteinIDs/ProteinGroups as columns and samples as rows. All computations are performed on this matrix.\n",
      "DataSet.metadata:\tMetadata for the samples in the matrix. Metadata will be matched with DataSet.mat when needed (for instance Volcano Plot).\n",
      "Data has been log2-transformed.\n",
      "Data has been log2-transformed.\n"
     ]
    },
    {
     "name": "stderr",
     "output_type": "stream",
     "text": [
      "100%|██████████████████████████████████████████████████████████████████████████████| 5292/5292 [07:53<00:00, 11.18it/s]\n",
      "100%|██████████████████████████████████████████████████████████████████████████████| 5568/5568 [08:29<00:00, 10.94it/s]\n"
     ]
    }
   ],
   "source": [
    "anova.preform_anova(path,group, subset_cols)"
   ]
  },
  {
   "cell_type": "code",
   "execution_count": null,
   "id": "9c51c8d4-b641-4c18-bfc8-a04163b60d6e",
   "metadata": {},
   "outputs": [],
   "source": []
  }
 ],
 "metadata": {
  "kernelspec": {
   "display_name": "Python 3 (ipykernel)",
   "language": "python",
   "name": "python3"
  },
  "language_info": {
   "codemirror_mode": {
    "name": "ipython",
    "version": 3
   },
   "file_extension": ".py",
   "mimetype": "text/x-python",
   "name": "python",
   "nbconvert_exporter": "python",
   "pygments_lexer": "ipython3",
   "version": "3.8.18"
  }
 },
 "nbformat": 4,
 "nbformat_minor": 5
}
