{
 "cells": [
  {
   "cell_type": "code",
   "execution_count": 1,
   "id": "df0a3b7e-b672-46c4-8d81-483281b42579",
   "metadata": {},
   "outputs": [],
   "source": [
    "# conda install -c conda-forge nodejs\n",
    "# jupyter labextension install @jupyter-widgets/jupyterlab-manager\n",
    "# jupyter labextension list\n",
    "# "
   ]
  },
  {
   "cell_type": "code",
   "execution_count": 2,
   "id": "cc18afb1-5965-45fa-b4c8-fd97b39dd598",
   "metadata": {
    "tags": []
   },
   "outputs": [],
   "source": [
    "import pandas as pd\n",
    "import numpy as np\n",
    "from scipy.stats import zscore\n",
    "import seaborn as sns\n",
    "import matplotlib.pyplot as plt\n",
    "from icecream import ic\n",
    "import plotly.express as px\n",
    "import ipywidgets as widgets\n",
    "from IPython.display import display\n",
    "\n"
   ]
  },
  {
   "cell_type": "code",
   "execution_count": 3,
   "id": "8ee97b5e-28a8-4b0c-8120-7210e4f34281",
   "metadata": {
    "tags": []
   },
   "outputs": [],
   "source": [
    "global significant_proteins_df\n",
    "significant_proteins_df = None"
   ]
  },
  {
   "cell_type": "code",
   "execution_count": 4,
   "id": "4fa69488-4c75-450e-98bf-7b38476b1c5d",
   "metadata": {
    "tags": []
   },
   "outputs": [],
   "source": [
    "def merge_data(df, ttest):\n",
    "    merged_df = pd.merge(df, ttest, on='Protein.Group')\n",
    "     \n",
    "    return merged_df"
   ]
  },
  {
   "cell_type": "code",
   "execution_count": 5,
   "id": "87565ddf-4f42-4a65-93b4-0325d3e351ea",
   "metadata": {
    "tags": []
   },
   "outputs": [],
   "source": [
    "def ttest_clustermap(df, path, title):\n",
    "    \n",
    "    filtered = df[df['pval']<0.01]\n",
    "    filtered = filtered.iloc[:, :-2]\n",
    "    \n",
    "    filtered.iloc[:,1:] = filtered.iloc[:,1:].apply(zscore, axis=1)\n",
    "    \n",
    "    filtered = filtered.set_index('Protein.Group')\n",
    "\n",
    "    # Define the figure size, width and especially height to accommodate more y-axis labels\n",
    "    height = len(filtered.index) * 0.3  # Adjust 0.3 to a smaller number if labels overlap, or larger for more space\n",
    "    width = 10\n",
    "    \n",
    "    g = sns.clustermap(filtered, figsize=(width, height), method='average', metric='euclidean',  cmap='viridis')\n",
    "    \n",
    "    \n",
    "    # sns.heatmap(total_filtered.iloc[:400,:], annot=False, cmap='viridis', linewidths=.5, vmin=-1,vmax=1)\n",
    "    \n",
    "    plt.setp(g.ax_heatmap.yaxis.get_majorticklabels(), rotation=-45, fontsize=6)\n",
    "    g.savefig(f'{path}cluster_{title}.pdf')\n",
    "    plt.show()"
   ]
  },
  {
   "cell_type": "code",
   "execution_count": 6,
   "id": "eea166c8-384c-4cec-8b50-c424ba95c84d",
   "metadata": {
    "tags": []
   },
   "outputs": [],
   "source": [
    "def create_volcano_plot(df, title):\n",
    "    def volcano(significance_level=0.05, fold_change=1.0, show_labels=False):\n",
    "        df['-log10(p_value)'] = -np.log10(df['pval'])\n",
    "\n",
    "        # Determine the color and labels for each point\n",
    "        df['color'] = 'blue'  # Default color\n",
    "        significant = df['-log10(p_value)'] >= -np.log10(significance_level)\n",
    "        high_fold_change = np.abs(df['log2fc']) >= fold_change\n",
    "        df['is_significant'] = significant & high_fold_change\n",
    "        df.loc[df['is_significant'], 'color'] = 'red'\n",
    "\n",
    "        if show_labels:\n",
    "            df['labels'] = np.where(df['is_significant'], df['Protein.Group'], None)\n",
    "        else:\n",
    "            df['labels'] = None\n",
    "\n",
    "        fig = px.scatter(df, x='log2fc', y='-log10(p_value)', hover_name='Protein.Group', color='color',\n",
    "                         title=title,\n",
    "                         labels={'log2fc': 'Log2 Fold Change', '-log10(p_value)': '-log10(p-value)'},\n",
    "                         color_discrete_map={'red': 'red', 'blue': 'blue'},\n",
    "                         text='labels')\n",
    "\n",
    "        significant_threshold = -np.log10(significance_level)\n",
    "        fig.add_hline(y=significant_threshold, line_dash=\"dash\", line_color=\"red\")\n",
    "\n",
    "        # Vertical lines for fold change\n",
    "        fig.add_vline(x=fold_change, line_dash=\"dash\", line_color=\"blue\")\n",
    "        fig.add_vline(x=-fold_change, line_dash=\"dash\", line_color=\"blue\")\n",
    "\n",
    "        fig.update_layout(height=600, width=800)\n",
    "        fig.update_traces(textposition='top center')\n",
    "        return fig\n",
    "\n",
    "    def generate_significant_proteins_list():\n",
    "        significant = df['-log10(p_value)'] >= -np.log10(sig_slider.value)\n",
    "        high_fold_change = np.abs(df['log2fc']) >= fc_slider.value\n",
    "        significant_proteins = df[significant & high_fold_change]\n",
    "\n",
    "        significant_proteins['upregulated'] = significant_proteins['log2fc'] > 0\n",
    "        significant_proteins['downregulated'] = significant_proteins['log2fc'] < 0\n",
    "\n",
    "        result_df = significant_proteins[['Protein.Group', 'upregulated', 'downregulated']]\n",
    "        result_df.columns = ['Proteins', 'Upregulated', 'Downregulated']\n",
    "\n",
    "        return result_df\n",
    "\n",
    "    def update_plot(change):\n",
    "        with output:\n",
    "            output.clear_output(wait=True)\n",
    "            display(volcano(sig_slider.value, fc_slider.value, label_button.value))\n",
    "\n",
    "    def on_button_clicked(b):\n",
    "        global significant_proteins_df\n",
    "        significant_proteins_df = generate_significant_proteins_list()\n",
    "        with output_df:\n",
    "            output_df.clear_output(wait=True)\n",
    "            display(significant_proteins_df)\n",
    "\n",
    "    # Sliders and Buttons\n",
    "    sig_slider = widgets.FloatSlider(value=0.05, min=0.001, max=0.1, step=0.01, description='Significance Level:', continuous_update=False)\n",
    "    fc_slider = widgets.FloatSlider(value=1.0, min=0.1, max=5.0, step=0.1, description='Fold Change:', continuous_update=False)\n",
    "    label_button = widgets.ToggleButton(value=False, description='Show Labels', icon='eye')\n",
    "    generate_button = widgets.Button(description=\"Generate List\")\n",
    "\n",
    "    # Observers\n",
    "    sig_slider.observe(update_plot, names='value')\n",
    "    fc_slider.observe(update_plot, names='value')\n",
    "    label_button.observe(update_plot, names='value')\n",
    "    generate_button.on_click(on_button_clicked)\n",
    "\n",
    "    # Output Widgets\n",
    "    output = widgets.Output()\n",
    "    output_df = widgets.Output()\n",
    "\n",
    "    # Display Widgets\n",
    "    with output:\n",
    "        display(volcano(sig_slider.value, fc_slider.value, label_button.value))\n",
    "\n",
    "    control_widgets = widgets.VBox([sig_slider, fc_slider, label_button, generate_button])\n",
    "    display(control_widgets, output, output_df)\n",
    "\n",
    "\n"
   ]
  },
  {
   "cell_type": "code",
   "execution_count": 7,
   "id": "df7fee2d-49d2-43eb-94ed-663282a5e2fc",
   "metadata": {
    "tags": []
   },
   "outputs": [],
   "source": [
    "def reduce_df_size(df, top_n):\n",
    "    \n",
    "    # Sort the DataFrame by the p-value column in ascending order and select the top x rows\n",
    "    filtered_df = df.sort_values(by='pval', ascending=True).head(top_n)\n",
    "    return filtered_df"
   ]
  },
  {
   "cell_type": "code",
   "execution_count": 8,
   "id": "4ebb42be-fc25-4024-a0d9-8ba7781efdfc",
   "metadata": {
    "tags": []
   },
   "outputs": [],
   "source": [
    "# import imputed dfs\n",
    "path = \"G:/My Drive/Data/data/eIF4F optimization/imputed intensities 8hr/\"\n",
    "light = pd.read_csv(f'{path}light.csv', sep=',')\n",
    "total = pd.read_csv(f'{path}total.csv', sep=',')\n",
    "nsp = pd.read_csv(f'{path}nsp.csv', sep=',')\n",
    "#import ttests\n",
    "e_total = pd.read_csv(f'{path}e_total.csv', sep=',')\n",
    "g1_total = pd.read_csv(f'{path}g1_total.csv', sep=',')\n",
    "g2_total = pd.read_csv(f'{path}g2_total.csv', sep=',')\n",
    "g3_total = pd.read_csv(f'{path}g3_total.csv', sep=',')\n",
    "\n",
    "e_light = pd.read_csv(f'{path}e_light.csv', sep=',')\n",
    "g1_light = pd.read_csv(f'{path}g1_light.csv', sep=',')\n",
    "g2_light = pd.read_csv(f'{path}g2_light.csv', sep=',')\n",
    "g3_light = pd.read_csv(f'{path}g3_light.csv', sep=',')\n",
    "\n",
    "e_nsp = pd.read_csv(f'{path}e_nsp.csv', sep=',')\n",
    "g1_nsp = pd.read_csv(f'{path}g1_nsp.csv', sep=',')\n",
    "g2_nsp = pd.read_csv(f'{path}g2_nsp.csv', sep=',')\n",
    "g3_nsp = pd.read_csv(f'{path}g3_nsp.csv', sep=',')"
   ]
  },
  {
   "cell_type": "code",
   "execution_count": 9,
   "id": "c4591f04-70ce-4d33-8826-f183133f8db5",
   "metadata": {
    "tags": []
   },
   "outputs": [],
   "source": [
    "# merge ttests onto sub dfds based on cols\n",
    "e_total = merge_data(total[['Protein.Group','eIF4E- 8h 1','eIF4E- 8h 2', 'eIF4E+ 8h 1', 'eIF4E+ 8h 2']], e_total)\n",
    "g1_total = merge_data(total[['Protein.Group','eIF4G1- 8h 1','eIF4G1- 8h 2', 'eIF4G1+ 8h 1', 'eIF4G1+ 8h 2']], g1_total)\n",
    "g2_total = merge_data(total[['Protein.Group','eIF4G2- 8h 1','eIF4G2- 8h 2', 'eIF4G2+ 8h 1', 'eIF4G2+ 8h 2']], g2_total)\n",
    "g3_total = merge_data(total[['Protein.Group','eIF4G3- 8h 1','eIF4G3- 8h 2', 'eIF4G3+ 8h 1', 'eIF4G3+ 8h 2']], g3_total)\n",
    "\n",
    "\n",
    "e_light = merge_data(light[['Protein.Group','eIF4E- 8h 1','eIF4E- 8h 2', 'eIF4E+ 8h 1', 'eIF4E+ 8h 2']], e_light)\n",
    "g1_light = merge_data(light[['Protein.Group','eIF4G1- 8h 1','eIF4G1- 8h 2', 'eIF4G1+ 8h 1', 'eIF4G1+ 8h 2']], g1_light)\n",
    "g2_light = merge_data(light[['Protein.Group','eIF4G2- 8h 1','eIF4G2- 8h 2', 'eIF4G2+ 8h 1', 'eIF4G2+ 8h 2']], g2_light)\n",
    "g3_light = merge_data(light[['Protein.Group','eIF4G3- 8h 1','eIF4G3- 8h 2', 'eIF4G3+ 8h 1', 'eIF4G3+ 8h 2']], g3_light)\n",
    "\n",
    "\n",
    "e_nsp = merge_data(nsp[['Protein.Group','eIF4E- 8h 1','eIF4E- 8h 2', 'eIF4E+ 8h 1', 'eIF4E+ 8h 2']], e_nsp)\n",
    "g1_nsp = merge_data(nsp[['Protein.Group','eIF4G1- 8h 1','eIF4G1- 8h 2', 'eIF4G1+ 8h 1', 'eIF4G1+ 8h 2']], g1_nsp)\n",
    "g2_nsp = merge_data(nsp[['Protein.Group','eIF4G2- 8h 1','eIF4G2- 8h 2', 'eIF4G2+ 8h 1', 'eIF4G2+ 8h 2']], g2_nsp)\n",
    "g3_nsp = merge_data(nsp[['Protein.Group','eIF4G3- 8h 1','eIF4G3- 8h 2', 'eIF4G3+ 8h 1', 'eIF4G3+ 8h 2']], g3_nsp)\n"
   ]
  },
  {
   "cell_type": "code",
   "execution_count": 10,
   "id": "43244656-9f27-434b-a4e7-ae302abed964",
   "metadata": {
    "tags": []
   },
   "outputs": [],
   "source": [
    "#reduce size of dataframes for plotting function\n",
    "e_light = reduce_df_size(e_light, 1000)\n",
    "g1_light = reduce_df_size(g1_light, 1000)\n",
    "g2_light = reduce_df_size(g2_light, 1000)\n",
    "g3_light = reduce_df_size(g3_light, 1000)\n",
    "\n",
    "e_total = reduce_df_size(e_total, 1000)\n",
    "g1_total = reduce_df_size(g1_total, 1000)\n",
    "g2_total = reduce_df_size(g2_total, 1000)\n",
    "g3_total = reduce_df_size(g3_total, 1000)"
   ]
  },
  {
   "cell_type": "code",
   "execution_count": 11,
   "id": "7592e74e-d20d-408d-8914-e08bba619d37",
   "metadata": {
    "tags": []
   },
   "outputs": [],
   "source": [
    "# clustermap\n",
    "#ttest_clustermap(e_nsp, path, 'e_nsp')\n",
    "#ttest_clustermap(g1_nsp, path, 'g1_nsp')\n",
    "#ttest_clustermap(g2_nsp, path, 'g2_nsp')\n",
    "#ttest_clustermap(g3_nsp, path, 'g3_nsp')\n",
    "\n",
    "#ttest_clustermap(e_light, path, 'e_light')\n",
    "#ttest_clustermap(g1_light, path, 'g1_light')\n",
    "#ttest_clustermap(g2_light, path, 'g2_light')\n",
    "#ttest_clustermap(g3_light, path, 'g3_light')\n",
    "\n",
    "#ttest_clustermap(e_total, path, 'e_total')\n",
    "#ttest_clustermap(g1_total, path, 'g1_total')\n",
    "#ttest_clustermap(g2_total, path, 'g2_total')\n",
    "#ttest_clustermap(g3_total, path, 'g3_total')"
   ]
  },
  {
   "cell_type": "code",
   "execution_count": 12,
   "id": "41e1defe-613f-44a5-8cda-0f3b4cdede16",
   "metadata": {
    "tags": []
   },
   "outputs": [
    {
     "data": {
      "application/vnd.jupyter.widget-view+json": {
       "model_id": "8bb958fbfeae48739932e5c1ccc75f8c",
       "version_major": 2,
       "version_minor": 0
      },
      "text/plain": [
       "VBox(children=(FloatSlider(value=0.05, continuous_update=False, description='Significance Level:', max=0.1, mi…"
      ]
     },
     "metadata": {},
     "output_type": "display_data"
    },
    {
     "data": {
      "application/vnd.jupyter.widget-view+json": {
       "model_id": "957279319d104aeba6f2897c383a2ca8",
       "version_major": 2,
       "version_minor": 0
      },
      "text/plain": [
       "Output()"
      ]
     },
     "metadata": {},
     "output_type": "display_data"
    },
    {
     "data": {
      "application/vnd.jupyter.widget-view+json": {
       "model_id": "3f6d104961c54402b9479cb3ca507bc8",
       "version_major": 2,
       "version_minor": 0
      },
      "text/plain": [
       "Output()"
      ]
     },
     "metadata": {},
     "output_type": "display_data"
    }
   ],
   "source": [
    "create_volcano_plot(e_light, 'Light E')"
   ]
  },
  {
   "cell_type": "code",
   "execution_count": 13,
   "id": "87b5fdfd-6daa-4b0d-95fa-aa658b25a590",
   "metadata": {
    "tags": []
   },
   "outputs": [
    {
     "data": {
      "application/vnd.jupyter.widget-view+json": {
       "model_id": "3058a03618b94a36a6708d72506b9541",
       "version_major": 2,
       "version_minor": 0
      },
      "text/plain": [
       "VBox(children=(FloatSlider(value=0.05, continuous_update=False, description='Significance Level:', max=0.1, mi…"
      ]
     },
     "metadata": {},
     "output_type": "display_data"
    },
    {
     "data": {
      "application/vnd.jupyter.widget-view+json": {
       "model_id": "c7130be705e040b7a90ac614725fe813",
       "version_major": 2,
       "version_minor": 0
      },
      "text/plain": [
       "Output()"
      ]
     },
     "metadata": {},
     "output_type": "display_data"
    },
    {
     "data": {
      "application/vnd.jupyter.widget-view+json": {
       "model_id": "ee2a1833065e4725871071bfaa1f9d35",
       "version_major": 2,
       "version_minor": 0
      },
      "text/plain": [
       "Output()"
      ]
     },
     "metadata": {},
     "output_type": "display_data"
    }
   ],
   "source": [
    "create_volcano_plot(g1_light, 'Light G1')"
   ]
  },
  {
   "cell_type": "code",
   "execution_count": 14,
   "id": "757b28e3-7d59-459c-b38f-bf5d47837d02",
   "metadata": {
    "tags": []
   },
   "outputs": [
    {
     "data": {
      "application/vnd.jupyter.widget-view+json": {
       "model_id": "5e59b5f64dde49a591e936f367f3bf9a",
       "version_major": 2,
       "version_minor": 0
      },
      "text/plain": [
       "VBox(children=(FloatSlider(value=0.05, continuous_update=False, description='Significance Level:', max=0.1, mi…"
      ]
     },
     "metadata": {},
     "output_type": "display_data"
    },
    {
     "data": {
      "application/vnd.jupyter.widget-view+json": {
       "model_id": "3dcf7d40b53f4205ad29e56b0980b78a",
       "version_major": 2,
       "version_minor": 0
      },
      "text/plain": [
       "Output()"
      ]
     },
     "metadata": {},
     "output_type": "display_data"
    },
    {
     "data": {
      "application/vnd.jupyter.widget-view+json": {
       "model_id": "dd352bd9fda740a293873a8a23a5ca8a",
       "version_major": 2,
       "version_minor": 0
      },
      "text/plain": [
       "Output()"
      ]
     },
     "metadata": {},
     "output_type": "display_data"
    }
   ],
   "source": [
    "create_volcano_plot(g2_light, 'Light G2')"
   ]
  },
  {
   "cell_type": "code",
   "execution_count": 15,
   "id": "2dbdf5f1-83f3-4559-be9d-fa72b7d6f4c9",
   "metadata": {
    "tags": []
   },
   "outputs": [
    {
     "data": {
      "application/vnd.jupyter.widget-view+json": {
       "model_id": "ab56cefff3a24ad9a63fc07432f8a12b",
       "version_major": 2,
       "version_minor": 0
      },
      "text/plain": [
       "VBox(children=(FloatSlider(value=0.05, continuous_update=False, description='Significance Level:', max=0.1, mi…"
      ]
     },
     "metadata": {},
     "output_type": "display_data"
    },
    {
     "data": {
      "application/vnd.jupyter.widget-view+json": {
       "model_id": "bec4454462a74a59ab77d766b1e77526",
       "version_major": 2,
       "version_minor": 0
      },
      "text/plain": [
       "Output()"
      ]
     },
     "metadata": {},
     "output_type": "display_data"
    },
    {
     "data": {
      "application/vnd.jupyter.widget-view+json": {
       "model_id": "535e76c6bc5d4e4190c14c48968d94d8",
       "version_major": 2,
       "version_minor": 0
      },
      "text/plain": [
       "Output()"
      ]
     },
     "metadata": {},
     "output_type": "display_data"
    }
   ],
   "source": [
    "create_volcano_plot(g3_light, 'Light G3')"
   ]
  },
  {
   "cell_type": "code",
   "execution_count": 16,
   "id": "071b9d94-a7ba-4492-b845-3cd31bfd3cc1",
   "metadata": {
    "tags": []
   },
   "outputs": [
    {
     "data": {
      "application/vnd.jupyter.widget-view+json": {
       "model_id": "44b3f0ee686a48c39bc1e6a9da630572",
       "version_major": 2,
       "version_minor": 0
      },
      "text/plain": [
       "VBox(children=(FloatSlider(value=0.05, continuous_update=False, description='Significance Level:', max=0.1, mi…"
      ]
     },
     "metadata": {},
     "output_type": "display_data"
    },
    {
     "data": {
      "application/vnd.jupyter.widget-view+json": {
       "model_id": "d24859605040445a9dea6583601aa110",
       "version_major": 2,
       "version_minor": 0
      },
      "text/plain": [
       "Output()"
      ]
     },
     "metadata": {},
     "output_type": "display_data"
    },
    {
     "data": {
      "application/vnd.jupyter.widget-view+json": {
       "model_id": "f025bad436594078af789ad6093cf2d7",
       "version_major": 2,
       "version_minor": 0
      },
      "text/plain": [
       "Output()"
      ]
     },
     "metadata": {},
     "output_type": "display_data"
    }
   ],
   "source": [
    "create_volcano_plot(e_total, 'Total E')"
   ]
  },
  {
   "cell_type": "code",
   "execution_count": 17,
   "id": "6f23fab4-c164-46f6-9f36-a45b63159528",
   "metadata": {
    "tags": []
   },
   "outputs": [
    {
     "data": {
      "application/vnd.jupyter.widget-view+json": {
       "model_id": "8480bf90714648eca2ff0200b0f77e1a",
       "version_major": 2,
       "version_minor": 0
      },
      "text/plain": [
       "VBox(children=(FloatSlider(value=0.05, continuous_update=False, description='Significance Level:', max=0.1, mi…"
      ]
     },
     "metadata": {},
     "output_type": "display_data"
    },
    {
     "data": {
      "application/vnd.jupyter.widget-view+json": {
       "model_id": "4f6cef4bbdae4968ad7da77110b06543",
       "version_major": 2,
       "version_minor": 0
      },
      "text/plain": [
       "Output()"
      ]
     },
     "metadata": {},
     "output_type": "display_data"
    },
    {
     "data": {
      "application/vnd.jupyter.widget-view+json": {
       "model_id": "0ea60e09ae0f4a7e84a3054160cc608b",
       "version_major": 2,
       "version_minor": 0
      },
      "text/plain": [
       "Output()"
      ]
     },
     "metadata": {},
     "output_type": "display_data"
    }
   ],
   "source": [
    "create_volcano_plot(g1_total, 'Total G1')"
   ]
  },
  {
   "cell_type": "code",
   "execution_count": 18,
   "id": "d2bd50c7-4141-40cc-bd10-db2cd04dd95e",
   "metadata": {
    "tags": []
   },
   "outputs": [
    {
     "data": {
      "application/vnd.jupyter.widget-view+json": {
       "model_id": "9d1c9235cfa94516b3ac683109b3fe6b",
       "version_major": 2,
       "version_minor": 0
      },
      "text/plain": [
       "VBox(children=(FloatSlider(value=0.05, continuous_update=False, description='Significance Level:', max=0.1, mi…"
      ]
     },
     "metadata": {},
     "output_type": "display_data"
    },
    {
     "data": {
      "application/vnd.jupyter.widget-view+json": {
       "model_id": "08cd188cf450459db78472cf4b9f6fd8",
       "version_major": 2,
       "version_minor": 0
      },
      "text/plain": [
       "Output()"
      ]
     },
     "metadata": {},
     "output_type": "display_data"
    },
    {
     "data": {
      "application/vnd.jupyter.widget-view+json": {
       "model_id": "1bc1d1bac9cd4b49840b8adc8daf641d",
       "version_major": 2,
       "version_minor": 0
      },
      "text/plain": [
       "Output()"
      ]
     },
     "metadata": {},
     "output_type": "display_data"
    }
   ],
   "source": [
    "create_volcano_plot(g2_total, 'Total G2')"
   ]
  },
  {
   "cell_type": "code",
   "execution_count": 19,
   "id": "4bd0bb21-6f3d-4404-91d2-1a0dc744d3a7",
   "metadata": {
    "tags": []
   },
   "outputs": [
    {
     "data": {
      "application/vnd.jupyter.widget-view+json": {
       "model_id": "4a2c0d376aff48f1b387a481341a81ad",
       "version_major": 2,
       "version_minor": 0
      },
      "text/plain": [
       "VBox(children=(FloatSlider(value=0.05, continuous_update=False, description='Significance Level:', max=0.1, mi…"
      ]
     },
     "metadata": {},
     "output_type": "display_data"
    },
    {
     "data": {
      "application/vnd.jupyter.widget-view+json": {
       "model_id": "3da8fcecd1c3434eb04ec80b7e886800",
       "version_major": 2,
       "version_minor": 0
      },
      "text/plain": [
       "Output()"
      ]
     },
     "metadata": {},
     "output_type": "display_data"
    },
    {
     "data": {
      "application/vnd.jupyter.widget-view+json": {
       "model_id": "cdd2c708c54a437aa195e6a70eeecb3c",
       "version_major": 2,
       "version_minor": 0
      },
      "text/plain": [
       "Output()"
      ]
     },
     "metadata": {},
     "output_type": "display_data"
    }
   ],
   "source": [
    "create_volcano_plot(g3_total, 'Total G3')"
   ]
  },
  {
   "cell_type": "code",
   "execution_count": 20,
   "id": "c0533ffa-2caa-4069-b748-296cbcb83cd7",
   "metadata": {
    "tags": []
   },
   "outputs": [
    {
     "data": {
      "application/vnd.jupyter.widget-view+json": {
       "model_id": "8ec3cfdde9994dc29a941896c0883e28",
       "version_major": 2,
       "version_minor": 0
      },
      "text/plain": [
       "VBox(children=(FloatSlider(value=0.05, continuous_update=False, description='Significance Level:', max=0.1, mi…"
      ]
     },
     "metadata": {},
     "output_type": "display_data"
    },
    {
     "data": {
      "application/vnd.jupyter.widget-view+json": {
       "model_id": "ad80dd88b4f94ed3a10543cad0ec9573",
       "version_major": 2,
       "version_minor": 0
      },
      "text/plain": [
       "Output()"
      ]
     },
     "metadata": {},
     "output_type": "display_data"
    },
    {
     "data": {
      "application/vnd.jupyter.widget-view+json": {
       "model_id": "c05ea03e3cec41aeb17a70f5233b0707",
       "version_major": 2,
       "version_minor": 0
      },
      "text/plain": [
       "Output()"
      ]
     },
     "metadata": {},
     "output_type": "display_data"
    }
   ],
   "source": [
    "create_volcano_plot(e_nsp, 'NSP E')"
   ]
  },
  {
   "cell_type": "code",
   "execution_count": 21,
   "id": "958c88c1-bd76-4d58-80b6-fc1539e32209",
   "metadata": {
    "tags": []
   },
   "outputs": [
    {
     "data": {
      "application/vnd.jupyter.widget-view+json": {
       "model_id": "56bb5a1a245a4e3780fd57e6cf19680f",
       "version_major": 2,
       "version_minor": 0
      },
      "text/plain": [
       "VBox(children=(FloatSlider(value=0.05, continuous_update=False, description='Significance Level:', max=0.1, mi…"
      ]
     },
     "metadata": {},
     "output_type": "display_data"
    },
    {
     "data": {
      "application/vnd.jupyter.widget-view+json": {
       "model_id": "1ff39d00d19b429e941a16cd228f18e1",
       "version_major": 2,
       "version_minor": 0
      },
      "text/plain": [
       "Output()"
      ]
     },
     "metadata": {},
     "output_type": "display_data"
    },
    {
     "data": {
      "application/vnd.jupyter.widget-view+json": {
       "model_id": "7b47e8ac613f45f68c308edcda1edcd0",
       "version_major": 2,
       "version_minor": 0
      },
      "text/plain": [
       "Output()"
      ]
     },
     "metadata": {},
     "output_type": "display_data"
    }
   ],
   "source": [
    "create_volcano_plot(g1_nsp, 'NSP G1')"
   ]
  },
  {
   "cell_type": "code",
   "execution_count": 22,
   "id": "c12726c2-af65-45e9-8493-323cef276a9f",
   "metadata": {
    "tags": []
   },
   "outputs": [
    {
     "data": {
      "application/vnd.jupyter.widget-view+json": {
       "model_id": "80456552fe0945e69397355064e9e23a",
       "version_major": 2,
       "version_minor": 0
      },
      "text/plain": [
       "VBox(children=(FloatSlider(value=0.05, continuous_update=False, description='Significance Level:', max=0.1, mi…"
      ]
     },
     "metadata": {},
     "output_type": "display_data"
    },
    {
     "data": {
      "application/vnd.jupyter.widget-view+json": {
       "model_id": "bce08ac69fa24fc6bb6a008aa81263e4",
       "version_major": 2,
       "version_minor": 0
      },
      "text/plain": [
       "Output()"
      ]
     },
     "metadata": {},
     "output_type": "display_data"
    },
    {
     "data": {
      "application/vnd.jupyter.widget-view+json": {
       "model_id": "019b372909c74836ba2d0280adfca349",
       "version_major": 2,
       "version_minor": 0
      },
      "text/plain": [
       "Output()"
      ]
     },
     "metadata": {},
     "output_type": "display_data"
    }
   ],
   "source": [
    "create_volcano_plot(g2_nsp, 'NSP G2')"
   ]
  },
  {
   "cell_type": "code",
   "execution_count": 23,
   "id": "0ff943d4-8652-4656-8f90-3ca70f512674",
   "metadata": {
    "tags": []
   },
   "outputs": [
    {
     "data": {
      "application/vnd.jupyter.widget-view+json": {
       "model_id": "a42667a9082445e2b260d7444ea54d64",
       "version_major": 2,
       "version_minor": 0
      },
      "text/plain": [
       "VBox(children=(FloatSlider(value=0.05, continuous_update=False, description='Significance Level:', max=0.1, mi…"
      ]
     },
     "metadata": {},
     "output_type": "display_data"
    },
    {
     "data": {
      "application/vnd.jupyter.widget-view+json": {
       "model_id": "4daf104d46b442d98d3574a048618328",
       "version_major": 2,
       "version_minor": 0
      },
      "text/plain": [
       "Output()"
      ]
     },
     "metadata": {},
     "output_type": "display_data"
    },
    {
     "data": {
      "application/vnd.jupyter.widget-view+json": {
       "model_id": "0d52d8f9975648acaed5c7bebc777f81",
       "version_major": 2,
       "version_minor": 0
      },
      "text/plain": [
       "Output()"
      ]
     },
     "metadata": {},
     "output_type": "display_data"
    }
   ],
   "source": [
    "create_volcano_plot(g3_nsp, 'NSP G3')\n"
   ]
  },
  {
   "cell_type": "code",
   "execution_count": null,
   "id": "35c13088-2bb5-45a6-9d80-53f99610dd2c",
   "metadata": {},
   "outputs": [],
   "source": []
  }
 ],
 "metadata": {
  "kernelspec": {
   "display_name": "Python 3 (ipykernel)",
   "language": "python",
   "name": "python3"
  },
  "language_info": {
   "codemirror_mode": {
    "name": "ipython",
    "version": 3
   },
   "file_extension": ".py",
   "mimetype": "text/x-python",
   "name": "python",
   "nbconvert_exporter": "python",
   "pygments_lexer": "ipython3",
   "version": "3.8.18"
  }
 },
 "nbformat": 4,
 "nbformat_minor": 5
}
