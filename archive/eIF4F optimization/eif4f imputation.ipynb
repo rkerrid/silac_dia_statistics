{
 "cells": [
  {
   "cell_type": "code",
   "execution_count": 10,
   "id": "6603bcba-e76f-475f-b017-57794c899d67",
   "metadata": {
    "tags": []
   },
   "outputs": [],
   "source": [
    "import pandas as pd\n",
    "import numpy as np"
   ]
  },
  {
   "cell_type": "code",
   "execution_count": 11,
   "id": "2a114714-9ac1-4305-ac29-c1ff82d7bf6c",
   "metadata": {
    "tags": []
   },
   "outputs": [],
   "source": [
    "nsp_df = pd.read_csv(\"G:/My Drive/Data/data/eIF4F optimization/protein intensities/nsp_href.csv\", sep=',')"
   ]
  },
  {
   "cell_type": "code",
   "execution_count": 12,
   "id": "75e456b9-4bf8-4937-9da4-727241fe320f",
   "metadata": {
    "tags": []
   },
   "outputs": [],
   "source": [
    "total_df =  pd.read_csv(\"G:/My Drive/Data/data/eIF4F optimization/protein intensities/total_href.csv\", sep=',')"
   ]
  },
  {
   "cell_type": "code",
   "execution_count": 36,
   "id": "590e257b-dd12-4207-bd3b-db774e45dcf5",
   "metadata": {
    "tags": []
   },
   "outputs": [
    {
     "name": "stderr",
     "output_type": "stream",
     "text": [
      "C:\\Users\\robbi\\AppData\\Local\\Temp\\ipykernel_5872\\3384174569.py:4: SettingWithCopyWarning: \n",
      "A value is trying to be set on a copy of a slice from a DataFrame.\n",
      "Try using .loc[row_indexer,col_indexer] = value instead\n",
      "\n",
      "See the caveats in the documentation: https://pandas.pydata.org/pandas-docs/stable/user_guide/indexing.html#returning-a-view-versus-a-copy\n",
      "  mask_df['keep'] = True\n"
     ]
    }
   ],
   "source": [
    "col1 = None\n",
    "col2= None\n",
    "mask_df = total_df.iloc[:,:1]\n",
    "mask_df['keep'] = False\n",
    "for col in total_df.columns.values.tolist()[1:]:\n",
    "    if col1 == None:\n",
    "        col1 = col\n",
    "    else:\n",
    "        col2 = col\n",
    "        mask_df = total_df[[col1, col2]].isna().all()\n",
    "    col1 = None\n",
    "    col2 = None\n",
    "    \n",
    "    \n",
    "    "
   ]
  },
  {
   "cell_type": "code",
   "execution_count": 29,
   "id": "0bfad3f2-c335-4773-b946-3857764fe068",
   "metadata": {
    "tags": []
   },
   "outputs": [
    {
     "data": {
      "text/html": [
       "<div>\n",
       "<style scoped>\n",
       "    .dataframe tbody tr th:only-of-type {\n",
       "        vertical-align: middle;\n",
       "    }\n",
       "\n",
       "    .dataframe tbody tr th {\n",
       "        vertical-align: top;\n",
       "    }\n",
       "\n",
       "    .dataframe thead th {\n",
       "        text-align: right;\n",
       "    }\n",
       "</style>\n",
       "<table border=\"1\" class=\"dataframe\">\n",
       "  <thead>\n",
       "    <tr style=\"text-align: right;\">\n",
       "      <th></th>\n",
       "      <th>Protein.Group</th>\n",
       "      <th>keep</th>\n",
       "    </tr>\n",
       "  </thead>\n",
       "  <tbody>\n",
       "    <tr>\n",
       "      <th>0</th>\n",
       "      <td>A0A0B4J2D5;P0DPI2-GATD3;GATD3B</td>\n",
       "      <td>False</td>\n",
       "    </tr>\n",
       "    <tr>\n",
       "      <th>1</th>\n",
       "      <td>A0A0B4J2F0-PIGBOS1</td>\n",
       "      <td>False</td>\n",
       "    </tr>\n",
       "    <tr>\n",
       "      <th>2</th>\n",
       "      <td>A0AV96-RBM47</td>\n",
       "      <td>False</td>\n",
       "    </tr>\n",
       "    <tr>\n",
       "      <th>3</th>\n",
       "      <td>A0AVT1-UBA6</td>\n",
       "      <td>False</td>\n",
       "    </tr>\n",
       "    <tr>\n",
       "      <th>4</th>\n",
       "      <td>A0FGR8-ESYT2</td>\n",
       "      <td>False</td>\n",
       "    </tr>\n",
       "    <tr>\n",
       "      <th>...</th>\n",
       "      <td>...</td>\n",
       "      <td>...</td>\n",
       "    </tr>\n",
       "    <tr>\n",
       "      <th>5972</th>\n",
       "      <td>Q9Y6X3-MAU2</td>\n",
       "      <td>False</td>\n",
       "    </tr>\n",
       "    <tr>\n",
       "      <th>5973</th>\n",
       "      <td>Q9Y6X4-FAM169A</td>\n",
       "      <td>False</td>\n",
       "    </tr>\n",
       "    <tr>\n",
       "      <th>5974</th>\n",
       "      <td>Q9Y6X5-ENPP4</td>\n",
       "      <td>False</td>\n",
       "    </tr>\n",
       "    <tr>\n",
       "      <th>5975</th>\n",
       "      <td>Q9Y6X9-MORC2</td>\n",
       "      <td>False</td>\n",
       "    </tr>\n",
       "    <tr>\n",
       "      <th>5976</th>\n",
       "      <td>Q9Y6Y8-SEC23IP</td>\n",
       "      <td>False</td>\n",
       "    </tr>\n",
       "  </tbody>\n",
       "</table>\n",
       "<p>5977 rows × 2 columns</p>\n",
       "</div>"
      ],
      "text/plain": [
       "                       Protein.Group   keep\n",
       "0     A0A0B4J2D5;P0DPI2-GATD3;GATD3B  False\n",
       "1                 A0A0B4J2F0-PIGBOS1  False\n",
       "2                       A0AV96-RBM47  False\n",
       "3                        A0AVT1-UBA6  False\n",
       "4                       A0FGR8-ESYT2  False\n",
       "...                              ...    ...\n",
       "5972                     Q9Y6X3-MAU2  False\n",
       "5973                  Q9Y6X4-FAM169A  False\n",
       "5974                    Q9Y6X5-ENPP4  False\n",
       "5975                    Q9Y6X9-MORC2  False\n",
       "5976                  Q9Y6Y8-SEC23IP  False\n",
       "\n",
       "[5977 rows x 2 columns]"
      ]
     },
     "execution_count": 29,
     "metadata": {},
     "output_type": "execute_result"
    }
   ],
   "source": [
    "mask_df"
   ]
  },
  {
   "cell_type": "code",
   "execution_count": 23,
   "id": "612483c4-2c98-4ab1-afbc-3f08e3ee2e93",
   "metadata": {
    "tags": []
   },
   "outputs": [],
   "source": [
    "#replace low values with NaN for filtering\n",
    "total_df.iloc[:,1:]=total_df.iloc[:,1:].apply(lambda x: np.where(x < 0.001, np.nan,x))\n",
    "nsp_df.iloc[:,1:]=nsp_df.iloc[:,1:].apply(lambda x: np.where(x < 0.001, np.nan,x))"
   ]
  },
  {
   "cell_type": "code",
   "execution_count": 37,
   "id": "6d7a04eb-612a-4ccf-8651-d7e9dea10b78",
   "metadata": {
    "tags": []
   },
   "outputs": [
    {
     "ename": "KeyError",
     "evalue": "\"None of [Index([' 1', ' 2'], dtype='object')] are in the [columns]\"",
     "output_type": "error",
     "traceback": [
      "\u001b[1;31m---------------------------------------------------------------------------\u001b[0m",
      "\u001b[1;31mKeyError\u001b[0m                                  Traceback (most recent call last)",
      "Cell \u001b[1;32mIn[37], line 16\u001b[0m\n\u001b[0;32m     13\u001b[0m rep2 \u001b[38;5;241m=\u001b[39m \u001b[38;5;124mf\u001b[39m\u001b[38;5;124m'\u001b[39m\u001b[38;5;132;01m{\u001b[39;00msample\u001b[38;5;132;01m}\u001b[39;00m\u001b[38;5;124m 2\u001b[39m\u001b[38;5;124m'\u001b[39m\n\u001b[0;32m     15\u001b[0m \u001b[38;5;66;03m# Create a mask that checks if both replicates have non-NaN values\u001b[39;00m\n\u001b[1;32m---> 16\u001b[0m total_df[\u001b[38;5;124m'\u001b[39m\u001b[38;5;124mvalid_pair\u001b[39m\u001b[38;5;124m'\u001b[39m] \u001b[38;5;241m=\u001b[39m \u001b[43mtotal_df\u001b[49m\u001b[43m[\u001b[49m\u001b[43m[\u001b[49m\u001b[43mrep1\u001b[49m\u001b[43m,\u001b[49m\u001b[43m \u001b[49m\u001b[43mrep2\u001b[49m\u001b[43m]\u001b[49m\u001b[43m]\u001b[49m\u001b[38;5;241m.\u001b[39mnotna()\u001b[38;5;241m.\u001b[39mall(axis\u001b[38;5;241m=\u001b[39m\u001b[38;5;241m1\u001b[39m)\n\u001b[0;32m     18\u001b[0m \u001b[38;5;66;03m# If any row has at least one valid pair, we want to keep it, so we mark it in a new column\u001b[39;00m\n\u001b[0;32m     19\u001b[0m \u001b[38;5;28;01mif\u001b[39;00m \u001b[38;5;124m'\u001b[39m\u001b[38;5;124mkeep_row\u001b[39m\u001b[38;5;124m'\u001b[39m \u001b[38;5;129;01mnot\u001b[39;00m \u001b[38;5;129;01min\u001b[39;00m df:\n",
      "File \u001b[1;32m~\\AppData\\Local\\miniconda3\\envs\\silac_dia_statistics\\lib\\site-packages\\pandas\\core\\frame.py:3767\u001b[0m, in \u001b[0;36mDataFrame.__getitem__\u001b[1;34m(self, key)\u001b[0m\n\u001b[0;32m   3765\u001b[0m     \u001b[38;5;28;01mif\u001b[39;00m is_iterator(key):\n\u001b[0;32m   3766\u001b[0m         key \u001b[38;5;241m=\u001b[39m \u001b[38;5;28mlist\u001b[39m(key)\n\u001b[1;32m-> 3767\u001b[0m     indexer \u001b[38;5;241m=\u001b[39m \u001b[38;5;28;43mself\u001b[39;49m\u001b[38;5;241;43m.\u001b[39;49m\u001b[43mcolumns\u001b[49m\u001b[38;5;241;43m.\u001b[39;49m\u001b[43m_get_indexer_strict\u001b[49m\u001b[43m(\u001b[49m\u001b[43mkey\u001b[49m\u001b[43m,\u001b[49m\u001b[43m \u001b[49m\u001b[38;5;124;43m\"\u001b[39;49m\u001b[38;5;124;43mcolumns\u001b[39;49m\u001b[38;5;124;43m\"\u001b[39;49m\u001b[43m)\u001b[49m[\u001b[38;5;241m1\u001b[39m]\n\u001b[0;32m   3769\u001b[0m \u001b[38;5;66;03m# take() does not accept boolean indexers\u001b[39;00m\n\u001b[0;32m   3770\u001b[0m \u001b[38;5;28;01mif\u001b[39;00m \u001b[38;5;28mgetattr\u001b[39m(indexer, \u001b[38;5;124m\"\u001b[39m\u001b[38;5;124mdtype\u001b[39m\u001b[38;5;124m\"\u001b[39m, \u001b[38;5;28;01mNone\u001b[39;00m) \u001b[38;5;241m==\u001b[39m \u001b[38;5;28mbool\u001b[39m:\n",
      "File \u001b[1;32m~\\AppData\\Local\\miniconda3\\envs\\silac_dia_statistics\\lib\\site-packages\\pandas\\core\\indexes\\base.py:5876\u001b[0m, in \u001b[0;36mIndex._get_indexer_strict\u001b[1;34m(self, key, axis_name)\u001b[0m\n\u001b[0;32m   5873\u001b[0m \u001b[38;5;28;01melse\u001b[39;00m:\n\u001b[0;32m   5874\u001b[0m     keyarr, indexer, new_indexer \u001b[38;5;241m=\u001b[39m \u001b[38;5;28mself\u001b[39m\u001b[38;5;241m.\u001b[39m_reindex_non_unique(keyarr)\n\u001b[1;32m-> 5876\u001b[0m \u001b[38;5;28;43mself\u001b[39;49m\u001b[38;5;241;43m.\u001b[39;49m\u001b[43m_raise_if_missing\u001b[49m\u001b[43m(\u001b[49m\u001b[43mkeyarr\u001b[49m\u001b[43m,\u001b[49m\u001b[43m \u001b[49m\u001b[43mindexer\u001b[49m\u001b[43m,\u001b[49m\u001b[43m \u001b[49m\u001b[43maxis_name\u001b[49m\u001b[43m)\u001b[49m\n\u001b[0;32m   5878\u001b[0m keyarr \u001b[38;5;241m=\u001b[39m \u001b[38;5;28mself\u001b[39m\u001b[38;5;241m.\u001b[39mtake(indexer)\n\u001b[0;32m   5879\u001b[0m \u001b[38;5;28;01mif\u001b[39;00m \u001b[38;5;28misinstance\u001b[39m(key, Index):\n\u001b[0;32m   5880\u001b[0m     \u001b[38;5;66;03m# GH 42790 - Preserve name from an Index\u001b[39;00m\n",
      "File \u001b[1;32m~\\AppData\\Local\\miniconda3\\envs\\silac_dia_statistics\\lib\\site-packages\\pandas\\core\\indexes\\base.py:5935\u001b[0m, in \u001b[0;36mIndex._raise_if_missing\u001b[1;34m(self, key, indexer, axis_name)\u001b[0m\n\u001b[0;32m   5933\u001b[0m     \u001b[38;5;28;01mif\u001b[39;00m use_interval_msg:\n\u001b[0;32m   5934\u001b[0m         key \u001b[38;5;241m=\u001b[39m \u001b[38;5;28mlist\u001b[39m(key)\n\u001b[1;32m-> 5935\u001b[0m     \u001b[38;5;28;01mraise\u001b[39;00m \u001b[38;5;167;01mKeyError\u001b[39;00m(\u001b[38;5;124mf\u001b[39m\u001b[38;5;124m\"\u001b[39m\u001b[38;5;124mNone of [\u001b[39m\u001b[38;5;132;01m{\u001b[39;00mkey\u001b[38;5;132;01m}\u001b[39;00m\u001b[38;5;124m] are in the [\u001b[39m\u001b[38;5;132;01m{\u001b[39;00maxis_name\u001b[38;5;132;01m}\u001b[39;00m\u001b[38;5;124m]\u001b[39m\u001b[38;5;124m\"\u001b[39m)\n\u001b[0;32m   5937\u001b[0m not_found \u001b[38;5;241m=\u001b[39m \u001b[38;5;28mlist\u001b[39m(ensure_index(key)[missing_mask\u001b[38;5;241m.\u001b[39mnonzero()[\u001b[38;5;241m0\u001b[39m]]\u001b[38;5;241m.\u001b[39munique())\n\u001b[0;32m   5938\u001b[0m \u001b[38;5;28;01mraise\u001b[39;00m \u001b[38;5;167;01mKeyError\u001b[39;00m(\u001b[38;5;124mf\u001b[39m\u001b[38;5;124m\"\u001b[39m\u001b[38;5;132;01m{\u001b[39;00mnot_found\u001b[38;5;132;01m}\u001b[39;00m\u001b[38;5;124m not in index\u001b[39m\u001b[38;5;124m\"\u001b[39m)\n",
      "\u001b[1;31mKeyError\u001b[0m: \"None of [Index([' 1', ' 2'], dtype='object')] are in the [columns]\""
     ]
    }
   ],
   "source": [
    "import pandas as pd\n",
    "\n",
    "# Assuming `df` is your DataFrame and all columns except 'Protein.Group' are samples\n",
    "sample_columns = total_df.columns.drop('Protein.Group')\n",
    "\n",
    "# Identify unique sample names and time points without replicates\n",
    "samples = set('-'.join(col.split('-')[:-1]) for col in sample_columns if '+' in col or '-' in col)\n",
    "\n",
    "# Iterate over the samples to find valid pairs\n",
    "for sample in samples:\n",
    "    # Create pairs of replicate column names\n",
    "    rep1 = f'{sample} 1'\n",
    "    rep2 = f'{sample} 2'\n",
    "\n",
    "    # Create a mask that checks if both replicates have non-NaN values\n",
    "    total_df['valid_pair'] = total_df[[rep1, rep2]].notna().all(axis=1)\n",
    "    \n",
    "    # If any row has at least one valid pair, we want to keep it, so we mark it in a new column\n",
    "    if 'keep_row' not in df:\n",
    "        total_df['keep_row'] = total_df['valid_pair']\n",
    "    else:\n",
    "        total_df['keep_row'] = total_df['keep_row'] | total_df['valid_pair']\n",
    "\n",
    "# Drop the helper columns\n",
    "total_df.drop(columns=['valid_pair'], inplace=True)\n",
    "\n",
    "# Keep only the rows where 'keep_row' is True\n",
    "df_filtered = total_df[total_df['keep_row']].drop(columns=['keep_row'])\n",
    "\n",
    "# Now `df_filtered` contains only the rows where at least one pair of replicates has valid (non-NaN) values.\n"
   ]
  },
  {
   "cell_type": "code",
   "execution_count": 6,
   "id": "7bcc12c9-d5b9-4161-b34d-b0e73f471da5",
   "metadata": {
    "tags": []
   },
   "outputs": [
    {
     "name": "stdout",
     "output_type": "stream",
     "text": [
      "['Protein.Group', 'eIF4E+ 2h 1', 'eIF4E+ 2h 2', 'eIF4E+ 4h 1', 'eIF4E+ 4h 2', 'eIF4E+ 8h 1', 'eIF4E+ 8h 2', 'eIF4E- 2h 1', 'eIF4E- 2h 2', 'eIF4E- 4h 1', 'eIF4E- 4h 2', 'eIF4E- 8h 1', 'eIF4E- 8h 2', 'eIF4G1+ 2h 1', 'eIF4G1+ 2h 2', 'eIF4G1+ 4h 1', 'eIF4G1+ 4h 2', 'eIF4G1+ 8h 1', 'eIF4G1+ 8h 2', 'eIF4G1- 2h 1', 'eIF4G1- 2h 2', 'eIF4G1- 4h 1', 'eIF4G1- 4h 2', 'eIF4G1- 8h 1', 'eIF4G1- 8h 2', 'eIF4G2+ 2h 1', 'eIF4G2+ 2h 2', 'eIF4G2+ 4h 1', 'eIF4G2+ 4h 2', 'eIF4G2+ 8h 1', 'eIF4G2+ 8h 2', 'eIF4G2- 2h 1', 'eIF4G2- 2h 2', 'eIF4G2- 4h 1', 'eIF4G2- 4h 2', 'eIF4G2- 8h 1', 'eIF4G2- 8h 2', 'eIF4G3+ 2h 1', 'eIF4G3+ 2h 2', 'eIF4G3+ 4h 1', 'eIF4G3+ 4h 2', 'eIF4G3+ 8h 1', 'eIF4G3+ 8h 2', 'eIF4G3- 2h 1', 'eIF4G3- 2h 2', 'eIF4G3- 4h 1', 'eIF4G3- 4h 2', 'eIF4G3- 8h 1', 'eIF4G3- 8h 2']\n"
     ]
    }
   ],
   "source": [
    "# filter for valid values, atleast two hits in one set of duplicates to keep a row\n",
    "print(total_df.columns.values.tolist())"
   ]
  },
  {
   "cell_type": "code",
   "execution_count": null,
   "id": "bfeda5a0-bd96-4b2b-b0bf-e2e074ce5866",
   "metadata": {},
   "outputs": [],
   "source": []
  }
 ],
 "metadata": {
  "kernelspec": {
   "display_name": "Python 3 (ipykernel)",
   "language": "python",
   "name": "python3"
  },
  "language_info": {
   "codemirror_mode": {
    "name": "ipython",
    "version": 3
   },
   "file_extension": ".py",
   "mimetype": "text/x-python",
   "name": "python",
   "nbconvert_exporter": "python",
   "pygments_lexer": "ipython3",
   "version": "3.8.18"
  }
 },
 "nbformat": 4,
 "nbformat_minor": 5
}
