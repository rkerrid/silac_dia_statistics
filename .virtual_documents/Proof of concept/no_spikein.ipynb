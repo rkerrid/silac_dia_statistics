





# Import packages
import alphastats 
import pandas as pd
import matplotlib.pyplot as plt


#have an error loading in the csv files 


# Set path to protein intensities and set up loader for nsp and total dfs
path = "G:/My Drive/Data/data/no spikein data/protein intensities/"
# intitialize loader object for total intensity
loader_total = alphastats.GenericLoader(f"{path}total_dlfq.csv", 
                                  intensity_column = '[Sample]',
                                   index_column="Protein.Group")

# Initialize object for nsp intensity
loader_nsp = alphastats.GenericLoader(f"{path}nsp_dlfq.csv", 
                                  intensity_column = '[Sample]',
                                   index_column="Protein.Group")


# Initialize dataset objects for total and nsp dfs
df_total = alphastats.DataSet(
    loader = loader_total,
    metadata_path = f"G:/My Drive/Data/data/no spikein data/meta.csv",
    sample_column = 'Run')


df_nsp = alphastats.DataSet(
    loader = loader_nsp,
    metadata_path = f"G:/My Drive/Data/data/no spikein data/meta.csv",
    sample_column = 'Run')


# Look at metadata (same for both datasets)
df_total.metadata


df_total.overview()


# Log2 transform data and subset based on metadata
df_total.preprocess(subset=True)


df_nsp.preprocess(subset=True)


df_total.plot_samplehistograms()


df_nsp.plot_samplehistograms() # many 0 values in the df need to be removed


# Distribution plot of total intensity
distribution_plot = df_total.plot_sampledistribution(color='Treatment', method="box")
distribution_plot.update_layout(plot_bgcolor="white", paper_bgcolor="white", height=1200)


# Distribution plot of nsp intensity
distribution_plot = df_nsp.plot_sampledistribution(color='Treatment', method="box")
distribution_plot.update_layout(plot_bgcolor="white", paper_bgcolor="white", height=500)


# PCA of total df
pca = df_total.plot_pca(group='Treatment', circle=True)  #.update_layout(plot_bgcolor="white", paper_bgcolor="white")
pca.update_layout(plot_bgcolor="white", paper_bgcolor="white", height=500)


# PCA of nsp df
pca = df_nsp.plot_pca(group='Treatment', circle=True)  #.update_layout(plot_bgcolor="white", paper_bgcolor="white")
pca.update_layout(plot_bgcolor="white", paper_bgcolor="white", height=500)


plot = df_nsp.plot_intensity(
    method="all",
    protein_id="P02794-FTH1", 
    group="Treatment", # column in metadata
    add_significance=True # add bar with pvalue
    )
plot.update_layout(plot_bgcolor="white", paper_bgcolor="white", height=500)


plot = df_total.plot_intensity(
    method="all",
    protein_id="P11802-CDK4", 
    group="Treatment", # column in metadata
    add_significance=True # add bar with pvalue
    )
plot.update_layout(plot_bgcolor="white", paper_bgcolor="white", height=500)


df_total.preprocess(imputation="knn") # required for dendrogram


df_total.plot_dendrogram().update_layout(plot_bgcolor="white", paper_bgcolor="white", height=500) # need smaller sample labels for plot



