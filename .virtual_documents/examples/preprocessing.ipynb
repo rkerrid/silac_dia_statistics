#preprocessing


from sdia_stats.preprocessing import imputation
from sdia_stats.preprocessing import sample_norm



path = 'G:/My Drive/Data/data/altruism data/silac ineuron compartments/new/'
path = 'G:/My Drive/Data/data/poc4/H/'
path = 'G:/My Drive/Data/data/poc4/N/'


imputation.process_intensities(path, quantification='href')


sample_norm.normalize_samples(path)



