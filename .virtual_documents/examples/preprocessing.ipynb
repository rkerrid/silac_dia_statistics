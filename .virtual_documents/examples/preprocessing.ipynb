#preprocessing


from sdia_stats.preprocessing import imputation
from sdia_stats.preprocessing import sample_norm



path = 'G:/My Drive/Data/data/poc1 statstest/N/'


#imputation.process_intensities(path, quantification='dlfq')


sample_norm.normalize_samples(path)



