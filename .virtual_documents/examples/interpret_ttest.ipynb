


from sdia_stats.visualization.interpret_ttest_results import loop_and_plot_results


path = 'G:/My Drive/Data/data/poc4/N/imputed/normalized/ttest results/'
path = 'G:/My Drive/Data/data/poc4/H/imputed/normalized/ttest results/'


# set pois list to the gene name of the proteins you would like to annotate the plots with
pois = ['FTH1', 'FTL', 'TFRC', 'BRD4', 'CDK6', 'CDK4']
pois = ['FTH1', 'FTL', 'TFRC', 'ACO1', 'IREB2','SLC11A2','CYBRD1', 'ACO2'] # aco1 is ireb1, HFE binds to TFR and reduces afinity to iron loaded transferin, SLC11A2 Essential for maintenance of iron homeostasis by modulating intestinal absorption of dietary Fe2+ and TF-associated endosomal Fe2+ transport in erythroid precursors and other cells (By similarity).
#Enables Fe2+ and Mn2+ ion entry into mitochondria, and is thus expected to promote mitochondrial heme synthesis, iron-sulfur cluster biogenesis and antioxidant defense (also known as dmt1), CYBRD1 Plasma membrane reductase that uses cytoplasmic ascorbate as an electron donor to reduce extracellular Fe3+ into Fe2+ (PubMed:30272000).


# do not run this cell as it overwrites the pois
# curated list of 5'TOP proteins from Cockman et al. 2020 https://www.ncbi.nlm.nih.gov/pmc/articles/PMC7407576/
'''mRNAs encoding proteins require for translation are distinguished by a 5’ Terminal OligoPyrimidine (5’ TOP) motif. 
The 5’ TOP motif begins with a m7G capped C nucleotide followed by a run of approximately 4-15 pyrimidines [9] often followed by a 
G-rich region [10,11] (Table A1). The 5’ TOP motif is highly conserved and is found in all 79 human ribosomal proteins as well as 
non-ribosomal proteins involved in translation including multiple subunits of eIF3, eIF4A, eEF2, and poly(A) binding protein (PABP) [12]. 
This shared TOP motif allows cells to quickly modulate the expression of proteins involved in ribosome production and protein 
synthesis in response to changes in cellular homeostasis.'''
pois = [
    'RPSA', 'RPS2', 'RPS3', 'RPS3A', 'RPS4X', 'RPS4Y', 'RPS5', 'RPS6', 'RPS7', 
    'RPS8', 'RPS9', 'RPS10', 'RPS11', 'RPS12', 'RPS13', 'RPS14', 'RPS15', 'RPS15A', 
    'RPS16', 'RPS17', 'RPS18', 'RPS19', 'RPS20', 'RPS21', 'RPS23', 'RPS24', 'RPS25', 
    'RPS26', 'RPS27', 'RPS27A', 'RPS28', 'RPS29', 'RPS30', 'RPP0', 'RPP1', 'RPP2', 
    'RPL3', 'RPL4', 'RPL5', 'RPL6', 'RPL7', 'RPL7A', 'RPL8', 'RPL9', 'RPL10', 'RPL11', 
    'RPL10A', 'RPL12', 'RPL13', 'RPL13A', 'RPL14', 'RPL15', 'RPL17', 'RPL18', 'RPL18A', 
    'RPL19', 'RPL21', 'RPL22', 'RPL23', 'RPL23A', 'RPL24', 'RPL26', 'RPL27', 'RPL27A', 
    'RPL30', 'RPL31', 'RPL32', 'RPL34', 'RPL35', 'RPL36', 'RPL36A', 'RPL37', 'RPL39', 
    'RPL40', 'RPL41', 'EIF3A', 'EIF3E', 'EIF3F', 'EIF3H', 'EIF4B', 'EEF1A', 'EEF1B2', 
    'EEF1D', 'EEF1G', 'EEF2', 'RACK1', 'PABP', 'HNRNPA1', 'NUCLEOPHOSMIN', 'NAP1L1', 
    'TCTP', 'VIMENTIN'
]
# ribosomal
pois = ['RPSA', 'RPS2', 'RPS3', 'RPS3A', 'RPS4X', 'RPS4Y', 'RPS5', 'RPS6', 'RPS7', 
    'RPS8', 'RPS9', 'RPS10', 'RPS11', 'RPS12', 'RPS13', 'RPS14', 'RPS15', 'RPS15A', 
    'RPS16', 'RPS17', 'RPS18', 'RPS19', 'RPS20', 'RPS21', 'RPS23', 'RPS24', 'RPS25', 
    'RPS26', 'RPS27', 'RPS27A', 'RPS28', 'RPS29', 'RPS30', 'RPP0', 'RPP1', 'RPP2', 
    'RPL3', 'RPL4', 'RPL5', 'RPL6', 'RPL7', 'RPL7A', 'RPL8', 'RPL9', 'RPL10', 'RPL11', 
    'RPL10A', 'RPL12', 'RPL13', 'RPL13A', 'RPL14', 'RPL15', 'RPL17', 'RPL18', 'RPL18A', 
    'RPL19', 'RPL21', 'RPL22', 'RPL23', 'RPL23A', 'RPL24', 'RPL26', 'RPL27', 'RPL27A', 
    'RPL30', 'RPL31', 'RPL32', 'RPL34', 'RPL35', 'RPL36', 'RPL36A', 'RPL37', 'RPL39', 
    'RPL40', 'RPL41']
# non ribosomal
#pois = ['EIF3A', 'EIF3E', 'EIF3F', 'EIF3H', 'EIF4B', 'EEF1A', 'EEF1B2','EEF1D', 'EEF1G', 'EEF2', 'RACK1', 'PABPC1', 'HNRNPA1', 'NPM1', 'NAP1L1','TCTP', 'VIM']

# other proteins of interest
# eIF containing proteins
#pois = ['EIF1', 'EIF2A', 'EIF2AK1', 'EIF2AK2', 'EIF2AK3', 'EIF2AK4', 'EIF2B1', 'EIF2B2', 'EIF2B3', 'EIF2B4', 'EIF2B5', 'EIF2C1', 'EIF2C2', 'EIF2C3', 'EIF2C4', 'EIF2S1', 'EIF2S2', 'EIF2S3', 'EIF3A', 'EIF3B', 'EIF3C', 'EIF3D', 'EIF3E', 'EIF3F', 'EIF3G', 'EIF3H', 'EIF3I', 'EIF3J', 'EIF3K', 'EIF3L', 'EIF3M', 'EIF4A1', 'EIF4A2', 'EIF4A3', 'EIF4B', 'EIF4E2', 'EIF4E3', 'EIF4EBP1', 'EIF4EBP2', 'EIF4EBP3', 'EIF4H', 'EIF5', 'EIF5A', 'EIF5A2', 'EIF5B', 'EIF6']
# knock downs
pois = ['EIF4E','EIF4G1','EIF4G2','EIF4G3','EIF3D']
#pois = ['CDK4', 'CDK6']
#pois = ['FTH1', 'FTL', 'TFRC', 'BRD4', 'CDK4', 'CDK6','EIF4E','EIF4G1','SALL4', 'ZNF827','ZNF692','ZFP91','DTWD1', 'RNF166', 'FAM83F']
#pois = ['SALL4', 'ZNF827','ZNF692','ZFP91','DTWD1', 'RNF166', 'FAM83F']
#pois = ['P02794', 'P02792', 'P02786', 'O60885', 'P11802', 'Q00534']



loop_and_plot_results(path, pois, interactive=False, uniprot=False)



