# clustermap anova


from sdia_stats.visualization import clustermap_anova


path = 'G:/My Drive/Data/data/example poc/H/imputed/normalized/anova_results/control_fac_dfo/'


#samples = ['control_I', 'control_II', 'control_III', 'FAC_I','FAC_II','FAC_III']


clustermap_anova.plot_clustermap(path)






