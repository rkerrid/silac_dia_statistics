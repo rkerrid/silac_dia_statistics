# clustermap anova


from sdia_stats.visualization import clustermap_anova


path = 'G:/My Drive/Data/data/poc4/H/normalized/imputed/anova_results/DFO vs FAC/'
path = 'G:/My Drive/Data/data/eif4g optimization/imputed/normalized/anova_results/26/'
path = 'G:/My Drive/Data/data/poc4/H/normalized/imputed//anova_results/fac v dfo new imputation/'


#samples = ['control_I', 'control_II', 'control_III', 'FAC_I','FAC_II','FAC_III']


clustermap_anova.plot_clustermap(path)






