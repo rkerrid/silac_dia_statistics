


from sdia_stats.statistics.ttest import ttest


path = 'G:/My Drive/Data/data/eif4g optimization/imputed/normalized/'
meta = f'{path}meta.csv'


groups = {'08': ('08a','08c'),
        '18': ('18a','18c'),
         '28':('28a','28c'),
         '26':('26a','26c')}


path = 'G:/My Drive/Data/data/poc4/H/imputed/normalized/'
meta = f'{path}meta.csv'
groups = {'FAC':('FAC','control'),
         'ARV4':('ARV4','control'),
         '4EG1':('4EG1','control'),
         'ARV6':('ARV6','control'),
         'DFO':('DFO','control'),
         'FAC_ARV':('FAC_ARV','control'),
         'FAC_Gu':('FAC_Gu','control'),
         
         'Len1':('Len1','control'),
         'Len10':('Len10','control')
         }


ttest(path, meta, groups)



