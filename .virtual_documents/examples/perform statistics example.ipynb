


from sdia_stats.statistics.ttest import ttest


path = 'G:/My Drive/Data/data/testing pipeline dev/eif4f/imputed/normalized/'
meta = f'{path}meta.csv'


groups = {'E': ('e+8h','e-8h'),
        'G1': ('g1+8h','g1-8h'),
         'G2':('g2+8h','g2-8h'),
         'G3':('g3+8h','g3-8h')}


path = 'G:/My Drive/Data/data/poc 3/Hnew/imputed/normalized/'
meta = f'{path}meta.csv'
groups = {'FAC':('FAC','control'),
         'ARV':('ARV','control'),
         'DFO':('DFO','control'),
         'FACwGu2':('FACwGu2','control')}


ttest(path, meta, groups)



