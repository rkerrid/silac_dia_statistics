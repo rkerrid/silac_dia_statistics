from sdia_stats.statistics import ttest


path = 'G:/My Drive/Data/data/poc1 statstest/H/imputed/'
meta = f'{path}/meta.csv'


groups = {
    "FAC vs control": ("FAC", "control"),
    "Gu vs control": ("gu", "control"),
    "Both vs control": ("both", "control")
}


ttest.ttest(path, meta, groups)



