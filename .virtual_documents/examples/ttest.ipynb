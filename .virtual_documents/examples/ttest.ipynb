


from sdia_stats.statistics import ttest


# Set path to folder containing the imputed and normalized data
path = 'G:/My Drive/Data/data/poc4/H/imputed/'
meta = f'{path}meta.csv'


# Set the treatments you would like to compare using the t-test
groups = {
    "FAC vs control": ('FAC','control')}


ttest.ttest(path, meta, groups)



