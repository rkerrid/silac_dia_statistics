from sdia_stats.statistics import ttest


path = 'G:/My Drive/Data/data/poc 3/N/imputed/'
meta = f'{path}meta.csv'


groups = {
    "FAC vs control": ('FAC','control')}
#"Gu vs control": (["gu_1","gu_2","gu_3"], ["control_1", "control_2","control_3"]),
 #   "Both vs control": (["both_1","both_2","both_3"], ["control_1", "control_2","control_3"])



ttest.ttest(path, meta,groups)



