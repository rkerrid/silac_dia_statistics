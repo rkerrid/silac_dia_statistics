


from sdia_stats.statistics import anova
from sdia_stats.utils.manage_directories import create_directory
import pandas as pd


path = 'G:/My Drive/Data/data/example poc/H/imputed/normalized/'


# subset data
light_df = pd.read_csv(f'{path}light.csv', sep=',')
nsp_df = pd.read_csv(f'{path}nsp.csv', sep=',')

subset_cols = ['Protein.Group','control_I','control_II','control_III','FAC_I','FAC_II','FAC_III','DFO_I','DFO_II','DFO_III']
light_df = light_df[subset_cols]
nsp_df = nsp_df[subset_cols]


# creat new directory for subsetted data to store anova results
create_directory(f'{path}', 'anova_results')
light_df.to_csv(f'{path}/anova_results/light.csv', index=False)
nsp_df.to_csv(f'{path}/anova_results/nsp.csv', index=False)
meta = pd.read_csv(f'{path}meta.csv', sep =',')
meta.to_csv(f'{path}/anova_results/meta.csv', index=False)


group = 'Treatment'


anova.preform_anova(path, group, subset_cols)



