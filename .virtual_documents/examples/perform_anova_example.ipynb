


from sdia_stats.statistics import anova
from sdia_stats.utils.manage_directories import create_directory
import pandas as pd


path = 'G:/My Drive/Data/data/example poc/H/imputed/normalized/'


# subset data
light_df = pd.read_csv(f'{path}light.csv', sep=',')
nsp_df = pd.read_csv(f'{path}nsp.csv', sep=',')
# import meta
meta = pd.read_csv(f'{path}meta.csv', sep =',')
subset_cols = ['Protein.Group','control_I','control_II','control_III','FAC_I','FAC_II','FAC_III','DFO_I','DFO_II','DFO_III']
title = 'control_fac_dfo'
light_df = light_df[subset_cols]
nsp_df = nsp_df[subset_cols]


# creat new directory for subsetted data to store anova results
# create subdirectory for all anova
create_directory(f'{path}', 'anova_results')
path = f'{path}/anova_results/'

# create subdirectory for this analysis
create_directory(f'{path}', title)

# save files to this subdirectory (including copy of metadata
path = f'{path}/{title}/'
light_df.to_csv(f'{path}/light.csv', index=False)
nsp_df.to_csv(f'{path}/nsp.csv', index=False)
meta.to_csv(f'{path}/meta.csv', index=False)


group = 'Treatment'


anova.preform_anova(path, group, subset_cols, title)



