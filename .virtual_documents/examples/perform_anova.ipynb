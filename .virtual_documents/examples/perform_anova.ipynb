# perform anova


from sdia_stats.statistics import anova
import pandas as pd


path = 'G:/My Drive/Data/data/poc4/H/imputed/normalized/'
path = 'G:/My Drive/Data/data/eif4g optimization/imputed/normalized/'
group = 'Treatment'


# subset data
light_df = pd.read_csv(f'{path}light.csv', sep=',')
nsp_df = pd.read_csv(f'{path}nsp.csv', sep=',')
subset_cols = ['Protein.Group','08a_1','08a_2','08a_3','18a_1','18a_2','18a_3','28a_1','28a_2','28a_3']
light_df = light_df[subset_cols]
nsp_df = nsp_df[subset_cols]


light_df.to_csv(f'{path}/for_anova/light.csv', index=False)
nsp_df.to_csv(f'{path}/for_anova/nsp.csv', index=False)


path = 'G:/My Drive/Data/data/eif4g optimization/imputed/normalized/for_anova/'
group = 'Treatment'


anova.preform_anova(path,group, subset_cols)



