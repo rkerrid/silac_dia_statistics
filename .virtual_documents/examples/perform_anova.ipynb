


from sdia_stats.statistics import anova
from sdia_stats.utils.manage_directories import create_directory
import pandas as pd


path = 'G:/My Drive/Data/data/poc4/H/imputed/'
group = 'Treatment'


# subset data
light_df = pd.read_csv(f'{path}light.csv', sep=',')
nsp_df = pd.read_csv(f'{path}nsp.csv', sep=',')

subset_cols = ['Protein.Group','control_1','control_2','control_3','FAC_1','FAC_2','FAC_3','DFO_1','DFO_2','DFO_3']
light_df = light_df[subset_cols]
nsp_df = nsp_df[subset_cols]


# creat new directory for subsetted data to store anova results
create_directory(f'{path}', 'anova_results')
light_df.to_csv(f'{path}/for_anova/light.csv', index=False)
nsp_df.to_csv(f'{path}/for_anova/nsp.csv', index=False)


path = 'G:/My Drive/Data/data/poc4/H/imputed/'anova_results/'
group = 'Treatment'


anova.preform_anova(path, group, subset_cols)



