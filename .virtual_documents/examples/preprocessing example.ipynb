





from sdia_stats.preprocessing import imputation 
from sdia_stats.preprocessing import sample_norm


path = 'G:/My Drive/Data/data/poc4/H/'
path = 'G:/My Drive/Data/data/eif4g optimization/'
#subset = ['e+8h','e-8h', 'g1-8h', 'g1+8h','g2-8h', 'g2+8h','g3-8h', 'g3+8h']
imputation.process_intensities(path, quantification='href') #optional parameters: subset, quantification='href', plot_imputation=False


sample_norm.normalize_samples(path)



