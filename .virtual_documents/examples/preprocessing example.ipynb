





from sdia_stats.preprocessing.imputation import process_intensities
from sdia_stats.preprocessing.sample_norm import normalize_samples


path = 'G:/My Drive/Data/data/testing pipeline dev/eif4f/'
subset = ['e+8h','e-8h', 'g1-8h', 'g1+8h','g2-8h', 'g2+8h','g3-8h', 'g3+8h']
process_intensities(path, subset, quantification='href', plot_imputation=False)


path = 'G:/My Drive/Data/data/eif4g optimization/'
#subset = ['e+8h','e-8h', 'g1-8h', 'g1+8h','g2-8h', 'g2+8h','g3-8h', 'g3+8h']
process_intensities(path, quantification='href', plot_imputation=False)





normalize_samples(path)



