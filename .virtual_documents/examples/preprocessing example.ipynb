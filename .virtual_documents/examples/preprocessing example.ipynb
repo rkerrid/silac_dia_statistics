





from sdia_stats.preprocessing import adapted_imputation 
from sdia_stats.preprocessing import normalize_samples
from sdia_stats.preprocessing import filter_contams_and_non_valid_rows


path = 'G:/My Drive/Data/data/poc4/H/protein intensities/'
path = 'G:/My Drive/Data/data/20240306 eIF 5 lines/3d G3 G2/protein_groups/'
group = {'3D_08-': ['3D_08+'], 
         '3D_28-':['3D_08+']
             }


metadata_path = 'G:/My Drive/Data/data/eif4g optimization/'
filter_contams_and_non_valid_rows.filter_protein_intensities(path, metadata_path, 'href')


normalize_samples.main(path, group)


path = 'G:/My Drive/Data/data/20240306 eIF 5 lines/3d G3 G2/protein_groups/normalized/'
control_samples = list(group.keys())
adapted_imputation.process_intensities(path, control_samples, plot_imputation=True) #optional parameters: subset, quantification='href', plot_imputation=False



