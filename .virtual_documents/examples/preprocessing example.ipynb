





from sdia_stats.preprocessing import adapted_imputation 
from sdia_stats.preprocessing import normalize_samples


path = 'G:/My Drive/Data/data/poc4/H/protein intensities/'
group = {'control': ['FAC', 'DFO', 'ARV4', 'FAC_ARV', 'ARV6','4EG1', 'FAC_Gu', 'Gu2', 'Gu8','Len1', 'Len10']
             }


normalize_samples.main(path, group,'href')


path = 'G:/My Drive/Data/data/poc4/H/normalized/'
adapted_imputation.process_intensities(path, plot_imputation=True) #optional parameters: subset, quantification='href', plot_imputation=False



