


from sdia_stats.statistics import ttest


# Set path to folder containing the imputed and normalized data
path = 'G:/My Drive/Data/data/poc4/H/imputed/normalized/'
#path = 'G:/My Drive/Data/data/poc4/N/imputed/normalized/'
meta = f'{path}meta.csv'


# Set the treatments you would like to compare using the t-test
groups = {
    "FAC vs control": ('FAC','control'),
    "DFO vs control": ('DFO', 'control')}


ttest.ttest(path, meta, groups)



