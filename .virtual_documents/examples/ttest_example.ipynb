


from sdia_stats.statistics import ttest


# Set path to folder containing the imputed and normalized data
path = 'G:/My Drive/Data/data/poc4/H/imputed/normalized/'
#path = 'G:/My Drive/Data/data/poc4/N/imputed/normalized/'
path = 'G:/My Drive/Data/data/poc4/H/normalized/imputed/'
meta = f'{path}meta.csv'


# Set the treatments you would like to compare using the t-test
groups = {
    "FAC vs control": ('FAC','control'),
    "DFO vs control": ('DFO', 'control'),
    "ARV825 vs control": ('ARV6','control'),
    "Gu3340 vs control":('Gu8', 'control'),
    "4EGI-1 vs control":('4EG1','control'),
    "FAC with ARV825 vs control": ('FAC_ARV','control')}



ttest.ttest(path, meta, groups)



