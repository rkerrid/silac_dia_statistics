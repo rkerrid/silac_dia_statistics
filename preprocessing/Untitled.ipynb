{
 "cells": [
  {
   "cell_type": "markdown",
   "id": "1152ae6f-ed54-43f2-899b-efc24d0c0f99",
   "metadata": {},
   "source": [
    "# Imputation and ttest with alphastats"
   ]
  },
  {
   "cell_type": "code",
   "execution_count": null,
   "id": "8d200267-4690-43d2-bba6-0d498820b76b",
   "metadata": {},
   "outputs": [],
   "source": [
    "import alphastats\n"
   ]
  }
 ],
 "metadata": {
  "kernelspec": {
   "display_name": "Python 3 (ipykernel)",
   "language": "python",
   "name": "python3"
  },
  "language_info": {
   "codemirror_mode": {
    "name": "ipython",
    "version": 3
   },
   "file_extension": ".py",
   "mimetype": "text/x-python",
   "name": "python",
   "nbconvert_exporter": "python",
   "pygments_lexer": "ipython3",
   "version": "3.8.18"
  }
 },
 "nbformat": 4,
 "nbformat_minor": 5
}
