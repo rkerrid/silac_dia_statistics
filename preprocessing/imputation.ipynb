{
 "cells": [
  {
   "cell_type": "markdown",
   "id": "9ab4db11-e8a2-43a2-914b-ca6a5e47c81e",
   "metadata": {},
   "source": [
    "# Imputation Script"
   ]
  },
  {
   "cell_type": "markdown",
   "id": "2993b1c7-eb69-487e-a99e-34189291d30c",
   "metadata": {
    "tags": []
   },
   "source": [
    "## Description and usage"
   ]
  },
  {
   "cell_type": "markdown",
   "id": "5934a7bd-8fb5-4118-8eb3-7b1347121a39",
   "metadata": {
    "tags": []
   },
   "source": [
    "Preforms imputation on the total, light, and nsp df output from the silac_dia_tools pipeline. Requires path to root directory (i.e. same path as report.tsv and subfolders) then accesses protein intensity files and meta.csv.\n",
    "If you want to subset the data by taking sets of treatments, you have to pass a subset list containing the treatment names from the treatment column of your metadata.\n"
   ]
  },
  {
   "cell_type": "code",
   "execution_count": 1,
   "id": "9bad3dd2-d08e-4219-93a9-ad3907555f4e",
   "metadata": {
    "tags": []
   },
   "outputs": [],
   "source": [
    "# imports\n",
    "import imputation_script as impute"
   ]
  },
  {
   "cell_type": "code",
   "execution_count": 2,
   "id": "dc26dbb1-9cde-4258-aed2-6e686e78d82c",
   "metadata": {
    "tags": []
   },
   "outputs": [],
   "source": [
    "# path to root directory\n",
    "path = 'G:/My Drive/Data/data/eIF4F pilot/'"
   ]
  },
  {
   "cell_type": "code",
   "execution_count": 3,
   "id": "3086ec11-861b-456c-84c0-ffb172500a4e",
   "metadata": {
    "tags": []
   },
   "outputs": [],
   "source": [
    "# subset of treatments I want to impute\n",
    "subset = ['e+8h','e-8h', 'g1-8h', 'g1+8h','g2-8h', 'g2+8h','g3-8h', 'g3+8h']"
   ]
  },
  {
   "cell_type": "code",
   "execution_count": 4,
   "id": "73c55bab-3c12-47c1-b3b7-1e54af1480d8",
   "metadata": {
    "tags": []
   },
   "outputs": [
    {
     "name": "stderr",
     "output_type": "stream",
     "text": [
      "C:\\phd projects\\silac_dia_statistics\\preprocessing\\imputation_script.py:50: SettingWithCopyWarning: \n",
      "A value is trying to be set on a copy of a slice from a DataFrame\n",
      "\n",
      "See the caveats in the documentation: https://pandas.pydata.org/pandas-docs/stable/user_guide/indexing.html#returning-a-view-versus-a-copy\n",
      "  df.drop('keep_row', axis=1, inplace=True)\n",
      "C:\\phd projects\\silac_dia_statistics\\preprocessing\\imputation_script.py:50: SettingWithCopyWarning: \n",
      "A value is trying to be set on a copy of a slice from a DataFrame\n",
      "\n",
      "See the caveats in the documentation: https://pandas.pydata.org/pandas-docs/stable/user_guide/indexing.html#returning-a-view-versus-a-copy\n",
      "  df.drop('keep_row', axis=1, inplace=True)\n",
      "C:\\phd projects\\silac_dia_statistics\\preprocessing\\imputation_script.py:50: SettingWithCopyWarning: \n",
      "A value is trying to be set on a copy of a slice from a DataFrame\n",
      "\n",
      "See the caveats in the documentation: https://pandas.pydata.org/pandas-docs/stable/user_guide/indexing.html#returning-a-view-versus-a-copy\n",
      "  df.drop('keep_row', axis=1, inplace=True)\n"
     ]
    },
    {
     "name": "stdout",
     "output_type": "stream",
     "text": [
      "Folder reports already exists at G:/My Drive/Data/data/eIF4F pilot/imputed\n"
     ]
    }
   ],
   "source": [
    "impute.process_intensities(path, subset, quantification='href', plot_imputation=False)\n",
    " \n",
    "#nsp = pd.read_csv(f\"{path}imputed/nsp.csv\")\n",
    "#total = pd.read_csv(f\"{path}imputed/total.csv\")\n",
    "#light = pd.read_csv(f\"{path}imputed/light.csv\")"
   ]
  },
  {
   "cell_type": "code",
   "execution_count": null,
   "id": "979356a0-72e6-4b7c-8bde-661e6bf186c1",
   "metadata": {},
   "outputs": [],
   "source": []
  }
 ],
 "metadata": {
  "kernelspec": {
   "display_name": "Python 3 (ipykernel)",
   "language": "python",
   "name": "python3"
  },
  "language_info": {
   "codemirror_mode": {
    "name": "ipython",
    "version": 3
   },
   "file_extension": ".py",
   "mimetype": "text/x-python",
   "name": "python",
   "nbconvert_exporter": "python",
   "pygments_lexer": "ipython3",
   "version": "3.8.18"
  }
 },
 "nbformat": 4,
 "nbformat_minor": 5
}
