{
 "cells": [
  {
   "cell_type": "code",
   "execution_count": 1,
   "id": "664242e6-11e2-4706-9ea9-2b862fbe07e5",
   "metadata": {
    "tags": []
   },
   "outputs": [],
   "source": [
    "import pandas as pd"
   ]
  },
  {
   "cell_type": "code",
   "execution_count": 3,
   "id": "cfa702a5-2dcd-4bf4-abfd-ee85fb685c83",
   "metadata": {
    "tags": []
   },
   "outputs": [],
   "source": [
    "df = pd.read_csv('G:/My Drive/Data/data/eIF4F pilot/preprocessing/protein_ratios.csv', sep=',')"
   ]
  },
  {
   "cell_type": "code",
   "execution_count": 4,
   "id": "1e2b7a37-28ee-4c7b-ab24-33790edcae4d",
   "metadata": {
    "tags": []
   },
   "outputs": [
    {
     "data": {
      "text/html": [
       "<div>\n",
       "<style scoped>\n",
       "    .dataframe tbody tr th:only-of-type {\n",
       "        vertical-align: middle;\n",
       "    }\n",
       "\n",
       "    .dataframe tbody tr th {\n",
       "        vertical-align: top;\n",
       "    }\n",
       "\n",
       "    .dataframe thead th {\n",
       "        text-align: right;\n",
       "    }\n",
       "</style>\n",
       "<table border=\"1\" class=\"dataframe\">\n",
       "  <thead>\n",
       "    <tr style=\"text-align: right;\">\n",
       "      <th></th>\n",
       "      <th>\\tRun\\tProtein.Group\\tStripped.Sequence\\tPrecursor.Id\\tPrecursor.Charge\\tLib.PG.Q.Value\\tPrecursor.Quantity\\tPrecursor.Translated\\tMs1.Translated\\tLabel\\tPrecursor</th>\n",
       "    </tr>\n",
       "  </thead>\n",
       "  <tbody>\n",
       "    <tr>\n",
       "      <th>0</th>\n",
       "      <td>0\\teIF4G3+ 2h 1\\tP0CG40-SP9\\tAAAAAAAAAAAAAAAAS...</td>\n",
       "    </tr>\n",
       "    <tr>\n",
       "      <th>1</th>\n",
       "      <td>1\\teIF4G3+ 2h 2\\tP0CG40-SP9\\tAAAAAAAAAAAAAAAAS...</td>\n",
       "    </tr>\n",
       "    <tr>\n",
       "      <th>2</th>\n",
       "      <td>2\\teIF4G1- 2h 2\\tP0CG40-SP9\\tAAAAAAAAAAAAAAAAS...</td>\n",
       "    </tr>\n",
       "    <tr>\n",
       "      <th>3</th>\n",
       "      <td>3\\teIF4E+ 2h 1\\tQ96JP5-ZFP91\\tAAAAAAAAAVSR\\tAA...</td>\n",
       "    </tr>\n",
       "    <tr>\n",
       "      <th>4</th>\n",
       "      <td>4\\teIF4E+ 2h 2\\tQ96JP5-ZFP91\\tAAAAAAAAAVSR\\tAA...</td>\n",
       "    </tr>\n",
       "  </tbody>\n",
       "</table>\n",
       "</div>"
      ],
      "text/plain": [
       "  \\tRun\\tProtein.Group\\tStripped.Sequence\\tPrecursor.Id\\tPrecursor.Charge\\tLib.PG.Q.Value\\tPrecursor.Quantity\\tPrecursor.Translated\\tMs1.Translated\\tLabel\\tPrecursor\n",
       "0  0\\teIF4G3+ 2h 1\\tP0CG40-SP9\\tAAAAAAAAAAAAAAAAS...                                                                                                                 \n",
       "1  1\\teIF4G3+ 2h 2\\tP0CG40-SP9\\tAAAAAAAAAAAAAAAAS...                                                                                                                 \n",
       "2  2\\teIF4G1- 2h 2\\tP0CG40-SP9\\tAAAAAAAAAAAAAAAAS...                                                                                                                 \n",
       "3  3\\teIF4E+ 2h 1\\tQ96JP5-ZFP91\\tAAAAAAAAAVSR\\tAA...                                                                                                                 \n",
       "4  4\\teIF4E+ 2h 2\\tQ96JP5-ZFP91\\tAAAAAAAAAVSR\\tAA...                                                                                                                 "
      ]
     },
     "execution_count": 4,
     "metadata": {},
     "output_type": "execute_result"
    }
   ],
   "source": [
    "df.head()"
   ]
  },
  {
   "cell_type": "code",
   "execution_count": null,
   "id": "18bd03f8-8b4d-431f-9bc7-825e53009aa7",
   "metadata": {},
   "outputs": [],
   "source": []
  }
 ],
 "metadata": {
  "kernelspec": {
   "display_name": "Python 3 (ipykernel)",
   "language": "python",
   "name": "python3"
  },
  "language_info": {
   "codemirror_mode": {
    "name": "ipython",
    "version": 3
   },
   "file_extension": ".py",
   "mimetype": "text/x-python",
   "name": "python",
   "nbconvert_exporter": "python",
   "pygments_lexer": "ipython3",
   "version": "3.8.18"
  }
 },
 "nbformat": 4,
 "nbformat_minor": 5
}
